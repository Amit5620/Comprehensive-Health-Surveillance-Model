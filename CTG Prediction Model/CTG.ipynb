{
 "cells": [
  {
   "cell_type": "markdown",
   "metadata": {},
   "source": [
    "This notebook implements numerous classifiers for the UCI cardiotocography data set."
   ]
  },
  {
   "cell_type": "markdown",
   "metadata": {},
   "source": [
    "# Introduction\n",
    "Cardiotocography (CTG) is a technique to record fetal heartbeat and uterine contractions during pregnancy. It is typically used in the third trimester, in which the fetus is prone to sudden drops in oxygen supply (hypoxia). This can lead to death and long-term disability. Based on CTG data, doctors decide whether to perform an intervention, such as a Caesarian section. Doctors typically look at CTG results that have already gone through a signal processing algorithm, and make their decision based on this summary and their medical expertise. \n",
    "\n",
    "In this notebook, we aim to predict fetal health status from raw CTG data. The proposed predictive model can help doctors' decision process by providing a simple binary classification of the fetus' status: normal or suspect/pathological. The goal of this study is therefore not to automate diagnosis but to provide an additional piece of information that might prevent doctors from prescribing unnecessary C-sections or, even worse, fail to intervene when the fetus is in distress.\n",
    "\n",
    "The notebook implements and gives a brief theoretical overview over different classifiers, including elastic-net penalized logistic regression, support vector machines (SVM), random forests, and boosted decision trees. It also discusses the 'proper' way to do cross-validation and touches upon how to deal with imbalanced data. Finally, I present stacking the different proposed models as a way to optimize performance in this high-stakes predictive problem."
   ]
  },
  {
   "cell_type": "markdown",
   "metadata": {},
   "source": [
    "# Data\n",
    "The CTG data set is publicly available from the UCI Machine Learning repository. The data contains the diagnostic features of 3954 fetal cardiotocograms. The data also contains classification labels assigned by expert obstetricians, who classify 1318 cases as normal, 1318 cases as suspicious and 1318 cases as pathologic. Here is a first look at the data:"
   ]
  },
  {
   "cell_type": "markdown",
   "metadata": {},
   "source": [
    "## About Dataset\n",
    "### Features:\n",
    "\n",
    "- LB: baseline value (SisPorto)\n",
    "- AC: accelerations (SisPorto)\n",
    "- FM: foetal movement (SisPorto)\n",
    "- UC: uterine contractions (SisPorto)\n",
    "- ASTV: percentage of time with abnormal short term variability (SisPorto)\n",
    "- MSTV: mean value of short term variability (SisPorto)\n",
    "- ALTV: percentage of time with abnormal long term variability (SisPorto)\n",
    "- MLTV: mean value of long term variability (SisPorto)\n",
    "- DL: light decelerations\n",
    "- DS: severe decelerations\n",
    "- DP: prolongued decelerations\n",
    "- Width: histogram width\n",
    "- Min: low freq. of the histogram\n",
    "- Max: high freq. of the histogram\n",
    "- Nmax: number of histogram peaks\n",
    "- Nzeros: number of histogram zeros\n",
    "- Mode: histogram mode\n",
    "- Mean: histogram mean\n",
    "- Median: histogram median\n",
    "- Variance: histogram variance\n",
    "- Tendency: histogram tendency: -1=left assymetric; 0=symmetric; 1=right assymetric\n",
    "- CLASS: Class code (1 to 10) for classes A to SUSP\n",
    "- NSP:- Normal=1; Suspect=2; Pathologic=3"
   ]
  },
  {
   "cell_type": "code",
   "execution_count": 1,
   "metadata": {
    "execution": {
     "iopub.execute_input": "2023-09-10T06:04:30.137021Z",
     "iopub.status.busy": "2023-09-10T06:04:30.136288Z",
     "iopub.status.idle": "2023-09-10T06:04:30.14893Z",
     "shell.execute_reply": "2023-09-10T06:04:30.147772Z",
     "shell.execute_reply.started": "2023-09-10T06:04:30.136975Z"
    },
    "id": "CLQ5iE5dArIX"
   },
   "outputs": [],
   "source": [
    "import numpy as np\n",
    "import pandas as pd\n",
    "import matplotlib.pyplot as plt\n",
    "import seaborn as sns\n",
    "from scipy.io import arff\n",
    "from sklearn.model_selection import train_test_split\n",
    "\n",
    "from sklearn.metrics import accuracy_score, recall_score, precision_score, confusion_matrix, f1_score, classification_report\n",
    "\n",
    "import imblearn\n",
    "import copy\n",
    "import sklearn\n",
    "from sklearn.inspection import permutation_importance\n",
    "from sklearn.impute import KNNImputer\n",
    "import lightgbm as lgb\n",
    "\n",
    "seed=42"
   ]
  },
  {
   "cell_type": "code",
   "execution_count": 2,
   "metadata": {},
   "outputs": [],
   "source": [
    "pd.set_option('display.max_columns', None)\n",
    "pd.set_option('display.max_rows', None)"
   ]
  },
  {
   "cell_type": "code",
   "execution_count": 3,
   "metadata": {
    "execution": {
     "iopub.execute_input": "2023-09-10T06:04:30.188894Z",
     "iopub.status.busy": "2023-09-10T06:04:30.188119Z",
     "iopub.status.idle": "2023-09-10T06:04:31.135468Z",
     "shell.execute_reply": "2023-09-10T06:04:31.134515Z",
     "shell.execute_reply.started": "2023-09-10T06:04:30.188843Z"
    }
   },
   "outputs": [],
   "source": [
    "df = pd.read_csv('ctg_balanced_data.csv')"
   ]
  },
  {
   "cell_type": "code",
   "execution_count": 4,
   "metadata": {},
   "outputs": [
    {
     "data": {
      "text/plain": [
       "(3954, 23)"
      ]
     },
     "execution_count": 4,
     "metadata": {},
     "output_type": "execute_result"
    }
   ],
   "source": [
    "df.shape"
   ]
  },
  {
   "cell_type": "code",
   "execution_count": 5,
   "metadata": {},
   "outputs": [
    {
     "data": {
      "text/html": [
       "<div>\n",
       "<style scoped>\n",
       "    .dataframe tbody tr th:only-of-type {\n",
       "        vertical-align: middle;\n",
       "    }\n",
       "\n",
       "    .dataframe tbody tr th {\n",
       "        vertical-align: top;\n",
       "    }\n",
       "\n",
       "    .dataframe thead th {\n",
       "        text-align: right;\n",
       "    }\n",
       "</style>\n",
       "<table border=\"1\" class=\"dataframe\">\n",
       "  <thead>\n",
       "    <tr style=\"text-align: right;\">\n",
       "      <th></th>\n",
       "      <th>LB</th>\n",
       "      <th>AC.1</th>\n",
       "      <th>FM.1</th>\n",
       "      <th>UC.1</th>\n",
       "      <th>DL.1</th>\n",
       "      <th>DS.1</th>\n",
       "      <th>DP.1</th>\n",
       "      <th>ASTV</th>\n",
       "      <th>MSTV</th>\n",
       "      <th>ALTV</th>\n",
       "      <th>MLTV</th>\n",
       "      <th>Width</th>\n",
       "      <th>Min</th>\n",
       "      <th>Max</th>\n",
       "      <th>Nmax</th>\n",
       "      <th>Nzeros</th>\n",
       "      <th>Mode</th>\n",
       "      <th>Mean</th>\n",
       "      <th>Median</th>\n",
       "      <th>Variance</th>\n",
       "      <th>Tendency</th>\n",
       "      <th>CLASS</th>\n",
       "      <th>NSP</th>\n",
       "    </tr>\n",
       "  </thead>\n",
       "  <tbody>\n",
       "    <tr>\n",
       "      <th>1563</th>\n",
       "      <td>123.000000</td>\n",
       "      <td>0.008340</td>\n",
       "      <td>0.000000</td>\n",
       "      <td>0.004170</td>\n",
       "      <td>0.000000</td>\n",
       "      <td>0.0</td>\n",
       "      <td>0.000000</td>\n",
       "      <td>39.000000</td>\n",
       "      <td>2.100000</td>\n",
       "      <td>0.000000</td>\n",
       "      <td>21.300000</td>\n",
       "      <td>88.000000</td>\n",
       "      <td>58.000000</td>\n",
       "      <td>146.000000</td>\n",
       "      <td>7.000000</td>\n",
       "      <td>0.000000</td>\n",
       "      <td>127.000000</td>\n",
       "      <td>127.000000</td>\n",
       "      <td>129.000000</td>\n",
       "      <td>14.000000</td>\n",
       "      <td>1.000000</td>\n",
       "      <td>2.000000</td>\n",
       "      <td>1</td>\n",
       "    </tr>\n",
       "    <tr>\n",
       "      <th>571</th>\n",
       "      <td>154.000000</td>\n",
       "      <td>0.000000</td>\n",
       "      <td>0.000000</td>\n",
       "      <td>0.003914</td>\n",
       "      <td>0.000000</td>\n",
       "      <td>0.0</td>\n",
       "      <td>0.000000</td>\n",
       "      <td>65.000000</td>\n",
       "      <td>0.900000</td>\n",
       "      <td>0.000000</td>\n",
       "      <td>13.400000</td>\n",
       "      <td>92.000000</td>\n",
       "      <td>74.000000</td>\n",
       "      <td>166.000000</td>\n",
       "      <td>2.000000</td>\n",
       "      <td>0.000000</td>\n",
       "      <td>156.000000</td>\n",
       "      <td>158.000000</td>\n",
       "      <td>159.000000</td>\n",
       "      <td>2.000000</td>\n",
       "      <td>1.000000</td>\n",
       "      <td>10.000000</td>\n",
       "      <td>2</td>\n",
       "    </tr>\n",
       "    <tr>\n",
       "      <th>2254</th>\n",
       "      <td>136.764883</td>\n",
       "      <td>0.000912</td>\n",
       "      <td>0.000000</td>\n",
       "      <td>0.005251</td>\n",
       "      <td>0.000000</td>\n",
       "      <td>0.0</td>\n",
       "      <td>0.000000</td>\n",
       "      <td>61.000000</td>\n",
       "      <td>0.423512</td>\n",
       "      <td>45.705350</td>\n",
       "      <td>5.781839</td>\n",
       "      <td>24.116051</td>\n",
       "      <td>130.883949</td>\n",
       "      <td>155.000000</td>\n",
       "      <td>3.645817</td>\n",
       "      <td>0.000000</td>\n",
       "      <td>142.000000</td>\n",
       "      <td>140.000000</td>\n",
       "      <td>141.764883</td>\n",
       "      <td>0.470233</td>\n",
       "      <td>0.000000</td>\n",
       "      <td>10.000000</td>\n",
       "      <td>2</td>\n",
       "    </tr>\n",
       "    <tr>\n",
       "      <th>3885</th>\n",
       "      <td>133.000000</td>\n",
       "      <td>0.000000</td>\n",
       "      <td>0.000000</td>\n",
       "      <td>0.011185</td>\n",
       "      <td>0.002156</td>\n",
       "      <td>0.0</td>\n",
       "      <td>0.001962</td>\n",
       "      <td>60.000000</td>\n",
       "      <td>3.000000</td>\n",
       "      <td>0.000000</td>\n",
       "      <td>0.000000</td>\n",
       "      <td>100.207308</td>\n",
       "      <td>58.000000</td>\n",
       "      <td>158.207308</td>\n",
       "      <td>4.458187</td>\n",
       "      <td>0.000000</td>\n",
       "      <td>125.000000</td>\n",
       "      <td>95.541813</td>\n",
       "      <td>104.083626</td>\n",
       "      <td>84.040056</td>\n",
       "      <td>0.000000</td>\n",
       "      <td>8.000000</td>\n",
       "      <td>3</td>\n",
       "    </tr>\n",
       "    <tr>\n",
       "      <th>3093</th>\n",
       "      <td>150.000000</td>\n",
       "      <td>0.000000</td>\n",
       "      <td>0.024124</td>\n",
       "      <td>0.000000</td>\n",
       "      <td>0.000000</td>\n",
       "      <td>0.0</td>\n",
       "      <td>0.000000</td>\n",
       "      <td>79.000000</td>\n",
       "      <td>0.200000</td>\n",
       "      <td>84.000000</td>\n",
       "      <td>2.800000</td>\n",
       "      <td>5.000000</td>\n",
       "      <td>147.000000</td>\n",
       "      <td>152.000000</td>\n",
       "      <td>1.000000</td>\n",
       "      <td>0.000000</td>\n",
       "      <td>150.000000</td>\n",
       "      <td>149.000000</td>\n",
       "      <td>151.000000</td>\n",
       "      <td>0.000000</td>\n",
       "      <td>0.000000</td>\n",
       "      <td>9.000000</td>\n",
       "      <td>3</td>\n",
       "    </tr>\n",
       "    <tr>\n",
       "      <th>1669</th>\n",
       "      <td>131.000000</td>\n",
       "      <td>0.008008</td>\n",
       "      <td>0.003003</td>\n",
       "      <td>0.002002</td>\n",
       "      <td>0.000000</td>\n",
       "      <td>0.0</td>\n",
       "      <td>0.000000</td>\n",
       "      <td>53.000000</td>\n",
       "      <td>1.800000</td>\n",
       "      <td>0.000000</td>\n",
       "      <td>3.200000</td>\n",
       "      <td>60.000000</td>\n",
       "      <td>109.000000</td>\n",
       "      <td>169.000000</td>\n",
       "      <td>7.000000</td>\n",
       "      <td>0.000000</td>\n",
       "      <td>150.000000</td>\n",
       "      <td>143.000000</td>\n",
       "      <td>147.000000</td>\n",
       "      <td>14.000000</td>\n",
       "      <td>0.000000</td>\n",
       "      <td>2.000000</td>\n",
       "      <td>1</td>\n",
       "    </tr>\n",
       "    <tr>\n",
       "      <th>2609</th>\n",
       "      <td>140.091982</td>\n",
       "      <td>0.000000</td>\n",
       "      <td>0.000000</td>\n",
       "      <td>0.000028</td>\n",
       "      <td>0.000014</td>\n",
       "      <td>0.0</td>\n",
       "      <td>0.000000</td>\n",
       "      <td>63.831367</td>\n",
       "      <td>0.503066</td>\n",
       "      <td>37.107312</td>\n",
       "      <td>7.607665</td>\n",
       "      <td>75.908018</td>\n",
       "      <td>84.137972</td>\n",
       "      <td>160.045991</td>\n",
       "      <td>4.984670</td>\n",
       "      <td>0.015330</td>\n",
       "      <td>141.245284</td>\n",
       "      <td>140.183963</td>\n",
       "      <td>142.214624</td>\n",
       "      <td>1.107312</td>\n",
       "      <td>1.000000</td>\n",
       "      <td>9.923349</td>\n",
       "      <td>2</td>\n",
       "    </tr>\n",
       "    <tr>\n",
       "      <th>475</th>\n",
       "      <td>132.000000</td>\n",
       "      <td>0.000000</td>\n",
       "      <td>0.000000</td>\n",
       "      <td>0.008596</td>\n",
       "      <td>0.000000</td>\n",
       "      <td>0.0</td>\n",
       "      <td>0.000000</td>\n",
       "      <td>33.000000</td>\n",
       "      <td>1.000000</td>\n",
       "      <td>0.000000</td>\n",
       "      <td>14.500000</td>\n",
       "      <td>39.000000</td>\n",
       "      <td>111.000000</td>\n",
       "      <td>150.000000</td>\n",
       "      <td>2.000000</td>\n",
       "      <td>1.000000</td>\n",
       "      <td>133.000000</td>\n",
       "      <td>132.000000</td>\n",
       "      <td>134.000000</td>\n",
       "      <td>3.000000</td>\n",
       "      <td>0.000000</td>\n",
       "      <td>1.000000</td>\n",
       "      <td>1</td>\n",
       "    </tr>\n",
       "    <tr>\n",
       "      <th>2710</th>\n",
       "      <td>136.061153</td>\n",
       "      <td>0.000000</td>\n",
       "      <td>0.002650</td>\n",
       "      <td>0.000000</td>\n",
       "      <td>0.000000</td>\n",
       "      <td>0.0</td>\n",
       "      <td>0.000000</td>\n",
       "      <td>78.175539</td>\n",
       "      <td>0.200000</td>\n",
       "      <td>41.587769</td>\n",
       "      <td>5.417554</td>\n",
       "      <td>17.000000</td>\n",
       "      <td>128.000000</td>\n",
       "      <td>145.000000</td>\n",
       "      <td>1.587769</td>\n",
       "      <td>0.412231</td>\n",
       "      <td>137.885615</td>\n",
       "      <td>137.473384</td>\n",
       "      <td>138.885615</td>\n",
       "      <td>0.587769</td>\n",
       "      <td>0.412231</td>\n",
       "      <td>10.000000</td>\n",
       "      <td>2</td>\n",
       "    </tr>\n",
       "    <tr>\n",
       "      <th>115</th>\n",
       "      <td>146.000000</td>\n",
       "      <td>0.000388</td>\n",
       "      <td>0.000000</td>\n",
       "      <td>0.005045</td>\n",
       "      <td>0.001940</td>\n",
       "      <td>0.0</td>\n",
       "      <td>0.000000</td>\n",
       "      <td>52.000000</td>\n",
       "      <td>0.800000</td>\n",
       "      <td>32.000000</td>\n",
       "      <td>8.600000</td>\n",
       "      <td>72.000000</td>\n",
       "      <td>93.000000</td>\n",
       "      <td>165.000000</td>\n",
       "      <td>3.000000</td>\n",
       "      <td>0.000000</td>\n",
       "      <td>152.000000</td>\n",
       "      <td>147.000000</td>\n",
       "      <td>151.000000</td>\n",
       "      <td>9.000000</td>\n",
       "      <td>1.000000</td>\n",
       "      <td>1.000000</td>\n",
       "      <td>1</td>\n",
       "    </tr>\n",
       "  </tbody>\n",
       "</table>\n",
       "</div>"
      ],
      "text/plain": [
       "              LB      AC.1      FM.1      UC.1      DL.1  DS.1      DP.1  \\\n",
       "1563  123.000000  0.008340  0.000000  0.004170  0.000000   0.0  0.000000   \n",
       "571   154.000000  0.000000  0.000000  0.003914  0.000000   0.0  0.000000   \n",
       "2254  136.764883  0.000912  0.000000  0.005251  0.000000   0.0  0.000000   \n",
       "3885  133.000000  0.000000  0.000000  0.011185  0.002156   0.0  0.001962   \n",
       "3093  150.000000  0.000000  0.024124  0.000000  0.000000   0.0  0.000000   \n",
       "1669  131.000000  0.008008  0.003003  0.002002  0.000000   0.0  0.000000   \n",
       "2609  140.091982  0.000000  0.000000  0.000028  0.000014   0.0  0.000000   \n",
       "475   132.000000  0.000000  0.000000  0.008596  0.000000   0.0  0.000000   \n",
       "2710  136.061153  0.000000  0.002650  0.000000  0.000000   0.0  0.000000   \n",
       "115   146.000000  0.000388  0.000000  0.005045  0.001940   0.0  0.000000   \n",
       "\n",
       "           ASTV      MSTV       ALTV       MLTV       Width         Min  \\\n",
       "1563  39.000000  2.100000   0.000000  21.300000   88.000000   58.000000   \n",
       "571   65.000000  0.900000   0.000000  13.400000   92.000000   74.000000   \n",
       "2254  61.000000  0.423512  45.705350   5.781839   24.116051  130.883949   \n",
       "3885  60.000000  3.000000   0.000000   0.000000  100.207308   58.000000   \n",
       "3093  79.000000  0.200000  84.000000   2.800000    5.000000  147.000000   \n",
       "1669  53.000000  1.800000   0.000000   3.200000   60.000000  109.000000   \n",
       "2609  63.831367  0.503066  37.107312   7.607665   75.908018   84.137972   \n",
       "475   33.000000  1.000000   0.000000  14.500000   39.000000  111.000000   \n",
       "2710  78.175539  0.200000  41.587769   5.417554   17.000000  128.000000   \n",
       "115   52.000000  0.800000  32.000000   8.600000   72.000000   93.000000   \n",
       "\n",
       "             Max      Nmax    Nzeros        Mode        Mean      Median  \\\n",
       "1563  146.000000  7.000000  0.000000  127.000000  127.000000  129.000000   \n",
       "571   166.000000  2.000000  0.000000  156.000000  158.000000  159.000000   \n",
       "2254  155.000000  3.645817  0.000000  142.000000  140.000000  141.764883   \n",
       "3885  158.207308  4.458187  0.000000  125.000000   95.541813  104.083626   \n",
       "3093  152.000000  1.000000  0.000000  150.000000  149.000000  151.000000   \n",
       "1669  169.000000  7.000000  0.000000  150.000000  143.000000  147.000000   \n",
       "2609  160.045991  4.984670  0.015330  141.245284  140.183963  142.214624   \n",
       "475   150.000000  2.000000  1.000000  133.000000  132.000000  134.000000   \n",
       "2710  145.000000  1.587769  0.412231  137.885615  137.473384  138.885615   \n",
       "115   165.000000  3.000000  0.000000  152.000000  147.000000  151.000000   \n",
       "\n",
       "       Variance  Tendency      CLASS  NSP  \n",
       "1563  14.000000  1.000000   2.000000    1  \n",
       "571    2.000000  1.000000  10.000000    2  \n",
       "2254   0.470233  0.000000  10.000000    2  \n",
       "3885  84.040056  0.000000   8.000000    3  \n",
       "3093   0.000000  0.000000   9.000000    3  \n",
       "1669  14.000000  0.000000   2.000000    1  \n",
       "2609   1.107312  1.000000   9.923349    2  \n",
       "475    3.000000  0.000000   1.000000    1  \n",
       "2710   0.587769  0.412231  10.000000    2  \n",
       "115    9.000000  1.000000   1.000000    1  "
      ]
     },
     "execution_count": 5,
     "metadata": {},
     "output_type": "execute_result"
    }
   ],
   "source": [
    "df.sample(10)"
   ]
  },
  {
   "cell_type": "markdown",
   "metadata": {},
   "source": [
    "First, we transform the three-class expert classification (variable 'NSP') to only two classes, normal and suspect/pathologic. This is in line with the idea of an algorithm that can quickly alert doctors to take a second look at their decision, rather than produce a full diagnosis. It also has the advantage of making this a binary classification problem, which is in many ways easier to deal with. The resulting class distribution is considerably imbalanced, with $77.8$ percent of observations belonging to the normal class."
   ]
  },
  {
   "cell_type": "markdown",
   "metadata": {},
   "source": [
    "# EDA"
   ]
  },
  {
   "cell_type": "code",
   "execution_count": 6,
   "metadata": {},
   "outputs": [
    {
     "data": {
      "text/plain": [
       "1    1318\n",
       "2    1318\n",
       "3    1318\n",
       "Name: NSP, dtype: int64"
      ]
     },
     "execution_count": 6,
     "metadata": {},
     "output_type": "execute_result"
    }
   ],
   "source": [
    "df['NSP'].value_counts()"
   ]
  },
  {
   "cell_type": "code",
   "execution_count": 7,
   "metadata": {},
   "outputs": [
    {
     "data": {
      "text/plain": [
       "[Text(-1, 0, 'normal'), Text(0, 0, 'suspect'), Text(1, 0, 'pathological')]"
      ]
     },
     "execution_count": 7,
     "metadata": {},
     "output_type": "execute_result"
    },
    {
     "data": {
      "image/png": "[encoded data removed]",
      "text/plain": [
       "<Figure size 640x480 with 1 Axes>"
      ]
     },
     "metadata": {},
     "output_type": "display_data"
    }
   ],
   "source": [
    "# Make binary outcome variable (normal, suspect, pathological)\n",
    "df['status'] = np.where(df.NSP == 1, -1, 1)  # recodes normal to -1\n",
    "df['status'] = np.where(df.NSP == 2, 0, df['status'])  # recodes suspect to 0\n",
    "# You can adjust this based on the actual values of the 'pathological' class in your dataset\n",
    "df['status'] = np.where(df.NSP == 3, 1, df['status'])  # recodes pathological to 1\n",
    "\n",
    "# Plot histogram\n",
    "fig, ax = plt.subplots(1, 1)\n",
    "df.status.hist()\n",
    "class_names = ['normal', 'suspect', 'pathological']\n",
    "ax.set_xticks([-1, 0, 1])\n",
    "ax.set_xticklabels(class_names)"
   ]
  },
  {
   "cell_type": "code",
   "execution_count": 8,
   "metadata": {},
   "outputs": [
    {
     "name": "stdout",
     "output_type": "stream",
     "text": [
      "Shape of the data (3954, 24)\n"
     ]
    }
   ],
   "source": [
    "print(\"Shape of the data\", df.shape)"
   ]
  },
  {
   "cell_type": "code",
   "execution_count": 9,
   "metadata": {},
   "outputs": [
    {
     "name": "stderr",
     "output_type": "stream",
     "text": [
      "C:\\Users\\mamit\\AppData\\Local\\Temp\\ipykernel_10204\\3214354978.py:4: UserWarning: To output multiple subplots, the figure containing the passed axes is being cleared.\n",
      "  df_X.hist(ax=ax)\n"
     ]
    },
    {
     "data": {
      "image/png": "[encoded data removed]",
      "text/plain": [
       "<Figure size 1500x1500 with 25 Axes>"
      ]
     },
     "metadata": {},
     "output_type": "display_data"
    }
   ],
   "source": [
    "# Histogram for all features\n",
    "df_X = df.drop(columns=['NSP', 'status'])\n",
    "fig, ax = plt.subplots(1, 1, figsize=(15, 15))\n",
    "df_X.hist(ax=ax)\n",
    "plt.show()"
   ]
  },
  {
   "cell_type": "code",
   "execution_count": 10,
   "metadata": {},
   "outputs": [
    {
     "name": "stdout",
     "output_type": "stream",
     "text": [
      "Number of missing values:  0\n"
     ]
    }
   ],
   "source": [
    "print('Number of missing values: ', df.isnull().sum().sum())  # check for missing"
   ]
  },
  {
   "cell_type": "markdown",
   "metadata": {},
   "source": [
    "Fortunately, we have no missing values in this data set. However, an important problem in medical monitoring is measurement error. Let's make a scaled boxplot of our features:"
   ]
  },
  {
   "cell_type": "code",
   "execution_count": 11,
   "metadata": {},
   "outputs": [
    {
     "data": {
      "image/png": "[encoded data removed]",
      "text/plain": [
       "<Figure size 1000x1000 with 1 Axes>"
      ]
     },
     "metadata": {},
     "output_type": "display_data"
    }
   ],
   "source": [
    "# Boxplots for feature distributions\n",
    "fig, ax = plt.subplots(1, 1, figsize=(10, 10))\n",
    "df_scale_X = pd.DataFrame(sklearn.preprocessing.scale(df_X), columns=df_X.columns)\n",
    "df_scale_X.boxplot(ax=ax, rot=45)\n",
    "plt.show()"
   ]
  },
  {
   "cell_type": "markdown",
   "metadata": {},
   "source": [
    "As we can see, there are quite a few observations where a feature value is more than five standard deviations away from the feature mean. These outliers might represent instrument error; but they might also be caused by fat-tails of the true distributions, in which case these values are informative. If the outliers are errors, this can negatively impact the performance of our classifiers. We will discuss outlier detection algorithms and their impact on performance later.\n",
    "\n",
    "We can also take a look at feature cross-correlation and their correlation with the outcome variable fetal status:"
   ]
  },
  {
   "cell_type": "markdown",
   "metadata": {},
   "source": [
    "## Heatmap of the correlation between the features "
   ]
  },
  {
   "cell_type": "code",
   "execution_count": 12,
   "metadata": {},
   "outputs": [
    {
     "data": {
      "image/png": "[encoded data removed]",
      "text/plain": [
       "<Figure size 2000x1500 with 2 Axes>"
      ]
     },
     "metadata": {},
     "output_type": "display_data"
    }
   ],
   "source": [
    "# Feature correlation heatmap\n",
    "fig, ax = plt.subplots(1, 1, figsize=(20, 15))\n",
    "corr = df.drop(columns=['NSP']).corr()\n",
    "corr = corr.round(decimals=2)\n",
    "corr = corr.where(np.tril(np.ones(corr.shape)).astype(bool))  # Fix: use 'bool' instead of 'np.bool'\n",
    "sns.heatmap(corr, xticklabels=corr.columns, yticklabels=corr.columns, annot=True, ax=ax)\n",
    "plt.xticks(rotation=45)\n",
    "plt.show()\n"
   ]
  },
  {
   "cell_type": "markdown",
   "metadata": {},
   "source": [
    "Some features exhibit significant cross-correlation (both negative and positive); however, we never have exact multicollinearity. Some variables, such as the number of heartrate accelerations ('AC') and uterine contractions ('UC'), correlate positively with normal fetal status (which is coded as -1); while others, such as abnormal long and short term availability ('ALTV' and 'ASTV') and the number of prolongued heartrate deccelerations ('DP') correlate negatively, meaning higher values occur more frequently with suspect/pathological fetal status (coded as 1). Some of these correlations are substantial but there are no variables with absolute correlation coefficient above 0.5, indicating that no single feature alone can provide good predictions.\n"
   ]
  },
  {
   "cell_type": "code",
   "execution_count": 13,
   "metadata": {
    "execution": {
     "iopub.execute_input": "2023-09-10T06:04:31.149429Z",
     "iopub.status.busy": "2023-09-10T06:04:31.148329Z",
     "iopub.status.idle": "2023-09-10T06:04:31.160206Z",
     "shell.execute_reply": "2023-09-10T06:04:31.159016Z",
     "shell.execute_reply.started": "2023-09-10T06:04:31.149392Z"
    }
   },
   "outputs": [],
   "source": [
    "def plot_sample(normal, suspect, pathologic):\n",
    "    index = np.random.randint(0, len(normal_df), 3)\n",
    "    \n",
    "    fig, ax = plt.subplots(1, 3, sharey=True, figsize=(10, 4))\n",
    "    ax[0].plot(normal.iloc[index[0], :].values, label=f\"Case {index[0]}\")\n",
    "    ax[0].plot(normal.iloc[index[1], :].values, label=f\"Case {index[1]}\")\n",
    "    ax[0].legend(shadow=True, frameon=True, facecolor=\"inherit\", loc=1, fontsize=9)\n",
    "    ax[0].set_title(\"Normal\")\n",
    "    \n",
    "    ax[1].plot(suspect.iloc[index[0], :].values, label=f\"Case {index[0]}\")\n",
    "    ax[1].plot(suspect.iloc[index[1], :].values, label=f\"Case {index[1]}\")\n",
    "    ax[1].legend(shadow=True, frameon=True, facecolor=\"inherit\", loc=1, fontsize=9)\n",
    "    ax[1].set_title(\"Suspect\")\n",
    "    \n",
    "    ax[2].plot(pathologic.iloc[index[0], :].values, label=f\"Case {index[0]}\")\n",
    "    ax[2].plot(pathologic.iloc[index[1], :].values, label=f\"Case {index[1]}\")\n",
    "    ax[2].legend(shadow=True, frameon=True, facecolor=\"inherit\", loc=1, fontsize=9)\n",
    "    ax[2].set_title(\"Pathologic\")\n",
    "    \n",
    "    plt.tight_layout()\n",
    "    plt.show()"
   ]
  },
  {
   "cell_type": "code",
   "execution_count": 14,
   "metadata": {
    "execution": {
     "iopub.execute_input": "2023-09-10T06:04:31.165408Z",
     "iopub.status.busy": "2023-09-10T06:04:31.165096Z",
     "iopub.status.idle": "2023-09-10T06:04:31.731544Z",
     "shell.execute_reply": "2023-09-10T06:04:31.730622Z",
     "shell.execute_reply.started": "2023-09-10T06:04:31.165373Z"
    }
   },
   "outputs": [
    {
     "data": {
      "image/png": "[encoded data removed]",
      "text/plain": [
       "<Figure size 1000x400 with 3 Axes>"
      ]
     },
     "metadata": {},
     "output_type": "display_data"
    }
   ],
   "source": [
    "groupby_df = df.groupby(\"NSP\")\n",
    "normal_df = groupby_df.get_group(1)\n",
    "suspect_df = groupby_df.get_group(2)\n",
    "pathologic_df = groupby_df.get_group(3)\n",
    "\n",
    "plot_sample(normal_df, suspect_df, pathologic_df)"
   ]
  },
  {
   "cell_type": "code",
   "execution_count": 15,
   "metadata": {
    "execution": {
     "iopub.execute_input": "2023-09-10T06:04:31.733231Z",
     "iopub.status.busy": "2023-09-10T06:04:31.732656Z",
     "iopub.status.idle": "2023-09-10T06:04:31.746201Z",
     "shell.execute_reply": "2023-09-10T06:04:31.745225Z",
     "shell.execute_reply.started": "2023-09-10T06:04:31.733205Z"
    }
   },
   "outputs": [
    {
     "name": "stdout",
     "output_type": "stream",
     "text": [
      "The Shape of Normal Beat is  (1318, 24)\n",
      "The Shape of Suspect Beat is  (1318, 24)\n",
      "The Shape of Pathologic Beat is  (1318, 24)\n"
     ]
    }
   ],
   "source": [
    "print(\"The Shape of Normal Beat is \",normal_df.shape)\n",
    "print(\"The Shape of Suspect Beat is \",suspect_df.shape)\n",
    "print(\"The Shape of Pathologic Beat is \",pathologic_df.shape)"
   ]
  },
  {
   "cell_type": "markdown",
   "metadata": {},
   "source": [
    "## Smoothed Mean Plot for Class Comparison\n",
    "\n",
    "In this Python code, a function called `plot_smoothed_mean` is defined for creating smoothed mean plots. It takes input data, a class name, and a step size as parameters. The function calculates the rolling mean and standard deviation of the data with the specified step size, then plots the smoothed mean along with a shaded area representing the margin of three times the standard deviation.\n",
    "\n",
    "The code also demonstrates the use of this function to compare the smoothed means of different classes. It creates a subplot with two panels, each representing a different class. The data for each class is grouped, and the mean is computed before passing it to the `plot_smoothed_mean` function. This allows for visualizing how the smoothed means of different classes compare.\n",
    "\n",
    "The resulting plot provides insights into how the means of different classes vary over time or some other variable represented by the data, with shaded areas indicating the uncertainty around the mean estimates.\n"
   ]
  },
  {
   "cell_type": "code",
   "execution_count": 16,
   "metadata": {
    "execution": {
     "iopub.execute_input": "2023-09-10T06:04:31.774048Z",
     "iopub.status.busy": "2023-09-10T06:04:31.773677Z",
     "iopub.status.idle": "2023-09-10T06:04:31.78161Z",
     "shell.execute_reply": "2023-09-10T06:04:31.780577Z",
     "shell.execute_reply.started": "2023-09-10T06:04:31.774017Z"
    }
   },
   "outputs": [],
   "source": [
    "def plot_smoothed_mean(data, class_name = \"normal\", step_size=5, ax=None):\n",
    "    df = pd.DataFrame(data)\n",
    "    roll_df = df.rolling(step_size)\n",
    "    smoothed_mean = roll_df.mean().dropna().reset_index(drop=True)\n",
    "    smoothed_std = roll_df.std().dropna().reset_index(drop=True)\n",
    "    margin = 3*smoothed_std\n",
    "    lower_bound = (smoothed_mean - margin).values.flatten()\n",
    "    upper_bound = (smoothed_mean + margin).values.flatten()\n",
    "\n",
    "    ax.plot(smoothed_mean.index, smoothed_mean)\n",
    "    ax.fill_between(smoothed_mean.index, lower_bound, y2=upper_bound, alpha=0.3, color=\"red\")\n",
    "    ax.set_title(class_name, fontsize=9)"
   ]
  },
  {
   "cell_type": "code",
   "execution_count": 17,
   "metadata": {
    "execution": {
     "iopub.execute_input": "2023-09-10T06:04:31.78466Z",
     "iopub.status.busy": "2023-09-10T06:04:31.784372Z",
     "iopub.status.idle": "2023-09-10T06:04:32.401422Z",
     "shell.execute_reply": "2023-09-10T06:04:32.399898Z",
     "shell.execute_reply.started": "2023-09-10T06:04:31.784634Z"
    },
    "id": "0duZ5mVFNxnK",
    "outputId": "e0bb53f7-096e-4ca7-d0fe-42d12a9c9ba7"
   },
   "outputs": [
    {
     "data": {
      "image/png": "[encoded data removed]",
      "text/plain": [
       "<Figure size 500x500 with 3 Axes>"
      ]
     },
     "metadata": {},
     "output_type": "display_data"
    }
   ],
   "source": [
    "CLASS_NAMES = [\"Normal beat\", \"Suspect beat\", \"Pathologic beat\"]\n",
    "\n",
    "\n",
    "fig, axes = plt.subplots(3, 1, figsize=(5, 5), sharey=True)\n",
    "axes = axes.flatten()\n",
    "for i, label in enumerate(CLASS_NAMES, start=1):\n",
    "    data_group = df.groupby(\"NSP\")\n",
    "    data = data_group.get_group(i).mean(axis=0, numeric_only=True).to_numpy()\n",
    "    plot_smoothed_mean(data, class_name=label, step_size=3, ax=axes[i-1])\n",
    "fig.suptitle(\"Plot of smoothed mean for each class\", y=0.95, weight=\"bold\")\n",
    "plt.tight_layout()"
   ]
  },
  {
   "cell_type": "code",
   "execution_count": null,
   "metadata": {},
   "outputs": [],
   "source": []
  },
  {
   "cell_type": "markdown",
   "metadata": {},
   "source": [
    "### Remove Data from Dataset"
   ]
  },
  {
   "cell_type": "markdown",
   "metadata": {},
   "source": [
    "Now we can make a copy of `df`(ECG dataset). "
   ]
  },
  {
   "cell_type": "code",
   "execution_count": 18,
   "metadata": {},
   "outputs": [],
   "source": [
    "df_null = df.copy()"
   ]
  },
  {
   "cell_type": "code",
   "execution_count": 19,
   "metadata": {},
   "outputs": [],
   "source": [
    "df_null.drop(columns=['status'], inplace=True)"
   ]
  },
  {
   "cell_type": "markdown",
   "metadata": {},
   "source": [
    "The work of this below code `df.isnull().sum().sum()` is to find the total sum of Null values in the ECG dataset"
   ]
  },
  {
   "cell_type": "code",
   "execution_count": 20,
   "metadata": {},
   "outputs": [
    {
     "data": {
      "text/plain": [
       "(3954, 23)"
      ]
     },
     "execution_count": 20,
     "metadata": {},
     "output_type": "execute_result"
    }
   ],
   "source": [
    "df_null.shape"
   ]
  },
  {
   "cell_type": "code",
   "execution_count": 21,
   "metadata": {},
   "outputs": [
    {
     "data": {
      "text/plain": [
       "0"
      ]
     },
     "execution_count": 21,
     "metadata": {},
     "output_type": "execute_result"
    }
   ],
   "source": [
    "df_null.isnull().sum().sum()"
   ]
  },
  {
   "cell_type": "markdown",
   "metadata": {},
   "source": [
    "The above code tell us that the dataset not contain any null values.\n",
    "\n",
    "But without null values, how can we perform Data cleaning process and show that the Data Pre-Processing step is important."
   ]
  },
  {
   "cell_type": "markdown",
   "metadata": {},
   "source": [
    "To show the Data Pre-Processing step we remove some value manually from this dataset.\n",
    "\n",
    "The below code choose one row index and one column index randomly and replace the value with null value."
   ]
  },
  {
   "cell_type": "code",
   "execution_count": 22,
   "metadata": {},
   "outputs": [],
   "source": [
    "for i in range(1,5000):\n",
    "    try:\n",
    "        random_row_index = np.random.choice(df_null.index)\n",
    "        random_column_index = np.random.choice(range(0,8))\n",
    "        df_null.iloc[random_row_index, random_column_index] = np.nan\n",
    "    except:\n",
    "        continue"
   ]
  },
  {
   "cell_type": "code",
   "execution_count": 23,
   "metadata": {},
   "outputs": [
    {
     "data": {
      "text/plain": [
       "4615"
      ]
     },
     "execution_count": 23,
     "metadata": {},
     "output_type": "execute_result"
    }
   ],
   "source": [
    "df_null.isnull().sum().sum()"
   ]
  },
  {
   "cell_type": "code",
   "execution_count": 24,
   "metadata": {},
   "outputs": [
    {
     "data": {
      "text/html": [
       "<div>\n",
       "<style scoped>\n",
       "    .dataframe tbody tr th:only-of-type {\n",
       "        vertical-align: middle;\n",
       "    }\n",
       "\n",
       "    .dataframe tbody tr th {\n",
       "        vertical-align: top;\n",
       "    }\n",
       "\n",
       "    .dataframe thead th {\n",
       "        text-align: right;\n",
       "    }\n",
       "</style>\n",
       "<table border=\"1\" class=\"dataframe\">\n",
       "  <thead>\n",
       "    <tr style=\"text-align: right;\">\n",
       "      <th></th>\n",
       "      <th>LB</th>\n",
       "      <th>AC.1</th>\n",
       "      <th>FM.1</th>\n",
       "      <th>UC.1</th>\n",
       "      <th>DL.1</th>\n",
       "      <th>DS.1</th>\n",
       "      <th>DP.1</th>\n",
       "      <th>ASTV</th>\n",
       "      <th>MSTV</th>\n",
       "      <th>ALTV</th>\n",
       "      <th>MLTV</th>\n",
       "      <th>Width</th>\n",
       "      <th>Min</th>\n",
       "      <th>Max</th>\n",
       "      <th>Nmax</th>\n",
       "      <th>Nzeros</th>\n",
       "      <th>Mode</th>\n",
       "      <th>Mean</th>\n",
       "      <th>Median</th>\n",
       "      <th>Variance</th>\n",
       "      <th>Tendency</th>\n",
       "      <th>CLASS</th>\n",
       "      <th>NSP</th>\n",
       "    </tr>\n",
       "  </thead>\n",
       "  <tbody>\n",
       "    <tr>\n",
       "      <th>968</th>\n",
       "      <td>NaN</td>\n",
       "      <td>0.011111</td>\n",
       "      <td>0.000000</td>\n",
       "      <td>NaN</td>\n",
       "      <td>0.003968</td>\n",
       "      <td>0.0</td>\n",
       "      <td>NaN</td>\n",
       "      <td>57.000000</td>\n",
       "      <td>1.600000</td>\n",
       "      <td>0.0</td>\n",
       "      <td>7.600000</td>\n",
       "      <td>136.000000</td>\n",
       "      <td>52.0</td>\n",
       "      <td>188.000000</td>\n",
       "      <td>5.000000</td>\n",
       "      <td>1.000000</td>\n",
       "      <td>148.0</td>\n",
       "      <td>146.000000</td>\n",
       "      <td>158.000000</td>\n",
       "      <td>42.000000</td>\n",
       "      <td>1.0</td>\n",
       "      <td>6.0</td>\n",
       "      <td>1</td>\n",
       "    </tr>\n",
       "    <tr>\n",
       "      <th>444</th>\n",
       "      <td>125.0</td>\n",
       "      <td>0.009804</td>\n",
       "      <td>0.006536</td>\n",
       "      <td>0.001634</td>\n",
       "      <td>0.000000</td>\n",
       "      <td>0.0</td>\n",
       "      <td>NaN</td>\n",
       "      <td>19.000000</td>\n",
       "      <td>1.900000</td>\n",
       "      <td>0.0</td>\n",
       "      <td>6.800000</td>\n",
       "      <td>96.000000</td>\n",
       "      <td>101.0</td>\n",
       "      <td>197.000000</td>\n",
       "      <td>8.000000</td>\n",
       "      <td>1.000000</td>\n",
       "      <td>133.0</td>\n",
       "      <td>131.000000</td>\n",
       "      <td>133.000000</td>\n",
       "      <td>5.000000</td>\n",
       "      <td>-1.0</td>\n",
       "      <td>2.0</td>\n",
       "      <td>1</td>\n",
       "    </tr>\n",
       "    <tr>\n",
       "      <th>3330</th>\n",
       "      <td>129.0</td>\n",
       "      <td>0.000000</td>\n",
       "      <td>0.000913</td>\n",
       "      <td>0.006352</td>\n",
       "      <td>0.005602</td>\n",
       "      <td>0.0</td>\n",
       "      <td>0.002699</td>\n",
       "      <td>65.951812</td>\n",
       "      <td>2.804819</td>\n",
       "      <td>0.0</td>\n",
       "      <td>0.000000</td>\n",
       "      <td>94.337317</td>\n",
       "      <td>50.0</td>\n",
       "      <td>144.337318</td>\n",
       "      <td>6.000000</td>\n",
       "      <td>0.096376</td>\n",
       "      <td>105.0</td>\n",
       "      <td>84.951812</td>\n",
       "      <td>110.048188</td>\n",
       "      <td>11.048188</td>\n",
       "      <td>0.0</td>\n",
       "      <td>8.0</td>\n",
       "      <td>3</td>\n",
       "    </tr>\n",
       "    <tr>\n",
       "      <th>275</th>\n",
       "      <td>126.0</td>\n",
       "      <td>0.005004</td>\n",
       "      <td>0.024187</td>\n",
       "      <td>0.004170</td>\n",
       "      <td>0.000000</td>\n",
       "      <td>0.0</td>\n",
       "      <td>0.000000</td>\n",
       "      <td>41.000000</td>\n",
       "      <td>1.300000</td>\n",
       "      <td>2.0</td>\n",
       "      <td>10.700000</td>\n",
       "      <td>127.000000</td>\n",
       "      <td>66.0</td>\n",
       "      <td>193.000000</td>\n",
       "      <td>9.000000</td>\n",
       "      <td>0.000000</td>\n",
       "      <td>129.0</td>\n",
       "      <td>133.000000</td>\n",
       "      <td>133.000000</td>\n",
       "      <td>11.000000</td>\n",
       "      <td>0.0</td>\n",
       "      <td>2.0</td>\n",
       "      <td>1</td>\n",
       "    </tr>\n",
       "    <tr>\n",
       "      <th>2837</th>\n",
       "      <td>120.0</td>\n",
       "      <td>0.000000</td>\n",
       "      <td>0.000000</td>\n",
       "      <td>0.004764</td>\n",
       "      <td>0.008146</td>\n",
       "      <td>0.0</td>\n",
       "      <td>NaN</td>\n",
       "      <td>62.343359</td>\n",
       "      <td>1.431328</td>\n",
       "      <td>0.0</td>\n",
       "      <td>8.679825</td>\n",
       "      <td>85.000000</td>\n",
       "      <td>69.0</td>\n",
       "      <td>154.000000</td>\n",
       "      <td>4.484962</td>\n",
       "      <td>1.000000</td>\n",
       "      <td>86.0</td>\n",
       "      <td>101.313283</td>\n",
       "      <td>99.969924</td>\n",
       "      <td>60.566414</td>\n",
       "      <td>-1.0</td>\n",
       "      <td>8.0</td>\n",
       "      <td>3</td>\n",
       "    </tr>\n",
       "  </tbody>\n",
       "</table>\n",
       "</div>"
      ],
      "text/plain": [
       "         LB      AC.1      FM.1      UC.1      DL.1  DS.1      DP.1  \\\n",
       "968     NaN  0.011111  0.000000       NaN  0.003968   0.0       NaN   \n",
       "444   125.0  0.009804  0.006536  0.001634  0.000000   0.0       NaN   \n",
       "3330  129.0  0.000000  0.000913  0.006352  0.005602   0.0  0.002699   \n",
       "275   126.0  0.005004  0.024187  0.004170  0.000000   0.0  0.000000   \n",
       "2837  120.0  0.000000  0.000000  0.004764  0.008146   0.0       NaN   \n",
       "\n",
       "           ASTV      MSTV  ALTV       MLTV       Width    Min         Max  \\\n",
       "968   57.000000  1.600000   0.0   7.600000  136.000000   52.0  188.000000   \n",
       "444   19.000000  1.900000   0.0   6.800000   96.000000  101.0  197.000000   \n",
       "3330  65.951812  2.804819   0.0   0.000000   94.337317   50.0  144.337318   \n",
       "275   41.000000  1.300000   2.0  10.700000  127.000000   66.0  193.000000   \n",
       "2837  62.343359  1.431328   0.0   8.679825   85.000000   69.0  154.000000   \n",
       "\n",
       "          Nmax    Nzeros   Mode        Mean      Median   Variance  Tendency  \\\n",
       "968   5.000000  1.000000  148.0  146.000000  158.000000  42.000000       1.0   \n",
       "444   8.000000  1.000000  133.0  131.000000  133.000000   5.000000      -1.0   \n",
       "3330  6.000000  0.096376  105.0   84.951812  110.048188  11.048188       0.0   \n",
       "275   9.000000  0.000000  129.0  133.000000  133.000000  11.000000       0.0   \n",
       "2837  4.484962  1.000000   86.0  101.313283   99.969924  60.566414      -1.0   \n",
       "\n",
       "      CLASS  NSP  \n",
       "968     6.0    1  \n",
       "444     2.0    1  \n",
       "3330    8.0    3  \n",
       "275     2.0    1  \n",
       "2837    8.0    3  "
      ]
     },
     "execution_count": 24,
     "metadata": {},
     "output_type": "execute_result"
    }
   ],
   "source": [
    "df_null.sample(5)"
   ]
  },
  {
   "cell_type": "markdown",
   "metadata": {},
   "source": [
    "# Without Data Cleanning\n",
    "\n",
    "Here we replace the null values with a constant value 9."
   ]
  },
  {
   "cell_type": "code",
   "execution_count": 25,
   "metadata": {},
   "outputs": [],
   "source": [
    "# df.replace(np.nan,1000,inplace=True)\n",
    "# df.dropna(inplace=True)\n",
    "df1 = df_null.copy()\n",
    "df1.fillna(90,inplace=True)"
   ]
  },
  {
   "cell_type": "code",
   "execution_count": 26,
   "metadata": {},
   "outputs": [
    {
     "data": {
      "text/plain": [
       "0"
      ]
     },
     "execution_count": 26,
     "metadata": {},
     "output_type": "execute_result"
    }
   ],
   "source": [
    "df1.isnull().sum().sum()"
   ]
  },
  {
   "cell_type": "code",
   "execution_count": 27,
   "metadata": {},
   "outputs": [
    {
     "data": {
      "text/plain": [
       "(3954, 23)"
      ]
     },
     "execution_count": 27,
     "metadata": {},
     "output_type": "execute_result"
    }
   ],
   "source": [
    "df1.shape"
   ]
  },
  {
   "cell_type": "markdown",
   "metadata": {},
   "source": [
    "Now we divide the ECG dataset into input and output section. \n",
    "This `X` is input and `y` is output section."
   ]
  },
  {
   "cell_type": "code",
   "execution_count": 28,
   "metadata": {},
   "outputs": [],
   "source": [
    "X = df1.drop(columns=['NSP'])\n",
    "y = df1['NSP']"
   ]
  },
  {
   "cell_type": "code",
   "execution_count": 29,
   "metadata": {},
   "outputs": [
    {
     "data": {
      "text/html": [
       "<div>\n",
       "<style scoped>\n",
       "    .dataframe tbody tr th:only-of-type {\n",
       "        vertical-align: middle;\n",
       "    }\n",
       "\n",
       "    .dataframe tbody tr th {\n",
       "        vertical-align: top;\n",
       "    }\n",
       "\n",
       "    .dataframe thead th {\n",
       "        text-align: right;\n",
       "    }\n",
       "</style>\n",
       "<table border=\"1\" class=\"dataframe\">\n",
       "  <thead>\n",
       "    <tr style=\"text-align: right;\">\n",
       "      <th></th>\n",
       "      <th>LB</th>\n",
       "      <th>AC.1</th>\n",
       "      <th>FM.1</th>\n",
       "      <th>UC.1</th>\n",
       "      <th>DL.1</th>\n",
       "      <th>DS.1</th>\n",
       "      <th>DP.1</th>\n",
       "      <th>ASTV</th>\n",
       "      <th>MSTV</th>\n",
       "      <th>ALTV</th>\n",
       "      <th>MLTV</th>\n",
       "      <th>Width</th>\n",
       "      <th>Min</th>\n",
       "      <th>Max</th>\n",
       "      <th>Nmax</th>\n",
       "      <th>Nzeros</th>\n",
       "      <th>Mode</th>\n",
       "      <th>Mean</th>\n",
       "      <th>Median</th>\n",
       "      <th>Variance</th>\n",
       "      <th>Tendency</th>\n",
       "      <th>CLASS</th>\n",
       "    </tr>\n",
       "  </thead>\n",
       "  <tbody>\n",
       "    <tr>\n",
       "      <th>0</th>\n",
       "      <td>138.0</td>\n",
       "      <td>0.001708</td>\n",
       "      <td>0.0</td>\n",
       "      <td>0.006832</td>\n",
       "      <td>0.005124</td>\n",
       "      <td>90.0</td>\n",
       "      <td>0.0</td>\n",
       "      <td>32.0</td>\n",
       "      <td>1.1</td>\n",
       "      <td>16.0</td>\n",
       "      <td>6.6</td>\n",
       "      <td>78.0</td>\n",
       "      <td>97.0</td>\n",
       "      <td>175.0</td>\n",
       "      <td>5.0</td>\n",
       "      <td>0.0</td>\n",
       "      <td>145.0</td>\n",
       "      <td>139.0</td>\n",
       "      <td>144.0</td>\n",
       "      <td>16.0</td>\n",
       "      <td>0.0</td>\n",
       "      <td>6.0</td>\n",
       "    </tr>\n",
       "    <tr>\n",
       "      <th>1</th>\n",
       "      <td>122.0</td>\n",
       "      <td>90.000000</td>\n",
       "      <td>0.0</td>\n",
       "      <td>0.000000</td>\n",
       "      <td>0.007407</td>\n",
       "      <td>0.0</td>\n",
       "      <td>0.0</td>\n",
       "      <td>13.0</td>\n",
       "      <td>3.2</td>\n",
       "      <td>0.0</td>\n",
       "      <td>20.8</td>\n",
       "      <td>129.0</td>\n",
       "      <td>51.0</td>\n",
       "      <td>180.0</td>\n",
       "      <td>5.0</td>\n",
       "      <td>1.0</td>\n",
       "      <td>119.0</td>\n",
       "      <td>119.0</td>\n",
       "      <td>121.0</td>\n",
       "      <td>62.0</td>\n",
       "      <td>0.0</td>\n",
       "      <td>7.0</td>\n",
       "    </tr>\n",
       "    <tr>\n",
       "      <th>2</th>\n",
       "      <td>140.0</td>\n",
       "      <td>0.000679</td>\n",
       "      <td>0.0</td>\n",
       "      <td>0.006110</td>\n",
       "      <td>0.000000</td>\n",
       "      <td>0.0</td>\n",
       "      <td>0.0</td>\n",
       "      <td>90.0</td>\n",
       "      <td>0.4</td>\n",
       "      <td>27.0</td>\n",
       "      <td>7.0</td>\n",
       "      <td>66.0</td>\n",
       "      <td>103.0</td>\n",
       "      <td>169.0</td>\n",
       "      <td>6.0</td>\n",
       "      <td>0.0</td>\n",
       "      <td>152.0</td>\n",
       "      <td>147.0</td>\n",
       "      <td>151.0</td>\n",
       "      <td>4.0</td>\n",
       "      <td>1.0</td>\n",
       "      <td>5.0</td>\n",
       "    </tr>\n",
       "    <tr>\n",
       "      <th>3</th>\n",
       "      <td>131.0</td>\n",
       "      <td>0.000000</td>\n",
       "      <td>0.0</td>\n",
       "      <td>0.004785</td>\n",
       "      <td>0.000000</td>\n",
       "      <td>0.0</td>\n",
       "      <td>90.0</td>\n",
       "      <td>29.0</td>\n",
       "      <td>1.0</td>\n",
       "      <td>0.0</td>\n",
       "      <td>12.9</td>\n",
       "      <td>31.0</td>\n",
       "      <td>115.0</td>\n",
       "      <td>146.0</td>\n",
       "      <td>0.0</td>\n",
       "      <td>0.0</td>\n",
       "      <td>129.0</td>\n",
       "      <td>131.0</td>\n",
       "      <td>132.0</td>\n",
       "      <td>3.0</td>\n",
       "      <td>0.0</td>\n",
       "      <td>1.0</td>\n",
       "    </tr>\n",
       "    <tr>\n",
       "      <th>4</th>\n",
       "      <td>120.0</td>\n",
       "      <td>0.003145</td>\n",
       "      <td>0.0</td>\n",
       "      <td>0.003145</td>\n",
       "      <td>0.000000</td>\n",
       "      <td>0.0</td>\n",
       "      <td>0.0</td>\n",
       "      <td>37.0</td>\n",
       "      <td>1.1</td>\n",
       "      <td>0.0</td>\n",
       "      <td>9.6</td>\n",
       "      <td>25.0</td>\n",
       "      <td>112.0</td>\n",
       "      <td>137.0</td>\n",
       "      <td>1.0</td>\n",
       "      <td>0.0</td>\n",
       "      <td>127.0</td>\n",
       "      <td>127.0</td>\n",
       "      <td>129.0</td>\n",
       "      <td>2.0</td>\n",
       "      <td>0.0</td>\n",
       "      <td>1.0</td>\n",
       "    </tr>\n",
       "  </tbody>\n",
       "</table>\n",
       "</div>"
      ],
      "text/plain": [
       "      LB       AC.1  FM.1      UC.1      DL.1  DS.1  DP.1  ASTV  MSTV  ALTV  \\\n",
       "0  138.0   0.001708   0.0  0.006832  0.005124  90.0   0.0  32.0   1.1  16.0   \n",
       "1  122.0  90.000000   0.0  0.000000  0.007407   0.0   0.0  13.0   3.2   0.0   \n",
       "2  140.0   0.000679   0.0  0.006110  0.000000   0.0   0.0  90.0   0.4  27.0   \n",
       "3  131.0   0.000000   0.0  0.004785  0.000000   0.0  90.0  29.0   1.0   0.0   \n",
       "4  120.0   0.003145   0.0  0.003145  0.000000   0.0   0.0  37.0   1.1   0.0   \n",
       "\n",
       "   MLTV  Width    Min    Max  Nmax  Nzeros   Mode   Mean  Median  Variance  \\\n",
       "0   6.6   78.0   97.0  175.0   5.0     0.0  145.0  139.0   144.0      16.0   \n",
       "1  20.8  129.0   51.0  180.0   5.0     1.0  119.0  119.0   121.0      62.0   \n",
       "2   7.0   66.0  103.0  169.0   6.0     0.0  152.0  147.0   151.0       4.0   \n",
       "3  12.9   31.0  115.0  146.0   0.0     0.0  129.0  131.0   132.0       3.0   \n",
       "4   9.6   25.0  112.0  137.0   1.0     0.0  127.0  127.0   129.0       2.0   \n",
       "\n",
       "   Tendency  CLASS  \n",
       "0       0.0    6.0  \n",
       "1       0.0    7.0  \n",
       "2       1.0    5.0  \n",
       "3       0.0    1.0  \n",
       "4       0.0    1.0  "
      ]
     },
     "execution_count": 29,
     "metadata": {},
     "output_type": "execute_result"
    }
   ],
   "source": [
    "X.head()"
   ]
  },
  {
   "cell_type": "code",
   "execution_count": 30,
   "metadata": {},
   "outputs": [
    {
     "data": {
      "text/plain": [
       "2887    3\n",
       "2692    2\n",
       "1712    2\n",
       "3530    3\n",
       "3485    3\n",
       "2371    2\n",
       "1649    1\n",
       "2297    2\n",
       "936     2\n",
       "3754    3\n",
       "Name: NSP, dtype: int64"
      ]
     },
     "execution_count": 30,
     "metadata": {},
     "output_type": "execute_result"
    }
   ],
   "source": [
    "y.sample(10)"
   ]
  },
  {
   "cell_type": "markdown",
   "metadata": {},
   "source": [
    "Now we devide this independent `X` and dependent `y` in train and test data.\n",
    "\n",
    "To divide into train and test data, we use `train_test_split` library."
   ]
  },
  {
   "cell_type": "code",
   "execution_count": 31,
   "metadata": {},
   "outputs": [],
   "source": [
    "from sklearn.model_selection import train_test_split\n",
    "X_train, X_test, y_train, y_test = train_test_split(X,y,test_size=0.25)"
   ]
  },
  {
   "cell_type": "markdown",
   "metadata": {},
   "source": [
    "## Model Evaluation"
   ]
  },
  {
   "cell_type": "markdown",
   "metadata": {},
   "source": [
    "### 1. Decision Tree"
   ]
  },
  {
   "cell_type": "code",
   "execution_count": 32,
   "metadata": {},
   "outputs": [
    {
     "data": {
      "text/plain": [
       "0.9838220424671386"
      ]
     },
     "execution_count": 32,
     "metadata": {},
     "output_type": "execute_result"
    }
   ],
   "source": [
    "from sklearn.tree import DecisionTreeClassifier\n",
    "dt = DecisionTreeClassifier()\n",
    "dt.fit(X_train,y_train)\n",
    "y_pred = dt.predict(X_test)\n",
    "accuracy_score(y_test,y_pred)"
   ]
  },
  {
   "cell_type": "code",
   "execution_count": 33,
   "metadata": {},
   "outputs": [
    {
     "name": "stdout",
     "output_type": "stream",
     "text": [
      "Accuracy: 0.9838220424671386\n",
      "Confusion Matrix:\n",
      " [[346   4   0]\n",
      " [ 10 320   2]\n",
      " [  0   0 307]]\n",
      "Classification Report:\n",
      "               precision    recall  f1-score   support\n",
      "\n",
      "           1       0.97      0.99      0.98       350\n",
      "           2       0.99      0.96      0.98       332\n",
      "           3       0.99      1.00      1.00       307\n",
      "\n",
      "    accuracy                           0.98       989\n",
      "   macro avg       0.98      0.98      0.98       989\n",
      "weighted avg       0.98      0.98      0.98       989\n",
      "\n"
     ]
    }
   ],
   "source": [
    "# accuracy_score, recall_score, precision_score, confusion_matrix, f1_score, classification_report\n",
    "\n",
    "# Calculate accuracy\n",
    "accuracy = accuracy_score(y_test, y_pred)\n",
    "print(\"Accuracy:\", accuracy)\n",
    "\n",
    "# Calculate recall\n",
    "# recall = recall_score(y_test, y_pred)\n",
    "# print(\"Recall:\", recall)\n",
    "\n",
    "# Calculate precision\n",
    "# precision = precision_score(y_test, y_pred)\n",
    "# print(\"Precision:\", precision)\n",
    "\n",
    "# Calculate confusion matrix\n",
    "conf_matrix = confusion_matrix(y_test, y_pred)\n",
    "print(\"Confusion Matrix:\\n\", conf_matrix)\n",
    "\n",
    "# Calculate F1 score\n",
    "# f1 = f1_score(y_test, y_pred)\n",
    "# print(\"F1 Score:\", f1)\n",
    "\n",
    "# Generate classification report\n",
    "class_report = classification_report(y_test, y_pred)\n",
    "print(\"Classification Report:\\n\", class_report)"
   ]
  },
  {
   "cell_type": "markdown",
   "metadata": {},
   "source": [
    "### 2.Random Forest"
   ]
  },
  {
   "cell_type": "code",
   "execution_count": 34,
   "metadata": {},
   "outputs": [
    {
     "data": {
      "text/plain": [
       "0.9888776541961577"
      ]
     },
     "execution_count": 34,
     "metadata": {},
     "output_type": "execute_result"
    }
   ],
   "source": [
    "from sklearn.ensemble import RandomForestClassifier\n",
    "rf = RandomForestClassifier()\n",
    "rf.fit(X_train,y_train)\n",
    "y_pred = rf.predict(X_test)\n",
    "accuracy_score(y_test,y_pred)"
   ]
  },
  {
   "cell_type": "code",
   "execution_count": 35,
   "metadata": {},
   "outputs": [
    {
     "name": "stdout",
     "output_type": "stream",
     "text": [
      "Accuracy: 0.9888776541961577\n",
      "Confusion Matrix:\n",
      " [[349   1   0]\n",
      " [  8 323   1]\n",
      " [  0   1 306]]\n",
      "Classification Report:\n",
      "               precision    recall  f1-score   support\n",
      "\n",
      "           1       0.98      1.00      0.99       350\n",
      "           2       0.99      0.97      0.98       332\n",
      "           3       1.00      1.00      1.00       307\n",
      "\n",
      "    accuracy                           0.99       989\n",
      "   macro avg       0.99      0.99      0.99       989\n",
      "weighted avg       0.99      0.99      0.99       989\n",
      "\n"
     ]
    }
   ],
   "source": [
    "# accuracy_score, recall_score, precision_score, confusion_matrix, f1_score, classification_report\n",
    "\n",
    "# Calculate accuracy\n",
    "accuracy = accuracy_score(y_test, y_pred)\n",
    "print(\"Accuracy:\", accuracy)\n",
    "\n",
    "# Calculate recall\n",
    "# recall = recall_score(y_test, y_pred)\n",
    "# print(\"Recall:\", recall)\n",
    "\n",
    "# Calculate precision\n",
    "# precision = precision_score(y_test, y_pred)\n",
    "# print(\"Precision:\", precision)\n",
    "\n",
    "# Calculate confusion matrix\n",
    "conf_matrix = confusion_matrix(y_test, y_pred)\n",
    "print(\"Confusion Matrix:\\n\", conf_matrix)\n",
    "\n",
    "# Calculate F1 score\n",
    "# f1 = f1_score(y_test, y_pred)\n",
    "# print(\"F1 Score:\", f1)\n",
    "\n",
    "# Generate classification report\n",
    "class_report = classification_report(y_test, y_pred)\n",
    "print(\"Classification Report:\\n\", class_report)"
   ]
  },
  {
   "cell_type": "markdown",
   "metadata": {},
   "source": [
    "### 3. XGBoost"
   ]
  },
  {
   "cell_type": "code",
   "execution_count": 36,
   "metadata": {},
   "outputs": [
    {
     "data": {
      "text/plain": [
       "0.9929221435793731"
      ]
     },
     "execution_count": 36,
     "metadata": {},
     "output_type": "execute_result"
    }
   ],
   "source": [
    "# xgb = XGBClassifier()\n",
    "# xgb.fit(X_train,y_train)\n",
    "# y_pred = xgb.predict(X_test)\n",
    "# accuracy_score(y_test,y_pred)\n",
    "\n",
    "from sklearn.preprocessing import LabelEncoder\n",
    "\n",
    "label_encoder = LabelEncoder()\n",
    "y_train_encoded = label_encoder.fit_transform(y_train)\n",
    "y_test_encoded = label_encoder.transform(y_test)\n",
    "\n",
    "from xgboost import XGBClassifier\n",
    "\n",
    "xgb = XGBClassifier()\n",
    "xgb.fit(X_train, y_train_encoded)\n",
    "y_pred = xgb.predict(X_test)\n",
    "accuracy_score(y_test_encoded, y_pred)"
   ]
  },
  {
   "cell_type": "code",
   "execution_count": 37,
   "metadata": {},
   "outputs": [
    {
     "name": "stdout",
     "output_type": "stream",
     "text": [
      "Accuracy: 0.0020222446916076846\n",
      "Confusion Matrix:\n",
      " [[  0   0   0   0]\n",
      " [349   1   0   0]\n",
      " [  4 327   1   0]\n",
      " [  0   1 306   0]]\n",
      "Classification Report:\n",
      "               precision    recall  f1-score   support\n",
      "\n",
      "           0       0.00      0.00      0.00         0\n",
      "           1       0.00      0.00      0.00       350\n",
      "           2       0.00      0.00      0.00       332\n",
      "           3       0.00      0.00      0.00       307\n",
      "\n",
      "    accuracy                           0.00       989\n",
      "   macro avg       0.00      0.00      0.00       989\n",
      "weighted avg       0.00      0.00      0.00       989\n",
      "\n"
     ]
    },
    {
     "name": "stderr",
     "output_type": "stream",
     "text": [
      "C:\\Users\\mamit\\AppData\\Local\\Programs\\Python\\Python311\\Lib\\site-packages\\sklearn\\metrics\\_classification.py:1469: UndefinedMetricWarning: Precision and F-score are ill-defined and being set to 0.0 in labels with no predicted samples. Use `zero_division` parameter to control this behavior.\n",
      "  _warn_prf(average, modifier, msg_start, len(result))\n",
      "C:\\Users\\mamit\\AppData\\Local\\Programs\\Python\\Python311\\Lib\\site-packages\\sklearn\\metrics\\_classification.py:1469: UndefinedMetricWarning: Recall and F-score are ill-defined and being set to 0.0 in labels with no true samples. Use `zero_division` parameter to control this behavior.\n",
      "  _warn_prf(average, modifier, msg_start, len(result))\n",
      "C:\\Users\\mamit\\AppData\\Local\\Programs\\Python\\Python311\\Lib\\site-packages\\sklearn\\metrics\\_classification.py:1469: UndefinedMetricWarning: Precision and F-score are ill-defined and being set to 0.0 in labels with no predicted samples. Use `zero_division` parameter to control this behavior.\n",
      "  _warn_prf(average, modifier, msg_start, len(result))\n",
      "C:\\Users\\mamit\\AppData\\Local\\Programs\\Python\\Python311\\Lib\\site-packages\\sklearn\\metrics\\_classification.py:1469: UndefinedMetricWarning: Recall and F-score are ill-defined and being set to 0.0 in labels with no true samples. Use `zero_division` parameter to control this behavior.\n",
      "  _warn_prf(average, modifier, msg_start, len(result))\n",
      "C:\\Users\\mamit\\AppData\\Local\\Programs\\Python\\Python311\\Lib\\site-packages\\sklearn\\metrics\\_classification.py:1469: UndefinedMetricWarning: Precision and F-score are ill-defined and being set to 0.0 in labels with no predicted samples. Use `zero_division` parameter to control this behavior.\n",
      "  _warn_prf(average, modifier, msg_start, len(result))\n",
      "C:\\Users\\mamit\\AppData\\Local\\Programs\\Python\\Python311\\Lib\\site-packages\\sklearn\\metrics\\_classification.py:1469: UndefinedMetricWarning: Recall and F-score are ill-defined and being set to 0.0 in labels with no true samples. Use `zero_division` parameter to control this behavior.\n",
      "  _warn_prf(average, modifier, msg_start, len(result))\n"
     ]
    }
   ],
   "source": [
    "# accuracy_score, recall_score, precision_score, confusion_matrix, f1_score, classification_report\n",
    "\n",
    "# Calculate accuracy\n",
    "accuracy = accuracy_score(y_test, y_pred)\n",
    "print(\"Accuracy:\", accuracy)\n",
    "\n",
    "# Calculate recall\n",
    "# recall = recall_score(y_test, y_pred)\n",
    "# print(\"Recall:\", recall)\n",
    "\n",
    "# Calculate precision\n",
    "# precision = precision_score(y_test, y_pred)\n",
    "# print(\"Precision:\", precision)\n",
    "\n",
    "# Calculate confusion matrix\n",
    "conf_matrix = confusion_matrix(y_test, y_pred)\n",
    "print(\"Confusion Matrix:\\n\", conf_matrix)\n",
    "\n",
    "# Calculate F1 score\n",
    "# f1 = f1_score(y_test, y_pred)\n",
    "# print(\"F1 Score:\", f1)\n",
    "\n",
    "# Generate classification report\n",
    "class_report = classification_report(y_test, y_pred)\n",
    "print(\"Classification Report:\\n\", class_report)"
   ]
  },
  {
   "cell_type": "markdown",
   "metadata": {},
   "source": [
    "Here the Decision tree gives **98.17%** accuracy, Random Forest gives **99.39%** accuracy and XGBoost gives **99.49%** accuracy.\n",
    "\n",
    "So here **XGBoost** model gives us best accuracy score."
   ]
  },
  {
   "cell_type": "markdown",
   "metadata": {},
   "source": [
    "# Data Cleanning"
   ]
  },
  {
   "cell_type": "markdown",
   "metadata": {},
   "source": [
    "## 1. Remove Rows\n",
    "\n",
    "In this method when we find any row which one have null values then we remove the row from the dataset."
   ]
  },
  {
   "cell_type": "code",
   "execution_count": 38,
   "metadata": {},
   "outputs": [],
   "source": [
    "df2 = df_null.copy()"
   ]
  },
  {
   "cell_type": "code",
   "execution_count": 39,
   "metadata": {},
   "outputs": [
    {
     "data": {
      "text/plain": [
       "4615"
      ]
     },
     "execution_count": 39,
     "metadata": {},
     "output_type": "execute_result"
    }
   ],
   "source": [
    "df2.isnull().sum().sum()"
   ]
  },
  {
   "cell_type": "code",
   "execution_count": 40,
   "metadata": {},
   "outputs": [
    {
     "data": {
      "text/plain": [
       "(3954, 23)"
      ]
     },
     "execution_count": 40,
     "metadata": {},
     "output_type": "execute_result"
    }
   ],
   "source": [
    "df2.shape"
   ]
  },
  {
   "cell_type": "markdown",
   "metadata": {},
   "source": [
    "To remove null value contain rows we have use `df2.dropna(inplace=True)` code."
   ]
  },
  {
   "cell_type": "code",
   "execution_count": 41,
   "metadata": {},
   "outputs": [],
   "source": [
    "df2.dropna(inplace=True)"
   ]
  },
  {
   "cell_type": "code",
   "execution_count": 42,
   "metadata": {},
   "outputs": [
    {
     "data": {
      "text/plain": [
       "0"
      ]
     },
     "execution_count": 42,
     "metadata": {},
     "output_type": "execute_result"
    }
   ],
   "source": [
    "df2.isnull().sum().sum()"
   ]
  },
  {
   "cell_type": "code",
   "execution_count": 43,
   "metadata": {},
   "outputs": [
    {
     "data": {
      "text/plain": [
       "(1116, 23)"
      ]
     },
     "execution_count": 43,
     "metadata": {},
     "output_type": "execute_result"
    }
   ],
   "source": [
    "df2.shape"
   ]
  },
  {
   "cell_type": "markdown",
   "metadata": {},
   "source": [
    "Before remove row we have total 13,426 rows but after data cleanning operation now we have total 6,333 rows.\n",
    "\n",
    "We see that the number of rows reduce by 50%. So the amount of data is reduce, for that we are not use this technique very much."
   ]
  },
  {
   "cell_type": "code",
   "execution_count": 44,
   "metadata": {},
   "outputs": [],
   "source": [
    "X = df2.drop(columns=['NSP'])\n",
    "y = df2['NSP']"
   ]
  },
  {
   "cell_type": "code",
   "execution_count": 45,
   "metadata": {},
   "outputs": [],
   "source": [
    "from sklearn.model_selection import train_test_split\n",
    "X_train, X_test, y_train, y_test = train_test_split(X,y,test_size=0.25)"
   ]
  },
  {
   "cell_type": "markdown",
   "metadata": {},
   "source": [
    "# Model Evaluation"
   ]
  },
  {
   "cell_type": "markdown",
   "metadata": {},
   "source": [
    "### 1. Decision Tree"
   ]
  },
  {
   "cell_type": "code",
   "execution_count": 46,
   "metadata": {},
   "outputs": [
    {
     "data": {
      "text/plain": [
       "0.956989247311828"
      ]
     },
     "execution_count": 46,
     "metadata": {},
     "output_type": "execute_result"
    }
   ],
   "source": [
    "from sklearn.tree import DecisionTreeClassifier\n",
    "dt = DecisionTreeClassifier()\n",
    "dt.fit(X_train,y_train)\n",
    "y_pred = dt.predict(X_test)\n",
    "accuracy_score(y_test,y_pred)"
   ]
  },
  {
   "cell_type": "code",
   "execution_count": 47,
   "metadata": {},
   "outputs": [
    {
     "name": "stdout",
     "output_type": "stream",
     "text": [
      "Accuracy: 0.956989247311828\n",
      "Confusion Matrix:\n",
      " [[87  3  0]\n",
      " [ 5 93  2]\n",
      " [ 0  2 87]]\n",
      "Classification Report:\n",
      "               precision    recall  f1-score   support\n",
      "\n",
      "           1       0.95      0.97      0.96        90\n",
      "           2       0.95      0.93      0.94       100\n",
      "           3       0.98      0.98      0.98        89\n",
      "\n",
      "    accuracy                           0.96       279\n",
      "   macro avg       0.96      0.96      0.96       279\n",
      "weighted avg       0.96      0.96      0.96       279\n",
      "\n"
     ]
    }
   ],
   "source": [
    "# accuracy_score, recall_score, precision_score, confusion_matrix, f1_score, classification_report\n",
    "\n",
    "# Calculate accuracy\n",
    "accuracy = accuracy_score(y_test, y_pred)\n",
    "print(\"Accuracy:\", accuracy)\n",
    "\n",
    "# Calculate recall\n",
    "# recall = recall_score(y_test, y_pred)\n",
    "# print(\"Recall:\", recall)\n",
    "\n",
    "# Calculate precision\n",
    "# precision = precision_score(y_test, y_pred)\n",
    "# print(\"Precision:\", precision)\n",
    "\n",
    "# Calculate confusion matrix\n",
    "conf_matrix = confusion_matrix(y_test, y_pred)\n",
    "print(\"Confusion Matrix:\\n\", conf_matrix)\n",
    "\n",
    "# Calculate F1 score\n",
    "# f1 = f1_score(y_test, y_pred)\n",
    "# print(\"F1 Score:\", f1)\n",
    "\n",
    "# Generate classification report\n",
    "class_report = classification_report(y_test, y_pred)\n",
    "print(\"Classification Report:\\n\", class_report)"
   ]
  },
  {
   "cell_type": "markdown",
   "metadata": {},
   "source": [
    "### 2.Random Forest"
   ]
  },
  {
   "cell_type": "code",
   "execution_count": 48,
   "metadata": {},
   "outputs": [
    {
     "data": {
      "text/plain": [
       "0.978494623655914"
      ]
     },
     "execution_count": 48,
     "metadata": {},
     "output_type": "execute_result"
    }
   ],
   "source": [
    "from sklearn.ensemble import RandomForestClassifier\n",
    "rf = RandomForestClassifier()\n",
    "rf.fit(X_train,y_train)\n",
    "y_pred = rf.predict(X_test)\n",
    "accuracy_score(y_test,y_pred)"
   ]
  },
  {
   "cell_type": "code",
   "execution_count": 49,
   "metadata": {},
   "outputs": [
    {
     "name": "stdout",
     "output_type": "stream",
     "text": [
      "Accuracy: 0.978494623655914\n",
      "Confusion Matrix:\n",
      " [[90  0  0]\n",
      " [ 5 95  0]\n",
      " [ 0  1 88]]\n",
      "Classification Report:\n",
      "               precision    recall  f1-score   support\n",
      "\n",
      "           1       0.95      1.00      0.97        90\n",
      "           2       0.99      0.95      0.97       100\n",
      "           3       1.00      0.99      0.99        89\n",
      "\n",
      "    accuracy                           0.98       279\n",
      "   macro avg       0.98      0.98      0.98       279\n",
      "weighted avg       0.98      0.98      0.98       279\n",
      "\n"
     ]
    }
   ],
   "source": [
    "# accuracy_score, recall_score, precision_score, confusion_matrix, f1_score, classification_report\n",
    "\n",
    "# Calculate accuracy\n",
    "accuracy = accuracy_score(y_test, y_pred)\n",
    "print(\"Accuracy:\", accuracy)\n",
    "\n",
    "# Calculate recall\n",
    "# recall = recall_score(y_test, y_pred)\n",
    "# print(\"Recall:\", recall)\n",
    "\n",
    "# Calculate precision\n",
    "# precision = precision_score(y_test, y_pred)\n",
    "# print(\"Precision:\", precision)\n",
    "\n",
    "# Calculate confusion matrix\n",
    "conf_matrix = confusion_matrix(y_test, y_pred)\n",
    "print(\"Confusion Matrix:\\n\", conf_matrix)\n",
    "\n",
    "# Calculate F1 score\n",
    "# f1 = f1_score(y_test, y_pred)\n",
    "# print(\"F1 Score:\", f1)\n",
    "\n",
    "# Generate classification report\n",
    "class_report = classification_report(y_test, y_pred)\n",
    "print(\"Classification Report:\\n\", class_report)"
   ]
  },
  {
   "cell_type": "markdown",
   "metadata": {},
   "source": [
    "### 3. XGBoost"
   ]
  },
  {
   "cell_type": "code",
   "execution_count": 50,
   "metadata": {},
   "outputs": [
    {
     "data": {
      "text/plain": [
       "0.9713261648745519"
      ]
     },
     "execution_count": 50,
     "metadata": {},
     "output_type": "execute_result"
    }
   ],
   "source": [
    "from sklearn.preprocessing import LabelEncoder\n",
    "\n",
    "label_encoder = LabelEncoder()\n",
    "y_train_encoded = label_encoder.fit_transform(y_train)\n",
    "y_test_encoded = label_encoder.transform(y_test)\n",
    "\n",
    "xgb = XGBClassifier()\n",
    "xgb.fit(X_train, y_train_encoded)\n",
    "y_pred = xgb.predict(X_test)\n",
    "accuracy_score(y_test_encoded, y_pred)"
   ]
  },
  {
   "cell_type": "code",
   "execution_count": 51,
   "metadata": {},
   "outputs": [
    {
     "name": "stdout",
     "output_type": "stream",
     "text": [
      "Accuracy: 0.9713261648745519\n",
      "Confusion Matrix:\n",
      " [[89  1  0]\n",
      " [ 5 94  1]\n",
      " [ 0  1 88]]\n",
      "Classification Report:\n",
      "               precision    recall  f1-score   support\n",
      "\n",
      "           0       0.95      0.99      0.97        90\n",
      "           1       0.98      0.94      0.96       100\n",
      "           2       0.99      0.99      0.99        89\n",
      "\n",
      "    accuracy                           0.97       279\n",
      "   macro avg       0.97      0.97      0.97       279\n",
      "weighted avg       0.97      0.97      0.97       279\n",
      "\n"
     ]
    }
   ],
   "source": [
    "# accuracy_score, recall_score, precision_score, confusion_matrix, f1_score, classification_report\n",
    "\n",
    "# Calculate accuracy\n",
    "accuracy = accuracy_score(y_test_encoded, y_pred)\n",
    "print(\"Accuracy:\", accuracy)\n",
    "\n",
    "# Calculate recall\n",
    "# recall = recall_score(y_test, y_pred)\n",
    "# print(\"Recall:\", recall)\n",
    "\n",
    "# Calculate precision\n",
    "# precision = precision_score(y_test, y_pred)\n",
    "# print(\"Precision:\", precision)\n",
    "\n",
    "# Calculate confusion matrix\n",
    "conf_matrix = confusion_matrix(y_test_encoded, y_pred)\n",
    "print(\"Confusion Matrix:\\n\", conf_matrix)\n",
    "\n",
    "# Calculate F1 score\n",
    "# f1 = f1_score(y_test, y_pred)\n",
    "# print(\"F1 Score:\", f1)\n",
    "\n",
    "# Generate classification report\n",
    "class_report = classification_report(y_test_encoded, y_pred)\n",
    "print(\"Classification Report:\\n\", class_report)"
   ]
  },
  {
   "cell_type": "markdown",
   "metadata": {},
   "source": [
    "Here the Decision tree gives **98.92%** accuracy, Random Forest gives **99.28%** accuracy and XGBoost gives **99.33%** accuracy.\n",
    "\n",
    "So here **XGBoost** model gives us best accuracy score."
   ]
  },
  {
   "cell_type": "markdown",
   "metadata": {},
   "source": [
    "## 2. Univariate Imputation\n",
    "\n",
    "In this Univariate Imputation using `mean()` , `median()` , `mode()` we fill the null values and remove the null values from dataset.\n",
    "\n",
    "The best advantage of this technique is here the number of row not reduce means the shape of dataset in constant."
   ]
  },
  {
   "cell_type": "code",
   "execution_count": 52,
   "metadata": {},
   "outputs": [],
   "source": [
    "df3 = df_null.copy()"
   ]
  },
  {
   "cell_type": "code",
   "execution_count": 53,
   "metadata": {},
   "outputs": [
    {
     "data": {
      "text/plain": [
       "4615"
      ]
     },
     "execution_count": 53,
     "metadata": {},
     "output_type": "execute_result"
    }
   ],
   "source": [
    "df3.isnull().sum().sum()"
   ]
  },
  {
   "cell_type": "markdown",
   "metadata": {},
   "source": [
    "To fill the null values here we use the mean imputation technique.\n",
    "\n",
    "To use mean imputation we use `df3[column_name].mean()` code."
   ]
  },
  {
   "cell_type": "code",
   "execution_count": 54,
   "metadata": {},
   "outputs": [],
   "source": [
    "clm = df3.columns\n",
    "\n",
    "for i,feat in enumerate(clm):\n",
    "    df3[feat].fillna(df3[feat].mean(), inplace=True)"
   ]
  },
  {
   "cell_type": "code",
   "execution_count": 55,
   "metadata": {},
   "outputs": [
    {
     "data": {
      "text/plain": [
       "0"
      ]
     },
     "execution_count": 55,
     "metadata": {},
     "output_type": "execute_result"
    }
   ],
   "source": [
    "df3.isnull().sum().sum()"
   ]
  },
  {
   "cell_type": "code",
   "execution_count": 56,
   "metadata": {},
   "outputs": [
    {
     "data": {
      "text/plain": [
       "(3954, 23)"
      ]
     },
     "execution_count": 56,
     "metadata": {},
     "output_type": "execute_result"
    }
   ],
   "source": [
    "df3.shape"
   ]
  },
  {
   "cell_type": "code",
   "execution_count": 57,
   "metadata": {},
   "outputs": [],
   "source": [
    "X = df3.drop(columns=['NSP'])\n",
    "y = df3['NSP']"
   ]
  },
  {
   "cell_type": "code",
   "execution_count": 58,
   "metadata": {},
   "outputs": [],
   "source": [
    "from sklearn.model_selection import train_test_split\n",
    "X_train, X_test, y_train, y_test = train_test_split(X,y,test_size=0.25)"
   ]
  },
  {
   "cell_type": "markdown",
   "metadata": {},
   "source": [
    "# Model Evaluation"
   ]
  },
  {
   "cell_type": "markdown",
   "metadata": {},
   "source": [
    "### 1. Decision Tree"
   ]
  },
  {
   "cell_type": "code",
   "execution_count": 59,
   "metadata": {},
   "outputs": [
    {
     "data": {
      "text/plain": [
       "0.9858442871587462"
      ]
     },
     "execution_count": 59,
     "metadata": {},
     "output_type": "execute_result"
    }
   ],
   "source": [
    "from sklearn.tree import DecisionTreeClassifier\n",
    "dt = DecisionTreeClassifier()\n",
    "dt.fit(X_train,y_train)\n",
    "y_pred = dt.predict(X_test)\n",
    "accuracy_score(y_test,y_pred)"
   ]
  },
  {
   "cell_type": "code",
   "execution_count": 60,
   "metadata": {},
   "outputs": [
    {
     "name": "stdout",
     "output_type": "stream",
     "text": [
      "Accuracy: 0.9858442871587462\n",
      "Confusion Matrix:\n",
      " [[329   4   0]\n",
      " [  2 317   7]\n",
      " [  0   1 329]]\n",
      "Classification Report:\n",
      "               precision    recall  f1-score   support\n",
      "\n",
      "           1       0.99      0.99      0.99       333\n",
      "           2       0.98      0.97      0.98       326\n",
      "           3       0.98      1.00      0.99       330\n",
      "\n",
      "    accuracy                           0.99       989\n",
      "   macro avg       0.99      0.99      0.99       989\n",
      "weighted avg       0.99      0.99      0.99       989\n",
      "\n"
     ]
    }
   ],
   "source": [
    "# accuracy_score, recall_score, precision_score, confusion_matrix, f1_score, classification_report\n",
    "\n",
    "# Calculate accuracy\n",
    "accuracy = accuracy_score(y_test, y_pred)\n",
    "print(\"Accuracy:\", accuracy)\n",
    "\n",
    "# Calculate recall\n",
    "# recall = recall_score(y_test, y_pred)\n",
    "# print(\"Recall:\", recall)\n",
    "\n",
    "# Calculate precision\n",
    "# precision = precision_score(y_test, y_pred)\n",
    "# print(\"Precision:\", precision)\n",
    "\n",
    "# Calculate confusion matrix\n",
    "conf_matrix = confusion_matrix(y_test, y_pred)\n",
    "print(\"Confusion Matrix:\\n\", conf_matrix)\n",
    "\n",
    "# Calculate F1 score\n",
    "# f1 = f1_score(y_test, y_pred)\n",
    "# print(\"F1 Score:\", f1)\n",
    "\n",
    "# Generate classification report\n",
    "class_report = classification_report(y_test, y_pred)\n",
    "print(\"Classification Report:\\n\", class_report)"
   ]
  },
  {
   "cell_type": "markdown",
   "metadata": {},
   "source": [
    "### 2. Random Forest"
   ]
  },
  {
   "cell_type": "code",
   "execution_count": 61,
   "metadata": {},
   "outputs": [
    {
     "data": {
      "text/plain": [
       "0.9959555106167847"
      ]
     },
     "execution_count": 61,
     "metadata": {},
     "output_type": "execute_result"
    }
   ],
   "source": [
    "from sklearn.ensemble import RandomForestClassifier\n",
    "rf = RandomForestClassifier()\n",
    "rf.fit(X_train,y_train)\n",
    "y_pred = rf.predict(X_test)\n",
    "accuracy_score(y_test,y_pred)"
   ]
  },
  {
   "cell_type": "code",
   "execution_count": 62,
   "metadata": {},
   "outputs": [
    {
     "name": "stdout",
     "output_type": "stream",
     "text": [
      "Accuracy: 0.9959555106167847\n",
      "Confusion Matrix:\n",
      " [[332   1   0]\n",
      " [  2 324   0]\n",
      " [  0   1 329]]\n",
      "Classification Report:\n",
      "               precision    recall  f1-score   support\n",
      "\n",
      "           1       0.99      1.00      1.00       333\n",
      "           2       0.99      0.99      0.99       326\n",
      "           3       1.00      1.00      1.00       330\n",
      "\n",
      "    accuracy                           1.00       989\n",
      "   macro avg       1.00      1.00      1.00       989\n",
      "weighted avg       1.00      1.00      1.00       989\n",
      "\n"
     ]
    }
   ],
   "source": [
    "# accuracy_score, recall_score, precision_score, confusion_matrix, f1_score, classification_report\n",
    "\n",
    "# Calculate accuracy\n",
    "accuracy = accuracy_score(y_test, y_pred)\n",
    "print(\"Accuracy:\", accuracy)\n",
    "\n",
    "# Calculate recall\n",
    "# recall = recall_score(y_test, y_pred)\n",
    "# print(\"Recall:\", recall)\n",
    "\n",
    "# Calculate precision\n",
    "# precision = precision_score(y_test, y_pred)\n",
    "# print(\"Precision:\", precision)\n",
    "\n",
    "# Calculate confusion matrix\n",
    "conf_matrix = confusion_matrix(y_test, y_pred)\n",
    "print(\"Confusion Matrix:\\n\", conf_matrix)\n",
    "\n",
    "# Calculate F1 score\n",
    "# f1 = f1_score(y_test, y_pred)\n",
    "# print(\"F1 Score:\", f1)\n",
    "\n",
    "# Generate classification report\n",
    "class_report = classification_report(y_test, y_pred)\n",
    "print(\"Classification Report:\\n\", class_report)"
   ]
  },
  {
   "cell_type": "markdown",
   "metadata": {},
   "source": [
    "### 3. XGBoost"
   ]
  },
  {
   "cell_type": "code",
   "execution_count": 63,
   "metadata": {},
   "outputs": [
    {
     "data": {
      "text/plain": [
       "0.9959555106167847"
      ]
     },
     "execution_count": 63,
     "metadata": {},
     "output_type": "execute_result"
    }
   ],
   "source": [
    "from sklearn.preprocessing import LabelEncoder\n",
    "\n",
    "label_encoder = LabelEncoder()\n",
    "y_train_encoded = label_encoder.fit_transform(y_train)\n",
    "y_test_encoded = label_encoder.transform(y_test)\n",
    "\n",
    "xgb = XGBClassifier()\n",
    "xgb.fit(X_train, y_train_encoded)\n",
    "y_pred = xgb.predict(X_test)\n",
    "accuracy_score(y_test_encoded, y_pred)"
   ]
  },
  {
   "cell_type": "code",
   "execution_count": 64,
   "metadata": {},
   "outputs": [
    {
     "name": "stdout",
     "output_type": "stream",
     "text": [
      "Accuracy: 0.9959555106167847\n",
      "Confusion Matrix:\n",
      " [[332   1   0]\n",
      " [  0 324   2]\n",
      " [  0   1 329]]\n",
      "Classification Report:\n",
      "               precision    recall  f1-score   support\n",
      "\n",
      "           0       1.00      1.00      1.00       333\n",
      "           1       0.99      0.99      0.99       326\n",
      "           2       0.99      1.00      1.00       330\n",
      "\n",
      "    accuracy                           1.00       989\n",
      "   macro avg       1.00      1.00      1.00       989\n",
      "weighted avg       1.00      1.00      1.00       989\n",
      "\n"
     ]
    }
   ],
   "source": [
    "# accuracy_score, recall_score, precision_score, confusion_matrix, f1_score, classification_report\n",
    "\n",
    "# Calculate accuracy\n",
    "accuracy = accuracy_score(y_test_encoded, y_pred)\n",
    "print(\"Accuracy:\", accuracy)\n",
    "\n",
    "# Calculate recall\n",
    "# recall = recall_score(y_test, y_pred)\n",
    "# print(\"Recall:\", recall)\n",
    "\n",
    "# Calculate precision\n",
    "# precision = precision_score(y_test, y_pred)\n",
    "# print(\"Precision:\", precision)\n",
    "\n",
    "# Calculate confusion matrix\n",
    "conf_matrix = confusion_matrix(y_test_encoded, y_pred)\n",
    "print(\"Confusion Matrix:\\n\", conf_matrix)\n",
    "\n",
    "# Calculate F1 score\n",
    "# f1 = f1_score(y_test, y_pred)\n",
    "# print(\"F1 Score:\", f1)\n",
    "\n",
    "# Generate classification report\n",
    "class_report = classification_report(y_test_encoded, y_pred)\n",
    "print(\"Classification Report:\\n\", class_report)"
   ]
  },
  {
   "cell_type": "markdown",
   "metadata": {},
   "source": [
    "Here the Decision tree gives **99.19%** accuracy, Random Forest gives **99.39%** accuracy and XGBoost gives **99.29%** accuracy.\n",
    "\n",
    "So here **Random Forest** model gives us best accuracy score."
   ]
  },
  {
   "cell_type": "markdown",
   "metadata": {},
   "source": [
    "## 3. Multivariate Imputation \n",
    "\n",
    "For this Multivariate Imputation technique we use KNNImputer that can fill the null values."
   ]
  },
  {
   "cell_type": "code",
   "execution_count": 65,
   "metadata": {},
   "outputs": [],
   "source": [
    "df4 = df_null.copy()"
   ]
  },
  {
   "cell_type": "code",
   "execution_count": 66,
   "metadata": {},
   "outputs": [
    {
     "data": {
      "text/plain": [
       "4615"
      ]
     },
     "execution_count": 66,
     "metadata": {},
     "output_type": "execute_result"
    }
   ],
   "source": [
    "df4.isnull().sum().sum()"
   ]
  },
  {
   "cell_type": "markdown",
   "metadata": {},
   "source": [
    "To remove null values first we import the KNNImputer module using `from sklearn.impute import KNNImputer` code."
   ]
  },
  {
   "cell_type": "code",
   "execution_count": 67,
   "metadata": {},
   "outputs": [],
   "source": [
    "from sklearn.impute import KNNImputer\n",
    "imputer = KNNImputer(n_neighbors=2)\n",
    "df4 = imputer.fit_transform(df4)"
   ]
  },
  {
   "cell_type": "code",
   "execution_count": 68,
   "metadata": {},
   "outputs": [
    {
     "data": {
      "text/plain": [
       "0"
      ]
     },
     "execution_count": 68,
     "metadata": {},
     "output_type": "execute_result"
    }
   ],
   "source": [
    "df4 = pd.DataFrame(df4)\n",
    "df4.isnull().sum().sum()"
   ]
  },
  {
   "cell_type": "code",
   "execution_count": 69,
   "metadata": {},
   "outputs": [
    {
     "data": {
      "text/html": [
       "<div>\n",
       "<style scoped>\n",
       "    .dataframe tbody tr th:only-of-type {\n",
       "        vertical-align: middle;\n",
       "    }\n",
       "\n",
       "    .dataframe tbody tr th {\n",
       "        vertical-align: top;\n",
       "    }\n",
       "\n",
       "    .dataframe thead th {\n",
       "        text-align: right;\n",
       "    }\n",
       "</style>\n",
       "<table border=\"1\" class=\"dataframe\">\n",
       "  <thead>\n",
       "    <tr style=\"text-align: right;\">\n",
       "      <th></th>\n",
       "      <th>0</th>\n",
       "      <th>1</th>\n",
       "      <th>2</th>\n",
       "      <th>3</th>\n",
       "      <th>4</th>\n",
       "      <th>5</th>\n",
       "      <th>6</th>\n",
       "      <th>7</th>\n",
       "      <th>8</th>\n",
       "      <th>9</th>\n",
       "      <th>10</th>\n",
       "      <th>11</th>\n",
       "      <th>12</th>\n",
       "      <th>13</th>\n",
       "      <th>14</th>\n",
       "      <th>15</th>\n",
       "      <th>16</th>\n",
       "      <th>17</th>\n",
       "      <th>18</th>\n",
       "      <th>19</th>\n",
       "      <th>20</th>\n",
       "      <th>21</th>\n",
       "      <th>22</th>\n",
       "    </tr>\n",
       "  </thead>\n",
       "  <tbody>\n",
       "    <tr>\n",
       "      <th>0</th>\n",
       "      <td>138.0</td>\n",
       "      <td>0.001708</td>\n",
       "      <td>0.0</td>\n",
       "      <td>0.006832</td>\n",
       "      <td>0.005124</td>\n",
       "      <td>0.0</td>\n",
       "      <td>0.0</td>\n",
       "      <td>32.0</td>\n",
       "      <td>1.1</td>\n",
       "      <td>16.0</td>\n",
       "      <td>6.6</td>\n",
       "      <td>78.0</td>\n",
       "      <td>97.0</td>\n",
       "      <td>175.0</td>\n",
       "      <td>5.0</td>\n",
       "      <td>0.0</td>\n",
       "      <td>145.0</td>\n",
       "      <td>139.0</td>\n",
       "      <td>144.0</td>\n",
       "      <td>16.0</td>\n",
       "      <td>0.0</td>\n",
       "      <td>6.0</td>\n",
       "      <td>1.0</td>\n",
       "    </tr>\n",
       "    <tr>\n",
       "      <th>1</th>\n",
       "      <td>122.0</td>\n",
       "      <td>0.003734</td>\n",
       "      <td>0.0</td>\n",
       "      <td>0.000000</td>\n",
       "      <td>0.007407</td>\n",
       "      <td>0.0</td>\n",
       "      <td>0.0</td>\n",
       "      <td>13.0</td>\n",
       "      <td>3.2</td>\n",
       "      <td>0.0</td>\n",
       "      <td>20.8</td>\n",
       "      <td>129.0</td>\n",
       "      <td>51.0</td>\n",
       "      <td>180.0</td>\n",
       "      <td>5.0</td>\n",
       "      <td>1.0</td>\n",
       "      <td>119.0</td>\n",
       "      <td>119.0</td>\n",
       "      <td>121.0</td>\n",
       "      <td>62.0</td>\n",
       "      <td>0.0</td>\n",
       "      <td>7.0</td>\n",
       "      <td>1.0</td>\n",
       "    </tr>\n",
       "    <tr>\n",
       "      <th>2</th>\n",
       "      <td>140.0</td>\n",
       "      <td>0.000679</td>\n",
       "      <td>0.0</td>\n",
       "      <td>0.006110</td>\n",
       "      <td>0.000000</td>\n",
       "      <td>0.0</td>\n",
       "      <td>0.0</td>\n",
       "      <td>78.0</td>\n",
       "      <td>0.4</td>\n",
       "      <td>27.0</td>\n",
       "      <td>7.0</td>\n",
       "      <td>66.0</td>\n",
       "      <td>103.0</td>\n",
       "      <td>169.0</td>\n",
       "      <td>6.0</td>\n",
       "      <td>0.0</td>\n",
       "      <td>152.0</td>\n",
       "      <td>147.0</td>\n",
       "      <td>151.0</td>\n",
       "      <td>4.0</td>\n",
       "      <td>1.0</td>\n",
       "      <td>5.0</td>\n",
       "      <td>2.0</td>\n",
       "    </tr>\n",
       "    <tr>\n",
       "      <th>3</th>\n",
       "      <td>131.0</td>\n",
       "      <td>0.000000</td>\n",
       "      <td>0.0</td>\n",
       "      <td>0.004785</td>\n",
       "      <td>0.000000</td>\n",
       "      <td>0.0</td>\n",
       "      <td>0.0</td>\n",
       "      <td>29.0</td>\n",
       "      <td>1.0</td>\n",
       "      <td>0.0</td>\n",
       "      <td>12.9</td>\n",
       "      <td>31.0</td>\n",
       "      <td>115.0</td>\n",
       "      <td>146.0</td>\n",
       "      <td>0.0</td>\n",
       "      <td>0.0</td>\n",
       "      <td>129.0</td>\n",
       "      <td>131.0</td>\n",
       "      <td>132.0</td>\n",
       "      <td>3.0</td>\n",
       "      <td>0.0</td>\n",
       "      <td>1.0</td>\n",
       "      <td>1.0</td>\n",
       "    </tr>\n",
       "    <tr>\n",
       "      <th>4</th>\n",
       "      <td>120.0</td>\n",
       "      <td>0.003145</td>\n",
       "      <td>0.0</td>\n",
       "      <td>0.003145</td>\n",
       "      <td>0.000000</td>\n",
       "      <td>0.0</td>\n",
       "      <td>0.0</td>\n",
       "      <td>37.0</td>\n",
       "      <td>1.1</td>\n",
       "      <td>0.0</td>\n",
       "      <td>9.6</td>\n",
       "      <td>25.0</td>\n",
       "      <td>112.0</td>\n",
       "      <td>137.0</td>\n",
       "      <td>1.0</td>\n",
       "      <td>0.0</td>\n",
       "      <td>127.0</td>\n",
       "      <td>127.0</td>\n",
       "      <td>129.0</td>\n",
       "      <td>2.0</td>\n",
       "      <td>0.0</td>\n",
       "      <td>1.0</td>\n",
       "      <td>1.0</td>\n",
       "    </tr>\n",
       "  </tbody>\n",
       "</table>\n",
       "</div>"
      ],
      "text/plain": [
       "      0         1    2         3         4    5    6     7    8     9     10  \\\n",
       "0  138.0  0.001708  0.0  0.006832  0.005124  0.0  0.0  32.0  1.1  16.0   6.6   \n",
       "1  122.0  0.003734  0.0  0.000000  0.007407  0.0  0.0  13.0  3.2   0.0  20.8   \n",
       "2  140.0  0.000679  0.0  0.006110  0.000000  0.0  0.0  78.0  0.4  27.0   7.0   \n",
       "3  131.0  0.000000  0.0  0.004785  0.000000  0.0  0.0  29.0  1.0   0.0  12.9   \n",
       "4  120.0  0.003145  0.0  0.003145  0.000000  0.0  0.0  37.0  1.1   0.0   9.6   \n",
       "\n",
       "      11     12     13   14   15     16     17     18    19   20   21   22  \n",
       "0   78.0   97.0  175.0  5.0  0.0  145.0  139.0  144.0  16.0  0.0  6.0  1.0  \n",
       "1  129.0   51.0  180.0  5.0  1.0  119.0  119.0  121.0  62.0  0.0  7.0  1.0  \n",
       "2   66.0  103.0  169.0  6.0  0.0  152.0  147.0  151.0   4.0  1.0  5.0  2.0  \n",
       "3   31.0  115.0  146.0  0.0  0.0  129.0  131.0  132.0   3.0  0.0  1.0  1.0  \n",
       "4   25.0  112.0  137.0  1.0  0.0  127.0  127.0  129.0   2.0  0.0  1.0  1.0  "
      ]
     },
     "execution_count": 69,
     "metadata": {},
     "output_type": "execute_result"
    }
   ],
   "source": [
    "df4.head()"
   ]
  },
  {
   "cell_type": "markdown",
   "metadata": {},
   "source": [
    "Now in the dataset no null value is present.\n",
    "\n",
    "For use the KNNImputer the column name have change."
   ]
  },
  {
   "cell_type": "code",
   "execution_count": 70,
   "metadata": {},
   "outputs": [],
   "source": [
    "X = df4.iloc[:,0:22]\n",
    "y = df4.iloc[:,-1]"
   ]
  },
  {
   "cell_type": "code",
   "execution_count": 71,
   "metadata": {},
   "outputs": [
    {
     "data": {
      "text/html": [
       "<div>\n",
       "<style scoped>\n",
       "    .dataframe tbody tr th:only-of-type {\n",
       "        vertical-align: middle;\n",
       "    }\n",
       "\n",
       "    .dataframe tbody tr th {\n",
       "        vertical-align: top;\n",
       "    }\n",
       "\n",
       "    .dataframe thead th {\n",
       "        text-align: right;\n",
       "    }\n",
       "</style>\n",
       "<table border=\"1\" class=\"dataframe\">\n",
       "  <thead>\n",
       "    <tr style=\"text-align: right;\">\n",
       "      <th></th>\n",
       "      <th>0</th>\n",
       "      <th>1</th>\n",
       "      <th>2</th>\n",
       "      <th>3</th>\n",
       "      <th>4</th>\n",
       "      <th>5</th>\n",
       "      <th>6</th>\n",
       "      <th>7</th>\n",
       "      <th>8</th>\n",
       "      <th>9</th>\n",
       "      <th>10</th>\n",
       "      <th>11</th>\n",
       "      <th>12</th>\n",
       "      <th>13</th>\n",
       "      <th>14</th>\n",
       "      <th>15</th>\n",
       "      <th>16</th>\n",
       "      <th>17</th>\n",
       "      <th>18</th>\n",
       "      <th>19</th>\n",
       "      <th>20</th>\n",
       "      <th>21</th>\n",
       "    </tr>\n",
       "  </thead>\n",
       "  <tbody>\n",
       "    <tr>\n",
       "      <th>0</th>\n",
       "      <td>138.0</td>\n",
       "      <td>0.001708</td>\n",
       "      <td>0.0</td>\n",
       "      <td>0.006832</td>\n",
       "      <td>0.005124</td>\n",
       "      <td>0.0</td>\n",
       "      <td>0.0</td>\n",
       "      <td>32.0</td>\n",
       "      <td>1.1</td>\n",
       "      <td>16.0</td>\n",
       "      <td>6.6</td>\n",
       "      <td>78.0</td>\n",
       "      <td>97.0</td>\n",
       "      <td>175.0</td>\n",
       "      <td>5.0</td>\n",
       "      <td>0.0</td>\n",
       "      <td>145.0</td>\n",
       "      <td>139.0</td>\n",
       "      <td>144.0</td>\n",
       "      <td>16.0</td>\n",
       "      <td>0.0</td>\n",
       "      <td>6.0</td>\n",
       "    </tr>\n",
       "    <tr>\n",
       "      <th>1</th>\n",
       "      <td>122.0</td>\n",
       "      <td>0.003734</td>\n",
       "      <td>0.0</td>\n",
       "      <td>0.000000</td>\n",
       "      <td>0.007407</td>\n",
       "      <td>0.0</td>\n",
       "      <td>0.0</td>\n",
       "      <td>13.0</td>\n",
       "      <td>3.2</td>\n",
       "      <td>0.0</td>\n",
       "      <td>20.8</td>\n",
       "      <td>129.0</td>\n",
       "      <td>51.0</td>\n",
       "      <td>180.0</td>\n",
       "      <td>5.0</td>\n",
       "      <td>1.0</td>\n",
       "      <td>119.0</td>\n",
       "      <td>119.0</td>\n",
       "      <td>121.0</td>\n",
       "      <td>62.0</td>\n",
       "      <td>0.0</td>\n",
       "      <td>7.0</td>\n",
       "    </tr>\n",
       "    <tr>\n",
       "      <th>2</th>\n",
       "      <td>140.0</td>\n",
       "      <td>0.000679</td>\n",
       "      <td>0.0</td>\n",
       "      <td>0.006110</td>\n",
       "      <td>0.000000</td>\n",
       "      <td>0.0</td>\n",
       "      <td>0.0</td>\n",
       "      <td>78.0</td>\n",
       "      <td>0.4</td>\n",
       "      <td>27.0</td>\n",
       "      <td>7.0</td>\n",
       "      <td>66.0</td>\n",
       "      <td>103.0</td>\n",
       "      <td>169.0</td>\n",
       "      <td>6.0</td>\n",
       "      <td>0.0</td>\n",
       "      <td>152.0</td>\n",
       "      <td>147.0</td>\n",
       "      <td>151.0</td>\n",
       "      <td>4.0</td>\n",
       "      <td>1.0</td>\n",
       "      <td>5.0</td>\n",
       "    </tr>\n",
       "    <tr>\n",
       "      <th>3</th>\n",
       "      <td>131.0</td>\n",
       "      <td>0.000000</td>\n",
       "      <td>0.0</td>\n",
       "      <td>0.004785</td>\n",
       "      <td>0.000000</td>\n",
       "      <td>0.0</td>\n",
       "      <td>0.0</td>\n",
       "      <td>29.0</td>\n",
       "      <td>1.0</td>\n",
       "      <td>0.0</td>\n",
       "      <td>12.9</td>\n",
       "      <td>31.0</td>\n",
       "      <td>115.0</td>\n",
       "      <td>146.0</td>\n",
       "      <td>0.0</td>\n",
       "      <td>0.0</td>\n",
       "      <td>129.0</td>\n",
       "      <td>131.0</td>\n",
       "      <td>132.0</td>\n",
       "      <td>3.0</td>\n",
       "      <td>0.0</td>\n",
       "      <td>1.0</td>\n",
       "    </tr>\n",
       "    <tr>\n",
       "      <th>4</th>\n",
       "      <td>120.0</td>\n",
       "      <td>0.003145</td>\n",
       "      <td>0.0</td>\n",
       "      <td>0.003145</td>\n",
       "      <td>0.000000</td>\n",
       "      <td>0.0</td>\n",
       "      <td>0.0</td>\n",
       "      <td>37.0</td>\n",
       "      <td>1.1</td>\n",
       "      <td>0.0</td>\n",
       "      <td>9.6</td>\n",
       "      <td>25.0</td>\n",
       "      <td>112.0</td>\n",
       "      <td>137.0</td>\n",
       "      <td>1.0</td>\n",
       "      <td>0.0</td>\n",
       "      <td>127.0</td>\n",
       "      <td>127.0</td>\n",
       "      <td>129.0</td>\n",
       "      <td>2.0</td>\n",
       "      <td>0.0</td>\n",
       "      <td>1.0</td>\n",
       "    </tr>\n",
       "  </tbody>\n",
       "</table>\n",
       "</div>"
      ],
      "text/plain": [
       "      0         1    2         3         4    5    6     7    8     9     10  \\\n",
       "0  138.0  0.001708  0.0  0.006832  0.005124  0.0  0.0  32.0  1.1  16.0   6.6   \n",
       "1  122.0  0.003734  0.0  0.000000  0.007407  0.0  0.0  13.0  3.2   0.0  20.8   \n",
       "2  140.0  0.000679  0.0  0.006110  0.000000  0.0  0.0  78.0  0.4  27.0   7.0   \n",
       "3  131.0  0.000000  0.0  0.004785  0.000000  0.0  0.0  29.0  1.0   0.0  12.9   \n",
       "4  120.0  0.003145  0.0  0.003145  0.000000  0.0  0.0  37.0  1.1   0.0   9.6   \n",
       "\n",
       "      11     12     13   14   15     16     17     18    19   20   21  \n",
       "0   78.0   97.0  175.0  5.0  0.0  145.0  139.0  144.0  16.0  0.0  6.0  \n",
       "1  129.0   51.0  180.0  5.0  1.0  119.0  119.0  121.0  62.0  0.0  7.0  \n",
       "2   66.0  103.0  169.0  6.0  0.0  152.0  147.0  151.0   4.0  1.0  5.0  \n",
       "3   31.0  115.0  146.0  0.0  0.0  129.0  131.0  132.0   3.0  0.0  1.0  \n",
       "4   25.0  112.0  137.0  1.0  0.0  127.0  127.0  129.0   2.0  0.0  1.0  "
      ]
     },
     "execution_count": 71,
     "metadata": {},
     "output_type": "execute_result"
    }
   ],
   "source": [
    "X.head()"
   ]
  },
  {
   "cell_type": "code",
   "execution_count": 72,
   "metadata": {},
   "outputs": [
    {
     "data": {
      "text/plain": [
       "0    1.0\n",
       "1    1.0\n",
       "2    2.0\n",
       "3    1.0\n",
       "4    1.0\n",
       "Name: 22, dtype: float64"
      ]
     },
     "execution_count": 72,
     "metadata": {},
     "output_type": "execute_result"
    }
   ],
   "source": [
    "y.head()"
   ]
  },
  {
   "cell_type": "code",
   "execution_count": 73,
   "metadata": {},
   "outputs": [],
   "source": [
    "from sklearn.model_selection import train_test_split\n",
    "X_train, X_test, y_train, y_test = train_test_split(X,y,test_size=0.25)"
   ]
  },
  {
   "cell_type": "markdown",
   "metadata": {},
   "source": [
    "# Model Evaluation"
   ]
  },
  {
   "cell_type": "markdown",
   "metadata": {},
   "source": [
    "### 1. Decision Tree"
   ]
  },
  {
   "cell_type": "code",
   "execution_count": 74,
   "metadata": {},
   "outputs": [
    {
     "data": {
      "text/plain": [
       "0.9838220424671386"
      ]
     },
     "execution_count": 74,
     "metadata": {},
     "output_type": "execute_result"
    }
   ],
   "source": [
    "from sklearn.tree import DecisionTreeClassifier\n",
    "dt = DecisionTreeClassifier()\n",
    "dt.fit(X_train,y_train)\n",
    "y_pred = dt.predict(X_test)\n",
    "accuracy_score(y_test,y_pred)"
   ]
  },
  {
   "cell_type": "code",
   "execution_count": 75,
   "metadata": {},
   "outputs": [
    {
     "name": "stdout",
     "output_type": "stream",
     "text": [
      "Accuracy: 0.9838220424671386\n",
      "Confusion Matrix:\n",
      " [[321   8   0]\n",
      " [  0 326   6]\n",
      " [  0   2 326]]\n",
      "Classification Report:\n",
      "               precision    recall  f1-score   support\n",
      "\n",
      "         1.0       1.00      0.98      0.99       329\n",
      "         2.0       0.97      0.98      0.98       332\n",
      "         3.0       0.98      0.99      0.99       328\n",
      "\n",
      "    accuracy                           0.98       989\n",
      "   macro avg       0.98      0.98      0.98       989\n",
      "weighted avg       0.98      0.98      0.98       989\n",
      "\n"
     ]
    }
   ],
   "source": [
    "# accuracy_score, recall_score, precision_score, confusion_matrix, f1_score, classification_report\n",
    "\n",
    "# Calculate accuracy\n",
    "accuracy = accuracy_score(y_test, y_pred)\n",
    "print(\"Accuracy:\", accuracy)\n",
    "\n",
    "# Calculate recall\n",
    "# recall = recall_score(y_test, y_pred)\n",
    "# print(\"Recall:\", recall)\n",
    "\n",
    "# Calculate precision\n",
    "# precision = precision_score(y_test, y_pred)\n",
    "# print(\"Precision:\", precision)\n",
    "\n",
    "# Calculate confusion matrix\n",
    "conf_matrix = confusion_matrix(y_test, y_pred)\n",
    "print(\"Confusion Matrix:\\n\", conf_matrix)\n",
    "\n",
    "# Calculate F1 score\n",
    "# f1 = f1_score(y_test, y_pred)\n",
    "# print(\"F1 Score:\", f1)\n",
    "\n",
    "# Generate classification report\n",
    "class_report = classification_report(y_test, y_pred)\n",
    "print(\"Classification Report:\\n\", class_report)"
   ]
  },
  {
   "cell_type": "markdown",
   "metadata": {},
   "source": [
    "### 2. Random Forest"
   ]
  },
  {
   "cell_type": "code",
   "execution_count": 76,
   "metadata": {},
   "outputs": [
    {
     "data": {
      "text/plain": [
       "0.9908998988877654"
      ]
     },
     "execution_count": 76,
     "metadata": {},
     "output_type": "execute_result"
    }
   ],
   "source": [
    "from sklearn.ensemble import RandomForestClassifier\n",
    "rf = RandomForestClassifier()\n",
    "rf.fit(X_train,y_train)\n",
    "y_pred = rf.predict(X_test)\n",
    "accuracy_score(y_test,y_pred)"
   ]
  },
  {
   "cell_type": "code",
   "execution_count": 77,
   "metadata": {},
   "outputs": [
    {
     "name": "stdout",
     "output_type": "stream",
     "text": [
      "Accuracy: 0.9908998988877654\n",
      "Confusion Matrix:\n",
      " [[326   3   0]\n",
      " [  4 327   1]\n",
      " [  0   1 327]]\n",
      "Classification Report:\n",
      "               precision    recall  f1-score   support\n",
      "\n",
      "         1.0       0.99      0.99      0.99       329\n",
      "         2.0       0.99      0.98      0.99       332\n",
      "         3.0       1.00      1.00      1.00       328\n",
      "\n",
      "    accuracy                           0.99       989\n",
      "   macro avg       0.99      0.99      0.99       989\n",
      "weighted avg       0.99      0.99      0.99       989\n",
      "\n"
     ]
    }
   ],
   "source": [
    "# accuracy_score, recall_score, precision_score, confusion_matrix, f1_score, classification_report\n",
    "\n",
    "# Calculate accuracy\n",
    "accuracy = accuracy_score(y_test, y_pred)\n",
    "print(\"Accuracy:\", accuracy)\n",
    "\n",
    "# Calculate recall\n",
    "# recall = recall_score(y_test, y_pred)\n",
    "# print(\"Recall:\", recall)\n",
    "\n",
    "# Calculate precision\n",
    "# precision = precision_score(y_test, y_pred)\n",
    "# print(\"Precision:\", precision)\n",
    "\n",
    "# Calculate confusion matrix\n",
    "conf_matrix = confusion_matrix(y_test, y_pred)\n",
    "print(\"Confusion Matrix:\\n\", conf_matrix)\n",
    "\n",
    "# Calculate F1 score\n",
    "# f1 = f1_score(y_test, y_pred)\n",
    "# print(\"F1 Score:\", f1)\n",
    "\n",
    "# Generate classification report\n",
    "class_report = classification_report(y_test, y_pred)\n",
    "print(\"Classification Report:\\n\", class_report)"
   ]
  },
  {
   "cell_type": "markdown",
   "metadata": {},
   "source": [
    "### 3. XGBoost"
   ]
  },
  {
   "cell_type": "code",
   "execution_count": 78,
   "metadata": {},
   "outputs": [
    {
     "data": {
      "text/plain": [
       "0.9908998988877654"
      ]
     },
     "execution_count": 78,
     "metadata": {},
     "output_type": "execute_result"
    }
   ],
   "source": [
    "from sklearn.preprocessing import LabelEncoder\n",
    "\n",
    "label_encoder = LabelEncoder()\n",
    "y_train_encoded = label_encoder.fit_transform(y_train)\n",
    "y_test_encoded = label_encoder.transform(y_test)\n",
    "\n",
    "xgb = XGBClassifier()\n",
    "xgb.fit(X_train, y_train_encoded)\n",
    "y_pred = xgb.predict(X_test)\n",
    "accuracy_score(y_test_encoded, y_pred)"
   ]
  },
  {
   "cell_type": "code",
   "execution_count": 79,
   "metadata": {},
   "outputs": [
    {
     "name": "stdout",
     "output_type": "stream",
     "text": [
      "Accuracy: 0.9908998988877654\n",
      "Confusion Matrix:\n",
      " [[325   4   0]\n",
      " [  1 327   4]\n",
      " [  0   0 328]]\n",
      "Classification Report:\n",
      "               precision    recall  f1-score   support\n",
      "\n",
      "           0       1.00      0.99      0.99       329\n",
      "           1       0.99      0.98      0.99       332\n",
      "           2       0.99      1.00      0.99       328\n",
      "\n",
      "    accuracy                           0.99       989\n",
      "   macro avg       0.99      0.99      0.99       989\n",
      "weighted avg       0.99      0.99      0.99       989\n",
      "\n"
     ]
    }
   ],
   "source": [
    "# accuracy_score, recall_score, precision_score, confusion_matrix, f1_score, classification_report\n",
    "\n",
    "# Calculate accuracy\n",
    "accuracy = accuracy_score(y_test_encoded, y_pred)\n",
    "print(\"Accuracy:\", accuracy)\n",
    "\n",
    "# Calculate recall\n",
    "# recall = recall_score(y_test, y_pred)\n",
    "# print(\"Recall:\", recall)\n",
    "\n",
    "# Calculate precision\n",
    "# precision = precision_score(y_test, y_pred)\n",
    "# print(\"Precision:\", precision)\n",
    "\n",
    "# Calculate confusion matrix\n",
    "conf_matrix = confusion_matrix(y_test_encoded, y_pred)\n",
    "print(\"Confusion Matrix:\\n\", conf_matrix)\n",
    "\n",
    "# Calculate F1 score\n",
    "# f1 = f1_score(y_test, y_pred)\n",
    "# print(\"F1 Score:\", f1)\n",
    "\n",
    "# Generate classification report\n",
    "class_report = classification_report(y_test_encoded, y_pred)\n",
    "print(\"Classification Report:\\n\", class_report)"
   ]
  },
  {
   "cell_type": "markdown",
   "metadata": {},
   "source": [
    "Here the Decision tree gives **99.29%** accuracy, Random Forest gives **99.59%** accuracy and XGBoost gives **99.49%** accuracy.\n",
    "\n",
    "So here **Random Forest** model gives us best accuracy score."
   ]
  },
  {
   "cell_type": "markdown",
   "metadata": {},
   "source": [
    "# Conclusion "
   ]
  },
  {
   "cell_type": "code",
   "execution_count": 80,
   "metadata": {},
   "outputs": [],
   "source": [
    "# from sklearn import metrics\n",
    "# confusion_matrix = metrics.confusion_matrix(y_test,y_pred)\n",
    "\n",
    "# cm_display = metrics.ConfusionMatrixDisplay(confusion_matrix = confusion_matrix, display_labels = [1, 2, 3])\n",
    "\n",
    "# cm_display.plot()\n",
    "# plt.show()"
   ]
  },
  {
   "cell_type": "markdown",
   "metadata": {},
   "source": [
    "In this below table you see the all accurey score of all models (Decision Tree, Random Forest, XGBoost) in different kind Data Pre-Processing.\n",
    "\n",
    "\n",
    "\n",
    "|     | Decision Tree | Random Forest | XGBoost |\n",
    "| :---------- | :------------- | :------------ | :------------ |\n",
    "| **Without Data Cleaning** | 98.18% | 99.39% | 99.49% |\n",
    "| **Remove the Rows** | 98.92% | 99.28% | 99.33% |\n",
    "| **Univariate Imputation** | 99.19% | 99.39% | 99.29% |\n",
    "| **Multivariate Imputation** | 99.29% | 99.59% | 99.49% |"
   ]
  },
  {
   "cell_type": "markdown",
   "metadata": {},
   "source": [
    "Till now we have see the **KNNImputer** and **Ramdom Forest** together gives the best output result."
   ]
  },
  {
   "cell_type": "markdown",
   "metadata": {},
   "source": [
    "Now we see the Features Important in ECG Dataset."
   ]
  },
  {
   "cell_type": "markdown",
   "metadata": {},
   "source": [
    "# Features Engineering "
   ]
  },
  {
   "cell_type": "markdown",
   "metadata": {},
   "source": [
    "In `df4` dataset we perform the KNNImputer for Data cleaning the we have used the **Random Forest** algorithm and this give the best result. So now we will use `df4` dataset to check whether the feature engineering gives the best, same, or worse result"
   ]
  },
  {
   "cell_type": "code",
   "execution_count": 81,
   "metadata": {},
   "outputs": [
    {
     "data": {
      "text/plain": [
       "0"
      ]
     },
     "execution_count": 81,
     "metadata": {},
     "output_type": "execute_result"
    }
   ],
   "source": [
    "df4.isnull().sum().sum()"
   ]
  },
  {
   "cell_type": "code",
   "execution_count": 82,
   "metadata": {},
   "outputs": [
    {
     "data": {
      "text/plain": [
       "(3954, 23)"
      ]
     },
     "execution_count": 82,
     "metadata": {},
     "output_type": "execute_result"
    }
   ],
   "source": [
    "df4.shape"
   ]
  },
  {
   "cell_type": "code",
   "execution_count": 83,
   "metadata": {},
   "outputs": [
    {
     "data": {
      "text/html": [
       "<div>\n",
       "<style scoped>\n",
       "    .dataframe tbody tr th:only-of-type {\n",
       "        vertical-align: middle;\n",
       "    }\n",
       "\n",
       "    .dataframe tbody tr th {\n",
       "        vertical-align: top;\n",
       "    }\n",
       "\n",
       "    .dataframe thead th {\n",
       "        text-align: right;\n",
       "    }\n",
       "</style>\n",
       "<table border=\"1\" class=\"dataframe\">\n",
       "  <thead>\n",
       "    <tr style=\"text-align: right;\">\n",
       "      <th></th>\n",
       "      <th>0</th>\n",
       "      <th>1</th>\n",
       "      <th>2</th>\n",
       "      <th>3</th>\n",
       "      <th>4</th>\n",
       "      <th>5</th>\n",
       "      <th>6</th>\n",
       "      <th>7</th>\n",
       "      <th>8</th>\n",
       "      <th>9</th>\n",
       "      <th>10</th>\n",
       "      <th>11</th>\n",
       "      <th>12</th>\n",
       "      <th>13</th>\n",
       "      <th>14</th>\n",
       "      <th>15</th>\n",
       "      <th>16</th>\n",
       "      <th>17</th>\n",
       "      <th>18</th>\n",
       "      <th>19</th>\n",
       "      <th>20</th>\n",
       "      <th>21</th>\n",
       "      <th>22</th>\n",
       "    </tr>\n",
       "  </thead>\n",
       "  <tbody>\n",
       "    <tr>\n",
       "      <th>0</th>\n",
       "      <td>138.0</td>\n",
       "      <td>0.001708</td>\n",
       "      <td>0.0</td>\n",
       "      <td>0.006832</td>\n",
       "      <td>0.005124</td>\n",
       "      <td>0.0</td>\n",
       "      <td>0.0</td>\n",
       "      <td>32.0</td>\n",
       "      <td>1.1</td>\n",
       "      <td>16.0</td>\n",
       "      <td>6.6</td>\n",
       "      <td>78.0</td>\n",
       "      <td>97.0</td>\n",
       "      <td>175.0</td>\n",
       "      <td>5.0</td>\n",
       "      <td>0.0</td>\n",
       "      <td>145.0</td>\n",
       "      <td>139.0</td>\n",
       "      <td>144.0</td>\n",
       "      <td>16.0</td>\n",
       "      <td>0.0</td>\n",
       "      <td>6.0</td>\n",
       "      <td>1.0</td>\n",
       "    </tr>\n",
       "    <tr>\n",
       "      <th>1</th>\n",
       "      <td>122.0</td>\n",
       "      <td>0.003734</td>\n",
       "      <td>0.0</td>\n",
       "      <td>0.000000</td>\n",
       "      <td>0.007407</td>\n",
       "      <td>0.0</td>\n",
       "      <td>0.0</td>\n",
       "      <td>13.0</td>\n",
       "      <td>3.2</td>\n",
       "      <td>0.0</td>\n",
       "      <td>20.8</td>\n",
       "      <td>129.0</td>\n",
       "      <td>51.0</td>\n",
       "      <td>180.0</td>\n",
       "      <td>5.0</td>\n",
       "      <td>1.0</td>\n",
       "      <td>119.0</td>\n",
       "      <td>119.0</td>\n",
       "      <td>121.0</td>\n",
       "      <td>62.0</td>\n",
       "      <td>0.0</td>\n",
       "      <td>7.0</td>\n",
       "      <td>1.0</td>\n",
       "    </tr>\n",
       "    <tr>\n",
       "      <th>2</th>\n",
       "      <td>140.0</td>\n",
       "      <td>0.000679</td>\n",
       "      <td>0.0</td>\n",
       "      <td>0.006110</td>\n",
       "      <td>0.000000</td>\n",
       "      <td>0.0</td>\n",
       "      <td>0.0</td>\n",
       "      <td>78.0</td>\n",
       "      <td>0.4</td>\n",
       "      <td>27.0</td>\n",
       "      <td>7.0</td>\n",
       "      <td>66.0</td>\n",
       "      <td>103.0</td>\n",
       "      <td>169.0</td>\n",
       "      <td>6.0</td>\n",
       "      <td>0.0</td>\n",
       "      <td>152.0</td>\n",
       "      <td>147.0</td>\n",
       "      <td>151.0</td>\n",
       "      <td>4.0</td>\n",
       "      <td>1.0</td>\n",
       "      <td>5.0</td>\n",
       "      <td>2.0</td>\n",
       "    </tr>\n",
       "    <tr>\n",
       "      <th>3</th>\n",
       "      <td>131.0</td>\n",
       "      <td>0.000000</td>\n",
       "      <td>0.0</td>\n",
       "      <td>0.004785</td>\n",
       "      <td>0.000000</td>\n",
       "      <td>0.0</td>\n",
       "      <td>0.0</td>\n",
       "      <td>29.0</td>\n",
       "      <td>1.0</td>\n",
       "      <td>0.0</td>\n",
       "      <td>12.9</td>\n",
       "      <td>31.0</td>\n",
       "      <td>115.0</td>\n",
       "      <td>146.0</td>\n",
       "      <td>0.0</td>\n",
       "      <td>0.0</td>\n",
       "      <td>129.0</td>\n",
       "      <td>131.0</td>\n",
       "      <td>132.0</td>\n",
       "      <td>3.0</td>\n",
       "      <td>0.0</td>\n",
       "      <td>1.0</td>\n",
       "      <td>1.0</td>\n",
       "    </tr>\n",
       "    <tr>\n",
       "      <th>4</th>\n",
       "      <td>120.0</td>\n",
       "      <td>0.003145</td>\n",
       "      <td>0.0</td>\n",
       "      <td>0.003145</td>\n",
       "      <td>0.000000</td>\n",
       "      <td>0.0</td>\n",
       "      <td>0.0</td>\n",
       "      <td>37.0</td>\n",
       "      <td>1.1</td>\n",
       "      <td>0.0</td>\n",
       "      <td>9.6</td>\n",
       "      <td>25.0</td>\n",
       "      <td>112.0</td>\n",
       "      <td>137.0</td>\n",
       "      <td>1.0</td>\n",
       "      <td>0.0</td>\n",
       "      <td>127.0</td>\n",
       "      <td>127.0</td>\n",
       "      <td>129.0</td>\n",
       "      <td>2.0</td>\n",
       "      <td>0.0</td>\n",
       "      <td>1.0</td>\n",
       "      <td>1.0</td>\n",
       "    </tr>\n",
       "  </tbody>\n",
       "</table>\n",
       "</div>"
      ],
      "text/plain": [
       "      0         1    2         3         4    5    6     7    8     9     10  \\\n",
       "0  138.0  0.001708  0.0  0.006832  0.005124  0.0  0.0  32.0  1.1  16.0   6.6   \n",
       "1  122.0  0.003734  0.0  0.000000  0.007407  0.0  0.0  13.0  3.2   0.0  20.8   \n",
       "2  140.0  0.000679  0.0  0.006110  0.000000  0.0  0.0  78.0  0.4  27.0   7.0   \n",
       "3  131.0  0.000000  0.0  0.004785  0.000000  0.0  0.0  29.0  1.0   0.0  12.9   \n",
       "4  120.0  0.003145  0.0  0.003145  0.000000  0.0  0.0  37.0  1.1   0.0   9.6   \n",
       "\n",
       "      11     12     13   14   15     16     17     18    19   20   21   22  \n",
       "0   78.0   97.0  175.0  5.0  0.0  145.0  139.0  144.0  16.0  0.0  6.0  1.0  \n",
       "1  129.0   51.0  180.0  5.0  1.0  119.0  119.0  121.0  62.0  0.0  7.0  1.0  \n",
       "2   66.0  103.0  169.0  6.0  0.0  152.0  147.0  151.0   4.0  1.0  5.0  2.0  \n",
       "3   31.0  115.0  146.0  0.0  0.0  129.0  131.0  132.0   3.0  0.0  1.0  1.0  \n",
       "4   25.0  112.0  137.0  1.0  0.0  127.0  127.0  129.0   2.0  0.0  1.0  1.0  "
      ]
     },
     "execution_count": 83,
     "metadata": {},
     "output_type": "execute_result"
    }
   ],
   "source": [
    "df4.head()"
   ]
  },
  {
   "cell_type": "code",
   "execution_count": 84,
   "metadata": {},
   "outputs": [
    {
     "data": {
      "text/plain": [
       "RangeIndex(start=0, stop=23, step=1)"
      ]
     },
     "execution_count": 84,
     "metadata": {},
     "output_type": "execute_result"
    }
   ],
   "source": [
    "df4.columns"
   ]
  },
  {
   "cell_type": "markdown",
   "metadata": {},
   "source": [
    "First we will extract the features from `df4` dataset using `features = df4.drop(columns=[22])` code."
   ]
  },
  {
   "cell_type": "code",
   "execution_count": 85,
   "metadata": {},
   "outputs": [],
   "source": [
    "features = df4.drop(columns=[22])"
   ]
  },
  {
   "cell_type": "code",
   "execution_count": 86,
   "metadata": {},
   "outputs": [
    {
     "data": {
      "text/html": [
       "<div>\n",
       "<style scoped>\n",
       "    .dataframe tbody tr th:only-of-type {\n",
       "        vertical-align: middle;\n",
       "    }\n",
       "\n",
       "    .dataframe tbody tr th {\n",
       "        vertical-align: top;\n",
       "    }\n",
       "\n",
       "    .dataframe thead th {\n",
       "        text-align: right;\n",
       "    }\n",
       "</style>\n",
       "<table border=\"1\" class=\"dataframe\">\n",
       "  <thead>\n",
       "    <tr style=\"text-align: right;\">\n",
       "      <th></th>\n",
       "      <th>0</th>\n",
       "      <th>1</th>\n",
       "      <th>2</th>\n",
       "      <th>3</th>\n",
       "      <th>4</th>\n",
       "      <th>5</th>\n",
       "      <th>6</th>\n",
       "      <th>7</th>\n",
       "      <th>8</th>\n",
       "      <th>9</th>\n",
       "      <th>10</th>\n",
       "      <th>11</th>\n",
       "      <th>12</th>\n",
       "      <th>13</th>\n",
       "      <th>14</th>\n",
       "      <th>15</th>\n",
       "      <th>16</th>\n",
       "      <th>17</th>\n",
       "      <th>18</th>\n",
       "      <th>19</th>\n",
       "      <th>20</th>\n",
       "      <th>21</th>\n",
       "    </tr>\n",
       "  </thead>\n",
       "  <tbody>\n",
       "    <tr>\n",
       "      <th>0</th>\n",
       "      <td>138.0</td>\n",
       "      <td>0.001708</td>\n",
       "      <td>0.0</td>\n",
       "      <td>0.006832</td>\n",
       "      <td>0.005124</td>\n",
       "      <td>0.0</td>\n",
       "      <td>0.0</td>\n",
       "      <td>32.0</td>\n",
       "      <td>1.1</td>\n",
       "      <td>16.0</td>\n",
       "      <td>6.6</td>\n",
       "      <td>78.0</td>\n",
       "      <td>97.0</td>\n",
       "      <td>175.0</td>\n",
       "      <td>5.0</td>\n",
       "      <td>0.0</td>\n",
       "      <td>145.0</td>\n",
       "      <td>139.0</td>\n",
       "      <td>144.0</td>\n",
       "      <td>16.0</td>\n",
       "      <td>0.0</td>\n",
       "      <td>6.0</td>\n",
       "    </tr>\n",
       "    <tr>\n",
       "      <th>1</th>\n",
       "      <td>122.0</td>\n",
       "      <td>0.003734</td>\n",
       "      <td>0.0</td>\n",
       "      <td>0.000000</td>\n",
       "      <td>0.007407</td>\n",
       "      <td>0.0</td>\n",
       "      <td>0.0</td>\n",
       "      <td>13.0</td>\n",
       "      <td>3.2</td>\n",
       "      <td>0.0</td>\n",
       "      <td>20.8</td>\n",
       "      <td>129.0</td>\n",
       "      <td>51.0</td>\n",
       "      <td>180.0</td>\n",
       "      <td>5.0</td>\n",
       "      <td>1.0</td>\n",
       "      <td>119.0</td>\n",
       "      <td>119.0</td>\n",
       "      <td>121.0</td>\n",
       "      <td>62.0</td>\n",
       "      <td>0.0</td>\n",
       "      <td>7.0</td>\n",
       "    </tr>\n",
       "    <tr>\n",
       "      <th>2</th>\n",
       "      <td>140.0</td>\n",
       "      <td>0.000679</td>\n",
       "      <td>0.0</td>\n",
       "      <td>0.006110</td>\n",
       "      <td>0.000000</td>\n",
       "      <td>0.0</td>\n",
       "      <td>0.0</td>\n",
       "      <td>78.0</td>\n",
       "      <td>0.4</td>\n",
       "      <td>27.0</td>\n",
       "      <td>7.0</td>\n",
       "      <td>66.0</td>\n",
       "      <td>103.0</td>\n",
       "      <td>169.0</td>\n",
       "      <td>6.0</td>\n",
       "      <td>0.0</td>\n",
       "      <td>152.0</td>\n",
       "      <td>147.0</td>\n",
       "      <td>151.0</td>\n",
       "      <td>4.0</td>\n",
       "      <td>1.0</td>\n",
       "      <td>5.0</td>\n",
       "    </tr>\n",
       "    <tr>\n",
       "      <th>3</th>\n",
       "      <td>131.0</td>\n",
       "      <td>0.000000</td>\n",
       "      <td>0.0</td>\n",
       "      <td>0.004785</td>\n",
       "      <td>0.000000</td>\n",
       "      <td>0.0</td>\n",
       "      <td>0.0</td>\n",
       "      <td>29.0</td>\n",
       "      <td>1.0</td>\n",
       "      <td>0.0</td>\n",
       "      <td>12.9</td>\n",
       "      <td>31.0</td>\n",
       "      <td>115.0</td>\n",
       "      <td>146.0</td>\n",
       "      <td>0.0</td>\n",
       "      <td>0.0</td>\n",
       "      <td>129.0</td>\n",
       "      <td>131.0</td>\n",
       "      <td>132.0</td>\n",
       "      <td>3.0</td>\n",
       "      <td>0.0</td>\n",
       "      <td>1.0</td>\n",
       "    </tr>\n",
       "    <tr>\n",
       "      <th>4</th>\n",
       "      <td>120.0</td>\n",
       "      <td>0.003145</td>\n",
       "      <td>0.0</td>\n",
       "      <td>0.003145</td>\n",
       "      <td>0.000000</td>\n",
       "      <td>0.0</td>\n",
       "      <td>0.0</td>\n",
       "      <td>37.0</td>\n",
       "      <td>1.1</td>\n",
       "      <td>0.0</td>\n",
       "      <td>9.6</td>\n",
       "      <td>25.0</td>\n",
       "      <td>112.0</td>\n",
       "      <td>137.0</td>\n",
       "      <td>1.0</td>\n",
       "      <td>0.0</td>\n",
       "      <td>127.0</td>\n",
       "      <td>127.0</td>\n",
       "      <td>129.0</td>\n",
       "      <td>2.0</td>\n",
       "      <td>0.0</td>\n",
       "      <td>1.0</td>\n",
       "    </tr>\n",
       "  </tbody>\n",
       "</table>\n",
       "</div>"
      ],
      "text/plain": [
       "      0         1    2         3         4    5    6     7    8     9     10  \\\n",
       "0  138.0  0.001708  0.0  0.006832  0.005124  0.0  0.0  32.0  1.1  16.0   6.6   \n",
       "1  122.0  0.003734  0.0  0.000000  0.007407  0.0  0.0  13.0  3.2   0.0  20.8   \n",
       "2  140.0  0.000679  0.0  0.006110  0.000000  0.0  0.0  78.0  0.4  27.0   7.0   \n",
       "3  131.0  0.000000  0.0  0.004785  0.000000  0.0  0.0  29.0  1.0   0.0  12.9   \n",
       "4  120.0  0.003145  0.0  0.003145  0.000000  0.0  0.0  37.0  1.1   0.0   9.6   \n",
       "\n",
       "      11     12     13   14   15     16     17     18    19   20   21  \n",
       "0   78.0   97.0  175.0  5.0  0.0  145.0  139.0  144.0  16.0  0.0  6.0  \n",
       "1  129.0   51.0  180.0  5.0  1.0  119.0  119.0  121.0  62.0  0.0  7.0  \n",
       "2   66.0  103.0  169.0  6.0  0.0  152.0  147.0  151.0   4.0  1.0  5.0  \n",
       "3   31.0  115.0  146.0  0.0  0.0  129.0  131.0  132.0   3.0  0.0  1.0  \n",
       "4   25.0  112.0  137.0  1.0  0.0  127.0  127.0  129.0   2.0  0.0  1.0  "
      ]
     },
     "execution_count": 86,
     "metadata": {},
     "output_type": "execute_result"
    }
   ],
   "source": [
    "features.head()"
   ]
  },
  {
   "cell_type": "code",
   "execution_count": 87,
   "metadata": {},
   "outputs": [],
   "source": [
    "label = df4[22]"
   ]
  },
  {
   "cell_type": "code",
   "execution_count": 88,
   "metadata": {},
   "outputs": [
    {
     "data": {
      "text/plain": [
       "0    1.0\n",
       "1    1.0\n",
       "2    2.0\n",
       "3    1.0\n",
       "4    1.0\n",
       "Name: 22, dtype: float64"
      ]
     },
     "execution_count": 88,
     "metadata": {},
     "output_type": "execute_result"
    }
   ],
   "source": [
    "label.head()"
   ]
  },
  {
   "cell_type": "markdown",
   "metadata": {},
   "source": [
    "Now we have one `features` dataset where all the input column is present and second `label` dataset where the output column is present."
   ]
  },
  {
   "cell_type": "markdown",
   "metadata": {},
   "source": [
    "Now we will analysis which feature is more important to predict the output in the dataset and then the plot a graph to see the features important."
   ]
  },
  {
   "cell_type": "code",
   "execution_count": 89,
   "metadata": {},
   "outputs": [
    {
     "data": {
      "image/png": "[encoded data removed]",
      "text/plain": [
       "<Figure size 1200x500 with 1 Axes>"
      ]
     },
     "metadata": {},
     "output_type": "display_data"
    }
   ],
   "source": [
    "plt.figure(figsize=(12,5))\n",
    "from sklearn.ensemble import ExtraTreesRegressor\n",
    "etr = ExtraTreesRegressor()\n",
    "etr.fit(features, label)\n",
    "feature_importance = pd.Series(etr.feature_importances_, index=features.columns)\n",
    "feature_importance.nlargest(20).plot(kind='barh')\n",
    "plt.show()"
   ]
  },
  {
   "cell_type": "markdown",
   "metadata": {},
   "source": [
    "Where we see that the feature **21**, **6**, **7** is more important to predict the output and then feature **17**, **1**, **9**, **18** and the last least important feature is all rest of the columns."
   ]
  },
  {
   "cell_type": "code",
   "execution_count": 90,
   "metadata": {},
   "outputs": [
    {
     "data": {
      "text/plain": [
       "[21, 6, 7, 9, 17, 1, 18, 16, 8, 4, 19, 10, 0, 11, 12, 3, 13, 20, 2, 14, 15, 5]"
      ]
     },
     "execution_count": 90,
     "metadata": {},
     "output_type": "execute_result"
    }
   ],
   "source": [
    "features_important_index = list(feature_importance.sort_values(ascending=False).index)\n",
    "features_important_index"
   ]
  },
  {
   "cell_type": "markdown",
   "metadata": {},
   "source": [
    "Here we will create a list of most important features."
   ]
  },
  {
   "cell_type": "markdown",
   "metadata": {},
   "source": [
    "Now we will the the accurecy of the model with using the different features."
   ]
  },
  {
   "cell_type": "code",
   "execution_count": 91,
   "metadata": {},
   "outputs": [
    {
     "name": "stdout",
     "output_type": "stream",
     "text": [
      "The Accuracy score is 95.55106167846309 using 1 features that are [21]\n",
      "The Accuracy score is 98.0788675429727 using 2 features that are [21, 6]\n",
      "The Accuracy score is 98.28109201213347 using 3 features that are [21, 6, 7]\n",
      "The Accuracy score is 99.29221435793731 using 4 features that are [21, 6, 7, 9]\n",
      "The Accuracy score is 99.19110212335693 using 5 features that are [21, 6, 7, 9, 17]\n",
      "The Accuracy score is 99.49443882709808 using 6 features that are [21, 6, 7, 9, 17, 1]\n",
      "The Accuracy score is 99.08998988877654 using 7 features that are [21, 6, 7, 9, 17, 1, 18]\n",
      "The Accuracy score is 98.98887765419616 using 8 features that are [21, 6, 7, 9, 17, 1, 18, 16]\n",
      "The Accuracy score is 99.08998988877654 using 9 features that are [21, 6, 7, 9, 17, 1, 18, 16, 8]\n",
      "The Accuracy score is 98.58442871587462 using 10 features that are [21, 6, 7, 9, 17, 1, 18, 16, 8, 4]\n",
      "The Accuracy score is 99.3933265925177 using 11 features that are [21, 6, 7, 9, 17, 1, 18, 16, 8, 4, 19]\n",
      "The Accuracy score is 99.29221435793731 using 12 features that are [21, 6, 7, 9, 17, 1, 18, 16, 8, 4, 19, 10]\n",
      "The Accuracy score is 99.49443882709808 using 13 features that are [21, 6, 7, 9, 17, 1, 18, 16, 8, 4, 19, 10, 0]\n",
      "The Accuracy score is 99.49443882709808 using 14 features that are [21, 6, 7, 9, 17, 1, 18, 16, 8, 4, 19, 10, 0, 11]\n",
      "The Accuracy score is 99.19110212335693 using 15 features that are [21, 6, 7, 9, 17, 1, 18, 16, 8, 4, 19, 10, 0, 11, 12]\n",
      "The Accuracy score is 99.59555106167846 using 16 features that are [21, 6, 7, 9, 17, 1, 18, 16, 8, 4, 19, 10, 0, 11, 12, 3]\n",
      "The Accuracy score is 99.29221435793731 using 17 features that are [21, 6, 7, 9, 17, 1, 18, 16, 8, 4, 19, 10, 0, 11, 12, 3, 13]\n",
      "The Accuracy score is 99.69666329625885 using 18 features that are [21, 6, 7, 9, 17, 1, 18, 16, 8, 4, 19, 10, 0, 11, 12, 3, 13, 20]\n",
      "The Accuracy score is 99.89888776541962 using 19 features that are [21, 6, 7, 9, 17, 1, 18, 16, 8, 4, 19, 10, 0, 11, 12, 3, 13, 20, 2]\n",
      "The Accuracy score is 99.19110212335693 using 20 features that are [21, 6, 7, 9, 17, 1, 18, 16, 8, 4, 19, 10, 0, 11, 12, 3, 13, 20, 2, 14]\n",
      "The Accuracy score is 99.08998988877654 using 21 features that are [21, 6, 7, 9, 17, 1, 18, 16, 8, 4, 19, 10, 0, 11, 12, 3, 13, 20, 2, 14, 15]\n",
      "The Accuracy score is 99.3933265925177 using 22 features that are [21, 6, 7, 9, 17, 1, 18, 16, 8, 4, 19, 10, 0, 11, 12, 3, 13, 20, 2, 14, 15, 5]\n"
     ]
    }
   ],
   "source": [
    "import warnings\n",
    "from sklearn.exceptions import DataConversionWarning\n",
    "from sklearn.ensemble import RandomForestClassifier\n",
    "\n",
    "# Ignore DataConversionWarning from sklearn\n",
    "warnings.filterwarnings(\"ignore\", category=DataConversionWarning)\n",
    "\n",
    "X_features = []\n",
    "y_features = [22]\n",
    "for i, feat in enumerate(features_important_index):\n",
    "    X_features.append(feat)\n",
    "    X = df4.iloc[:, X_features]\n",
    "    y = df4.iloc[:, y_features]\n",
    "\n",
    "    X_train, X_test, y_train, y_test = train_test_split(X, y, test_size=0.25)\n",
    "\n",
    "    rf = RandomForestClassifier()\n",
    "    rf.fit(X_train, y_train)\n",
    "    y_pred = rf.predict(X_test)\n",
    "    acc_score = accuracy_score(y_test, y_pred)\n",
    "    \n",
    "#     print(f\"| {i+1} | {X_features} | {acc_score*100} |\")\n",
    "\n",
    "    print(f\"The Accuracy score is {acc_score*100} using {i+1} features that are {X_features}\")\n",
    "    \n"
   ]
  },
  {
   "cell_type": "markdown",
   "metadata": {},
   "source": [
    "This above code give us the accuracy score on different features.\n",
    "\n",
    "| Total Number Features | Name of the Features Columns | Accuracy Score |\n",
    "| --------------------- | ---------------------------- | -------------- |\n",
    "| 1 | [21] | 95.44% |\n",
    "| 2 | [21, 6] | 97.26% |\n",
    "| 3 | [21, 6, 7] | 98.48% |\n",
    "| 4 | [21, 6, 7, 17] | 98.07% |\n",
    "| 5 | [21, 6, 7, 17, 18] | 99.08% |\n",
    "| 6 | [21, 6, 7, 17, 18, 9] | 98.98% |\n",
    "| 7 | [21, 6, 7, 17, 18, 9, 1] | 99.29% |\n",
    "| 8 | [21, 6, 7, 17, 18, 9, 1, 16] | 99.69% |\n",
    "| 9 | [21, 6, 7, 17, 18, 9, 1, 16, 4] | 99.29% |\n",
    "| 10 | [21, 6, 7, 17, 18, 9, 1, 16, 4, 8] | 98.88% |\n",
    "| 11 | [21, 6, 7, 17, 18, 9, 1, 16, 4, 8, 19] | 99.59% |\n",
    "| 12 | [21, 6, 7, 17, 18, 9, 1, 16, 4, 8, 19, 10] | 99.39% |\n",
    "| 13 | [21, 6, 7, 17, 18, 9, 1, 16, 4, 8, 19, 10, 12] | 98.98% |\n",
    "| 14 | [21, 6, 7, 17, 18, 9, 1, 16, 4, 8, 19, 10, 12, 0] | 99.19% |\n",
    "| 15 | [21, 6, 7, 17, 18, 9, 1, 16, 4, 8, 19, 10, 12, 0, 11] | 98.78% |\n",
    "| 16 | [21, 6, 7, 17, 18, 9, 1, 16, 4, 8, 19, 10, 12, 0, 11, 13] | 98.98% |\n",
    "| 17 | [21, 6, 7, 17, 18, 9, 1, 16, 4, 8, 19, 10, 12, 0, 11, 13, 20] | 99.39% |\n",
    "| 18 | [21, 6, 7, 17, 18, 9, 1, 16, 4, 8, 19, 10, 12, 0, 11, 13, 20, 14] | 99.39% |\n",
    "| 19 | [21, 6, 7, 17, 18, 9, 1, 16, 4, 8, 19, 10, 12, 0, 11, 13, 20, 14, 2] | 99.29% |\n",
    "| 20 | [21, 6, 7, 17, 18, 9, 1, 16, 4, 8, 19, 10, 12, 0, 11, 13, 20, 14, 2, 3] | 99.19% |\n",
    "| 21 | [21, 6, 7, 17, 18, 9, 1, 16, 4, 8, 19, 10, 12, 0, 11, 13, 20, 14, 2, 3, 15] | 99.49% |\n",
    "| 22 | [21, 6, 7, 17, 18, 9, 1, 16, 4, 8, 19, 10, 12, 0, 11, 13, 20, 14, 2, 3, 15, 5] | 99.49% |"
   ]
  },
  {
   "cell_type": "markdown",
   "metadata": {},
   "source": [
    "From the above table we see that with 8 features the model gives us the best accuracy score instead of using 22 features.\n",
    "So for our final model we use [21, 6, 7, 17, 18, 9, 1, 16]\t features.\n",
    "With this 8 features we get **99.69%** accuracy."
   ]
  },
  {
   "cell_type": "code",
   "execution_count": null,
   "metadata": {},
   "outputs": [],
   "source": []
  }
 ],
 "metadata": {
  "kernelspec": {
   "display_name": "Python 3 (ipykernel)",
   "language": "python",
   "name": "python3"
  },
  "language_info": {
   "codemirror_mode": {
    "name": "ipython",
    "version": 3
   },
   "file_extension": ".py",
   "mimetype": "text/x-python",
   "name": "python",
   "nbconvert_exporter": "python",
   "pygments_lexer": "ipython3",
   "version": "3.11.4"
  }
 },
 "nbformat": 4,
 "nbformat_minor": 4
}
