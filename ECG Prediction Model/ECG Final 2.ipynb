{
 "cells": [
  {
   "cell_type": "markdown",
   "metadata": {},
   "source": [
    "# Introduction\n",
    "\n",
    "In this Jupyter notebook, we will embark on an exploration of the intriguing field of **electrocardiogram (ECG)** signal processing and classification. The annotated ECG records available from the **MIT/BIH (Massachusetts Institute of Technology\n",
    "and Beth Israel Hospital) arrhythmia database** have been used for the evaluation of different classifiers in this study. The database has 48 records, each 30 min in length.\n",
    "\n",
    "Accompanying each record in the database is an annotation file in which each ECG beat has been identified by expert cardiologists. These labels are referred to as ‘truth’ annotations and are used in developing the classifiers and also to evaluate the performance of the classifiers in the testing phase."
   ]
  },
  {
   "cell_type": "markdown",
   "metadata": {},
   "source": [
    "## Dataset Overview\n",
    "\n",
    "The **MIT/BIH (Massachusetts Institute of Technology and Beth Israel Hospital) arrhythmia database** is a collection of **13,426** ECG recordings sourced from Physionet's PTB Diagnostic Database. These ECG signals are categorized into two classes: normal heartbeats and those affected by cardiac abnormalities. The dataset is sampled at 125Hz, providing high-resolution data for in-depth analysis.\n",
    "\n",
    "> Some essential details about the PTB Diagnostic ECG Database:\n",
    "> \n",
    "> - **Number of Samples:** 13,426\n",
    "> - **Number of Features:** 9\n",
    "> - **Sampling Frequency:** 125Hz\n",
    "> - **Data Source:** MIT/BIH (Massachusetts Institute of Technology and Beth Israel Hospital) arrhythmia database"
   ]
  },
  {
   "cell_type": "code",
   "execution_count": 1,
   "metadata": {},
   "outputs": [],
   "source": [
    "# !pip install tensorflow"
   ]
  },
  {
   "cell_type": "code",
   "execution_count": 1,
   "metadata": {
    "execution": {
     "iopub.execute_input": "2023-09-10T06:04:30.137021Z",
     "iopub.status.busy": "2023-09-10T06:04:30.136288Z",
     "iopub.status.idle": "2023-09-10T06:04:30.14893Z",
     "shell.execute_reply": "2023-09-10T06:04:30.147772Z",
     "shell.execute_reply.started": "2023-09-10T06:04:30.136975Z"
    },
    "id": "CLQ5iE5dArIX"
   },
   "outputs": [],
   "source": [
    "import numpy as np\n",
    "import pandas as pd\n",
    "import matplotlib.pyplot as plt\n",
    "import seaborn as sns\n",
    "from scipy.io import arff\n",
    "from sklearn.model_selection import train_test_split\n",
    "\n",
    "from sklearn.metrics import accuracy_score, recall_score, precision_score, confusion_matrix, f1_score, classification_report"
   ]
  },
  {
   "cell_type": "code",
   "execution_count": 2,
   "metadata": {},
   "outputs": [],
   "source": [
    "pd.set_option('display.max_columns', None)\n",
    "pd.set_option('display.max_rows', None)"
   ]
  },
  {
   "cell_type": "code",
   "execution_count": 3,
   "metadata": {
    "execution": {
     "iopub.execute_input": "2023-09-10T06:04:30.188894Z",
     "iopub.status.busy": "2023-09-10T06:04:30.188119Z",
     "iopub.status.idle": "2023-09-10T06:04:31.135468Z",
     "shell.execute_reply": "2023-09-10T06:04:31.134515Z",
     "shell.execute_reply.started": "2023-09-10T06:04:30.188843Z"
    }
   },
   "outputs": [],
   "source": [
    "df = pd.read_csv('balanced_dataset.csv')"
   ]
  },
  {
   "cell_type": "code",
   "execution_count": 4,
   "metadata": {},
   "outputs": [
    {
     "data": {
      "text/plain": [
       "(13426, 10)"
      ]
     },
     "execution_count": 4,
     "metadata": {},
     "output_type": "execute_result"
    }
   ],
   "source": [
    "df.shape"
   ]
  },
  {
   "cell_type": "code",
   "execution_count": 5,
   "metadata": {},
   "outputs": [
    {
     "data": {
      "text/html": [
       "<div>\n",
       "<style scoped>\n",
       "    .dataframe tbody tr th:only-of-type {\n",
       "        vertical-align: middle;\n",
       "    }\n",
       "\n",
       "    .dataframe tbody tr th {\n",
       "        vertical-align: top;\n",
       "    }\n",
       "\n",
       "    .dataframe thead th {\n",
       "        text-align: right;\n",
       "    }\n",
       "</style>\n",
       "<table border=\"1\" class=\"dataframe\">\n",
       "  <thead>\n",
       "    <tr style=\"text-align: right;\">\n",
       "      <th></th>\n",
       "      <th>feat0</th>\n",
       "      <th>feat1</th>\n",
       "      <th>feat2</th>\n",
       "      <th>feat3</th>\n",
       "      <th>feat4</th>\n",
       "      <th>feat5</th>\n",
       "      <th>feat6</th>\n",
       "      <th>feat7</th>\n",
       "      <th>feat8</th>\n",
       "      <th>label</th>\n",
       "    </tr>\n",
       "  </thead>\n",
       "  <tbody>\n",
       "    <tr>\n",
       "      <th>12116</th>\n",
       "      <td>0.497222</td>\n",
       "      <td>0.919444</td>\n",
       "      <td>0.540785</td>\n",
       "      <td>0.540785</td>\n",
       "      <td>0.860389</td>\n",
       "      <td>0.865838</td>\n",
       "      <td>0.653333</td>\n",
       "      <td>0.160000</td>\n",
       "      <td>0.066667</td>\n",
       "      <td>1</td>\n",
       "    </tr>\n",
       "    <tr>\n",
       "      <th>307</th>\n",
       "      <td>0.466666</td>\n",
       "      <td>0.392130</td>\n",
       "      <td>1.192399</td>\n",
       "      <td>1.290437</td>\n",
       "      <td>0.899524</td>\n",
       "      <td>0.936917</td>\n",
       "      <td>0.391111</td>\n",
       "      <td>0.242222</td>\n",
       "      <td>0.108889</td>\n",
       "      <td>0</td>\n",
       "    </tr>\n",
       "    <tr>\n",
       "      <th>10756</th>\n",
       "      <td>0.552778</td>\n",
       "      <td>0.783333</td>\n",
       "      <td>0.705674</td>\n",
       "      <td>0.854077</td>\n",
       "      <td>0.429756</td>\n",
       "      <td>0.432138</td>\n",
       "      <td>0.626667</td>\n",
       "      <td>0.426667</td>\n",
       "      <td>0.093333</td>\n",
       "      <td>1</td>\n",
       "    </tr>\n",
       "    <tr>\n",
       "      <th>6777</th>\n",
       "      <td>0.627778</td>\n",
       "      <td>0.702778</td>\n",
       "      <td>0.893281</td>\n",
       "      <td>0.953586</td>\n",
       "      <td>-0.693435</td>\n",
       "      <td>-0.663324</td>\n",
       "      <td>0.800000</td>\n",
       "      <td>0.306667</td>\n",
       "      <td>0.053333</td>\n",
       "      <td>0</td>\n",
       "    </tr>\n",
       "    <tr>\n",
       "      <th>12314</th>\n",
       "      <td>0.555556</td>\n",
       "      <td>1.108333</td>\n",
       "      <td>0.501253</td>\n",
       "      <td>0.539084</td>\n",
       "      <td>0.400685</td>\n",
       "      <td>0.485521</td>\n",
       "      <td>0.453333</td>\n",
       "      <td>0.293333</td>\n",
       "      <td>0.146667</td>\n",
       "      <td>1</td>\n",
       "    </tr>\n",
       "    <tr>\n",
       "      <th>4569</th>\n",
       "      <td>0.791667</td>\n",
       "      <td>1.161111</td>\n",
       "      <td>0.681818</td>\n",
       "      <td>0.513514</td>\n",
       "      <td>0.989896</td>\n",
       "      <td>0.998825</td>\n",
       "      <td>0.466667</td>\n",
       "      <td>0.253333</td>\n",
       "      <td>0.120000</td>\n",
       "      <td>0</td>\n",
       "    </tr>\n",
       "    <tr>\n",
       "      <th>1399</th>\n",
       "      <td>1.458333</td>\n",
       "      <td>0.562500</td>\n",
       "      <td>2.594862</td>\n",
       "      <td>2.892428</td>\n",
       "      <td>0.950150</td>\n",
       "      <td>0.702161</td>\n",
       "      <td>0.186667</td>\n",
       "      <td>0.120000</td>\n",
       "      <td>0.040000</td>\n",
       "      <td>0</td>\n",
       "    </tr>\n",
       "    <tr>\n",
       "      <th>4897</th>\n",
       "      <td>1.358333</td>\n",
       "      <td>1.141667</td>\n",
       "      <td>1.189781</td>\n",
       "      <td>1.668942</td>\n",
       "      <td>0.990502</td>\n",
       "      <td>0.990946</td>\n",
       "      <td>0.173333</td>\n",
       "      <td>0.133333</td>\n",
       "      <td>0.066667</td>\n",
       "      <td>0</td>\n",
       "    </tr>\n",
       "    <tr>\n",
       "      <th>7780</th>\n",
       "      <td>0.697222</td>\n",
       "      <td>1.200000</td>\n",
       "      <td>0.581019</td>\n",
       "      <td>0.536325</td>\n",
       "      <td>0.492284</td>\n",
       "      <td>0.503693</td>\n",
       "      <td>0.480000</td>\n",
       "      <td>0.413333</td>\n",
       "      <td>0.253333</td>\n",
       "      <td>1</td>\n",
       "    </tr>\n",
       "    <tr>\n",
       "      <th>2794</th>\n",
       "      <td>0.427778</td>\n",
       "      <td>0.355556</td>\n",
       "      <td>1.203125</td>\n",
       "      <td>0.672489</td>\n",
       "      <td>0.976092</td>\n",
       "      <td>0.682788</td>\n",
       "      <td>0.200000</td>\n",
       "      <td>0.133333</td>\n",
       "      <td>0.053333</td>\n",
       "      <td>0</td>\n",
       "    </tr>\n",
       "  </tbody>\n",
       "</table>\n",
       "</div>"
      ],
      "text/plain": [
       "          feat0     feat1     feat2     feat3     feat4     feat5     feat6  \\\n",
       "12116  0.497222  0.919444  0.540785  0.540785  0.860389  0.865838  0.653333   \n",
       "307    0.466666  0.392130  1.192399  1.290437  0.899524  0.936917  0.391111   \n",
       "10756  0.552778  0.783333  0.705674  0.854077  0.429756  0.432138  0.626667   \n",
       "6777   0.627778  0.702778  0.893281  0.953586 -0.693435 -0.663324  0.800000   \n",
       "12314  0.555556  1.108333  0.501253  0.539084  0.400685  0.485521  0.453333   \n",
       "4569   0.791667  1.161111  0.681818  0.513514  0.989896  0.998825  0.466667   \n",
       "1399   1.458333  0.562500  2.594862  2.892428  0.950150  0.702161  0.186667   \n",
       "4897   1.358333  1.141667  1.189781  1.668942  0.990502  0.990946  0.173333   \n",
       "7780   0.697222  1.200000  0.581019  0.536325  0.492284  0.503693  0.480000   \n",
       "2794   0.427778  0.355556  1.203125  0.672489  0.976092  0.682788  0.200000   \n",
       "\n",
       "          feat7     feat8  label  \n",
       "12116  0.160000  0.066667      1  \n",
       "307    0.242222  0.108889      0  \n",
       "10756  0.426667  0.093333      1  \n",
       "6777   0.306667  0.053333      0  \n",
       "12314  0.293333  0.146667      1  \n",
       "4569   0.253333  0.120000      0  \n",
       "1399   0.120000  0.040000      0  \n",
       "4897   0.133333  0.066667      0  \n",
       "7780   0.413333  0.253333      1  \n",
       "2794   0.133333  0.053333      0  "
      ]
     },
     "execution_count": 5,
     "metadata": {},
     "output_type": "execute_result"
    }
   ],
   "source": [
    "df.sample(10)"
   ]
  },
  {
   "cell_type": "markdown",
   "metadata": {},
   "source": [
    "In this MIT/BIH (Massachusetts Institute of Technology and Beth Israel Hospital) arrhythmia **ECG** Dataset have **13,426** rows and **10** features columns. The columns have **9** input column and **1** output column."
   ]
  },
  {
   "cell_type": "markdown",
   "metadata": {},
   "source": [
    "# EDA"
   ]
  },
  {
   "cell_type": "code",
   "execution_count": 6,
   "metadata": {},
   "outputs": [
    {
     "name": "stdout",
     "output_type": "stream",
     "text": [
      "Shape of the data (13426, 10)\n"
     ]
    }
   ],
   "source": [
    "print(\"Shape of the data\", df.shape)"
   ]
  },
  {
   "cell_type": "markdown",
   "metadata": {},
   "source": [
    "The code below generates a visual comparison between two randomly selected ECG signal samples: one from the \"Normal\" beat and the other from the \"VEB anomaly\" beat. This side-by-side plot enables a direct visual assessment of ECG signal patterns between normal and VEB anomaly cases."
   ]
  },
  {
   "cell_type": "code",
   "execution_count": 11,
   "metadata": {
    "execution": {
     "iopub.execute_input": "2023-09-10T06:04:31.149429Z",
     "iopub.status.busy": "2023-09-10T06:04:31.148329Z",
     "iopub.status.idle": "2023-09-10T06:04:31.160206Z",
     "shell.execute_reply": "2023-09-10T06:04:31.159016Z",
     "shell.execute_reply.started": "2023-09-10T06:04:31.149392Z"
    }
   },
   "outputs": [],
   "source": [
    "def plot_sample(normal, anomaly):\n",
    "    index = np.random.randint(0, len(df), 2)\n",
    "    \n",
    "    fig, ax = plt.subplots(1, 2, sharey=True, figsize=(10, 4))\n",
    "    ax[0].plot(normal.iloc[index[0], :].values, label=f\"Case {index[0]}\")\n",
    "    ax[0].plot(normal.iloc[index[1], :].values, label=f\"Case {index[1]}\")\n",
    "    ax[0].legend(shadow=True, frameon=True, facecolor=\"inherit\", loc=1, fontsize=9)\n",
    "    ax[0].set_title(\"Normal\")\n",
    "    \n",
    "    ax[1].plot(anomaly.iloc[index[0], :].values, label=f\"Case {index[0]}\")\n",
    "    ax[1].plot(anomaly.iloc[index[1], :].values, label=f\"Case {index[1]}\")\n",
    "    ax[1].legend(shadow=True, frameon=True, facecolor=\"inherit\", loc=1, fontsize=9)\n",
    "    ax[1].set_title(\"VEB Anomaly\")\n",
    "    \n",
    "    plt.tight_layout()\n",
    "    plt.show()"
   ]
  },
  {
   "cell_type": "code",
   "execution_count": 12,
   "metadata": {
    "execution": {
     "iopub.execute_input": "2023-09-10T06:04:31.165408Z",
     "iopub.status.busy": "2023-09-10T06:04:31.165096Z",
     "iopub.status.idle": "2023-09-10T06:04:31.731544Z",
     "shell.execute_reply": "2023-09-10T06:04:31.730622Z",
     "shell.execute_reply.started": "2023-09-10T06:04:31.165373Z"
    }
   },
   "outputs": [
    {
     "data": {
      "image/png": "[encoded data removed]",
      "text/plain": [
       "<Figure size 1000x400 with 2 Axes>"
      ]
     },
     "metadata": {},
     "output_type": "display_data"
    }
   ],
   "source": [
    "groupby_df = df.groupby(\"label\")\n",
    "normal_df = groupby_df.get_group(0)\n",
    "anomaly_df = groupby_df.get_group(1)\n",
    "\n",
    "plot_sample(normal_df, anomaly_df)"
   ]
  },
  {
   "cell_type": "code",
   "execution_count": 10,
   "metadata": {
    "execution": {
     "iopub.execute_input": "2023-09-10T06:04:31.733231Z",
     "iopub.status.busy": "2023-09-10T06:04:31.732656Z",
     "iopub.status.idle": "2023-09-10T06:04:31.746201Z",
     "shell.execute_reply": "2023-09-10T06:04:31.745225Z",
     "shell.execute_reply.started": "2023-09-10T06:04:31.733205Z"
    }
   },
   "outputs": [
    {
     "name": "stdout",
     "output_type": "stream",
     "text": [
      "The Shape of Normal Beat is  (6814, 10)\n",
      "The Shape of VEB Beat is  (6612, 10)\n"
     ]
    }
   ],
   "source": [
    "print(\"The Shape of Normal Beat is \",normal_df.shape)\n",
    "print(\"The Shape of VEB Beat is \",anomaly_df.shape)"
   ]
  },
  {
   "cell_type": "markdown",
   "metadata": {},
   "source": [
    "The lebel column have two different types classification one is Normal beat and another one is VEB anomaly beat.\n",
    "\n",
    "The shape of the Normal beat dataset is (6814, 10) and shape of the VEB anomaly beat dataset is (6612, 10)."
   ]
  },
  {
   "cell_type": "markdown",
   "metadata": {},
   "source": [
    "## Smoothed Mean Plot for Class Comparison\n",
    "\n",
    "In this Python code, a function called `plot_smoothed_mean` is defined for creating smoothed mean plots. It takes input data, a class name, and a step size as parameters. The function calculates the rolling mean and standard deviation of the data with the specified step size, then plots the smoothed mean along with a shaded area representing the margin of three times the standard deviation.\n",
    "\n",
    "The code also demonstrates the use of this function to compare the smoothed means of different classes. It creates a subplot with two panels, each representing a different class. The data for each class is grouped, and the mean is computed before passing it to the `plot_smoothed_mean` function. This allows for visualizing how the smoothed means of different classes compare.\n",
    "\n",
    "The resulting plot provides insights into how the means of different classes vary over time or some other variable represented by the data, with shaded areas indicating the uncertainty around the mean estimates.\n"
   ]
  },
  {
   "cell_type": "code",
   "execution_count": 11,
   "metadata": {
    "execution": {
     "iopub.execute_input": "2023-09-10T06:04:31.774048Z",
     "iopub.status.busy": "2023-09-10T06:04:31.773677Z",
     "iopub.status.idle": "2023-09-10T06:04:31.78161Z",
     "shell.execute_reply": "2023-09-10T06:04:31.780577Z",
     "shell.execute_reply.started": "2023-09-10T06:04:31.774017Z"
    }
   },
   "outputs": [],
   "source": [
    "def plot_smoothed_mean(data, class_name = \"normal\", step_size=5, ax=None):\n",
    "    df = pd.DataFrame(data)\n",
    "    roll_df = df.rolling(step_size)\n",
    "    smoothed_mean = roll_df.mean().dropna().reset_index(drop=True)\n",
    "    smoothed_std = roll_df.std().dropna().reset_index(drop=True)\n",
    "    margin = 3*smoothed_std\n",
    "    lower_bound = (smoothed_mean - margin).values.flatten()\n",
    "    upper_bound = (smoothed_mean + margin).values.flatten()\n",
    "\n",
    "    ax.plot(smoothed_mean.index, smoothed_mean)\n",
    "    ax.fill_between(smoothed_mean.index, lower_bound, y2=upper_bound, alpha=0.3, color=\"red\")\n",
    "    ax.set_title(class_name, fontsize=9)"
   ]
  },
  {
   "cell_type": "code",
   "execution_count": 12,
   "metadata": {
    "execution": {
     "iopub.execute_input": "2023-09-10T06:04:31.78466Z",
     "iopub.status.busy": "2023-09-10T06:04:31.784372Z",
     "iopub.status.idle": "2023-09-10T06:04:32.401422Z",
     "shell.execute_reply": "2023-09-10T06:04:32.399898Z",
     "shell.execute_reply.started": "2023-09-10T06:04:31.784634Z"
    },
    "id": "0duZ5mVFNxnK",
    "outputId": "e0bb53f7-096e-4ca7-d0fe-42d12a9c9ba7"
   },
   "outputs": [
    {
     "data": {
      "image/png": "[encoded data removed]",
      "text/plain": [
       "<Figure size 800x400 with 2 Axes>"
      ]
     },
     "metadata": {},
     "output_type": "display_data"
    }
   ],
   "source": [
    "CLASS_NAMES = [\"Normal beat\", \"VEB anomaly beat\"]\n",
    "\n",
    "\n",
    "fig, axes = plt.subplots(1, 2, figsize=(8, 4), sharey=True)\n",
    "axes = axes.flatten()\n",
    "for i, label in enumerate(CLASS_NAMES, start=1):\n",
    "    data_group = df.groupby(\"label\")\n",
    "    data = data_group.get_group(i-1).mean(axis=0, numeric_only=True).to_numpy()\n",
    "    plot_smoothed_mean(data, class_name=label, step_size=3, ax=axes[i-1])\n",
    "fig.suptitle(\"Plot of smoothed mean for each class\", y=0.95, weight=\"bold\")\n",
    "plt.tight_layout()"
   ]
  },
  {
   "cell_type": "markdown",
   "metadata": {},
   "source": [
    "## Heatmap of the correlation between the features "
   ]
  },
  {
   "cell_type": "code",
   "execution_count": 13,
   "metadata": {},
   "outputs": [
    {
     "data": {
      "image/png": "[encoded data removed]",
      "text/plain": [
       "<Figure size 1000x1000 with 2 Axes>"
      ]
     },
     "metadata": {},
     "output_type": "display_data"
    }
   ],
   "source": [
    "#get correlations of each features in dataset\n",
    "corrmat = df.corr()\n",
    "top_corr_features = corrmat.index\n",
    "plt.figure(figsize=(10,10))\n",
    "#plot heat map\n",
    "g=sns.heatmap(df[top_corr_features].corr(),annot=True,cmap=\"RdYlGn\")"
   ]
  },
  {
   "cell_type": "code",
   "execution_count": null,
   "metadata": {},
   "outputs": [],
   "source": []
  },
  {
   "cell_type": "markdown",
   "metadata": {},
   "source": [
    "### Remove Data from Dataset"
   ]
  },
  {
   "cell_type": "markdown",
   "metadata": {},
   "source": [
    "Now we can make a copy of `df`(ECG dataset). "
   ]
  },
  {
   "cell_type": "code",
   "execution_count": 14,
   "metadata": {},
   "outputs": [],
   "source": [
    "df_null = df.copy()"
   ]
  },
  {
   "cell_type": "markdown",
   "metadata": {},
   "source": [
    "The work of this below code `df.isnull().sum().sum()` is to find the total sum of Null values in the ECG dataset"
   ]
  },
  {
   "cell_type": "code",
   "execution_count": 15,
   "metadata": {},
   "outputs": [
    {
     "data": {
      "text/plain": [
       "(13426, 10)"
      ]
     },
     "execution_count": 15,
     "metadata": {},
     "output_type": "execute_result"
    }
   ],
   "source": [
    "df_null.shape"
   ]
  },
  {
   "cell_type": "code",
   "execution_count": 16,
   "metadata": {},
   "outputs": [
    {
     "data": {
      "text/plain": [
       "0"
      ]
     },
     "execution_count": 16,
     "metadata": {},
     "output_type": "execute_result"
    }
   ],
   "source": [
    "df_null.isnull().sum().sum()"
   ]
  },
  {
   "cell_type": "markdown",
   "metadata": {},
   "source": [
    "The above code tell us that the dataset not contain any null values.\n",
    "\n",
    "But without null values, how can we perform Data cleaning process and show that the Data Pre-Processing step is important."
   ]
  },
  {
   "cell_type": "markdown",
   "metadata": {},
   "source": [
    "To show the Data Pre-Processing step we remove some value manually from this dataset.\n",
    "\n",
    "The below code choose one row index and one column index randomly and replace the value with null value."
   ]
  },
  {
   "cell_type": "code",
   "execution_count": 17,
   "metadata": {},
   "outputs": [],
   "source": [
    "for i in range(1,10000):\n",
    "    try:\n",
    "        random_row_index = np.random.choice(df_null.index)\n",
    "        random_column_index = np.random.choice(range(0,8))\n",
    "        df_null.iloc[random_row_index, random_column_index] = np.nan\n",
    "    except:\n",
    "        continue"
   ]
  },
  {
   "cell_type": "code",
   "execution_count": 18,
   "metadata": {},
   "outputs": [
    {
     "data": {
      "text/plain": [
       "9512"
      ]
     },
     "execution_count": 18,
     "metadata": {},
     "output_type": "execute_result"
    }
   ],
   "source": [
    "df_null.isnull().sum().sum()"
   ]
  },
  {
   "cell_type": "code",
   "execution_count": 19,
   "metadata": {},
   "outputs": [
    {
     "data": {
      "text/html": [
       "<div>\n",
       "<style scoped>\n",
       "    .dataframe tbody tr th:only-of-type {\n",
       "        vertical-align: middle;\n",
       "    }\n",
       "\n",
       "    .dataframe tbody tr th {\n",
       "        vertical-align: top;\n",
       "    }\n",
       "\n",
       "    .dataframe thead th {\n",
       "        text-align: right;\n",
       "    }\n",
       "</style>\n",
       "<table border=\"1\" class=\"dataframe\">\n",
       "  <thead>\n",
       "    <tr style=\"text-align: right;\">\n",
       "      <th></th>\n",
       "      <th>feat0</th>\n",
       "      <th>feat1</th>\n",
       "      <th>feat2</th>\n",
       "      <th>feat3</th>\n",
       "      <th>feat4</th>\n",
       "      <th>feat5</th>\n",
       "      <th>feat6</th>\n",
       "      <th>feat7</th>\n",
       "      <th>feat8</th>\n",
       "      <th>label</th>\n",
       "    </tr>\n",
       "  </thead>\n",
       "  <tbody>\n",
       "    <tr>\n",
       "      <th>7089</th>\n",
       "      <td>0.502778</td>\n",
       "      <td>NaN</td>\n",
       "      <td>0.368635</td>\n",
       "      <td>0.957672</td>\n",
       "      <td>NaN</td>\n",
       "      <td>0.584971</td>\n",
       "      <td>0.493333</td>\n",
       "      <td>0.360000</td>\n",
       "      <td>0.226667</td>\n",
       "      <td>1</td>\n",
       "    </tr>\n",
       "    <tr>\n",
       "      <th>723</th>\n",
       "      <td>0.766667</td>\n",
       "      <td>0.625926</td>\n",
       "      <td>1.227879</td>\n",
       "      <td>1.912451</td>\n",
       "      <td>0.970175</td>\n",
       "      <td>0.987918</td>\n",
       "      <td>NaN</td>\n",
       "      <td>0.213333</td>\n",
       "      <td>0.093333</td>\n",
       "      <td>0</td>\n",
       "    </tr>\n",
       "    <tr>\n",
       "      <th>7795</th>\n",
       "      <td>0.519444</td>\n",
       "      <td>1.372222</td>\n",
       "      <td>0.378543</td>\n",
       "      <td>0.593651</td>\n",
       "      <td>0.605651</td>\n",
       "      <td>0.619409</td>\n",
       "      <td>0.506667</td>\n",
       "      <td>0.400000</td>\n",
       "      <td>0.186667</td>\n",
       "      <td>1</td>\n",
       "    </tr>\n",
       "    <tr>\n",
       "      <th>8783</th>\n",
       "      <td>0.569444</td>\n",
       "      <td>0.836111</td>\n",
       "      <td>0.681063</td>\n",
       "      <td>0.650794</td>\n",
       "      <td>-0.759846</td>\n",
       "      <td>-0.725411</td>\n",
       "      <td>0.200000</td>\n",
       "      <td>0.386667</td>\n",
       "      <td>0.813333</td>\n",
       "      <td>1</td>\n",
       "    </tr>\n",
       "    <tr>\n",
       "      <th>695</th>\n",
       "      <td>0.725445</td>\n",
       "      <td>0.524000</td>\n",
       "      <td>1.384137</td>\n",
       "      <td>1.990083</td>\n",
       "      <td>0.549531</td>\n",
       "      <td>0.970994</td>\n",
       "      <td>0.875200</td>\n",
       "      <td>0.135466</td>\n",
       "      <td>0.053333</td>\n",
       "      <td>0</td>\n",
       "    </tr>\n",
       "  </tbody>\n",
       "</table>\n",
       "</div>"
      ],
      "text/plain": [
       "         feat0     feat1     feat2     feat3     feat4     feat5     feat6  \\\n",
       "7089  0.502778       NaN  0.368635  0.957672       NaN  0.584971  0.493333   \n",
       "723   0.766667  0.625926  1.227879  1.912451  0.970175  0.987918       NaN   \n",
       "7795  0.519444  1.372222  0.378543  0.593651  0.605651  0.619409  0.506667   \n",
       "8783  0.569444  0.836111  0.681063  0.650794 -0.759846 -0.725411  0.200000   \n",
       "695   0.725445  0.524000  1.384137  1.990083  0.549531  0.970994  0.875200   \n",
       "\n",
       "         feat7     feat8  label  \n",
       "7089  0.360000  0.226667      1  \n",
       "723   0.213333  0.093333      0  \n",
       "7795  0.400000  0.186667      1  \n",
       "8783  0.386667  0.813333      1  \n",
       "695   0.135466  0.053333      0  "
      ]
     },
     "execution_count": 19,
     "metadata": {},
     "output_type": "execute_result"
    }
   ],
   "source": [
    "df_null.sample(5)"
   ]
  },
  {
   "cell_type": "markdown",
   "metadata": {},
   "source": [
    "# Without Data Cleanning\n",
    "\n",
    "Here we replace the null values with a constant value 9."
   ]
  },
  {
   "cell_type": "code",
   "execution_count": 20,
   "metadata": {},
   "outputs": [],
   "source": [
    "# df.replace(np.nan,1000,inplace=True)\n",
    "# df.dropna(inplace=True)\n",
    "df1 = df_null.copy()\n",
    "df1.fillna(9,inplace=True)"
   ]
  },
  {
   "cell_type": "code",
   "execution_count": 21,
   "metadata": {},
   "outputs": [
    {
     "data": {
      "text/plain": [
       "0"
      ]
     },
     "execution_count": 21,
     "metadata": {},
     "output_type": "execute_result"
    }
   ],
   "source": [
    "df1.isnull().sum().sum()"
   ]
  },
  {
   "cell_type": "code",
   "execution_count": 22,
   "metadata": {},
   "outputs": [
    {
     "data": {
      "text/plain": [
       "(13426, 10)"
      ]
     },
     "execution_count": 22,
     "metadata": {},
     "output_type": "execute_result"
    }
   ],
   "source": [
    "df1.shape"
   ]
  },
  {
   "cell_type": "markdown",
   "metadata": {},
   "source": [
    "Now we divide the ECG dataset into input and output section. \n",
    "This `X` is input and `y` is output section."
   ]
  },
  {
   "cell_type": "code",
   "execution_count": 23,
   "metadata": {},
   "outputs": [],
   "source": [
    "X = df1.drop(columns=['label'])\n",
    "y = df1['label']"
   ]
  },
  {
   "cell_type": "code",
   "execution_count": 24,
   "metadata": {},
   "outputs": [
    {
     "data": {
      "text/html": [
       "<div>\n",
       "<style scoped>\n",
       "    .dataframe tbody tr th:only-of-type {\n",
       "        vertical-align: middle;\n",
       "    }\n",
       "\n",
       "    .dataframe tbody tr th {\n",
       "        vertical-align: top;\n",
       "    }\n",
       "\n",
       "    .dataframe thead th {\n",
       "        text-align: right;\n",
       "    }\n",
       "</style>\n",
       "<table border=\"1\" class=\"dataframe\">\n",
       "  <thead>\n",
       "    <tr style=\"text-align: right;\">\n",
       "      <th></th>\n",
       "      <th>feat0</th>\n",
       "      <th>feat1</th>\n",
       "      <th>feat2</th>\n",
       "      <th>feat3</th>\n",
       "      <th>feat4</th>\n",
       "      <th>feat5</th>\n",
       "      <th>feat6</th>\n",
       "      <th>feat7</th>\n",
       "      <th>feat8</th>\n",
       "    </tr>\n",
       "  </thead>\n",
       "  <tbody>\n",
       "    <tr>\n",
       "      <th>0</th>\n",
       "      <td>0.181945</td>\n",
       "      <td>0.788889</td>\n",
       "      <td>0.229457</td>\n",
       "      <td>1.000000</td>\n",
       "      <td>1.000000</td>\n",
       "      <td>1.000000</td>\n",
       "      <td>0.206667</td>\n",
       "      <td>0.120000</td>\n",
       "      <td>0.050000</td>\n",
       "    </tr>\n",
       "    <tr>\n",
       "      <th>1</th>\n",
       "      <td>0.401389</td>\n",
       "      <td>0.900463</td>\n",
       "      <td>0.446043</td>\n",
       "      <td>9.000000</td>\n",
       "      <td>0.980533</td>\n",
       "      <td>0.974962</td>\n",
       "      <td>0.411111</td>\n",
       "      <td>0.227778</td>\n",
       "      <td>0.086667</td>\n",
       "    </tr>\n",
       "    <tr>\n",
       "      <th>2</th>\n",
       "      <td>0.412106</td>\n",
       "      <td>0.625663</td>\n",
       "      <td>0.659932</td>\n",
       "      <td>1.134788</td>\n",
       "      <td>0.947328</td>\n",
       "      <td>0.980014</td>\n",
       "      <td>0.324776</td>\n",
       "      <td>0.180099</td>\n",
       "      <td>0.081592</td>\n",
       "    </tr>\n",
       "    <tr>\n",
       "      <th>3</th>\n",
       "      <td>0.420371</td>\n",
       "      <td>0.773148</td>\n",
       "      <td>0.543274</td>\n",
       "      <td>1.367506</td>\n",
       "      <td>0.860556</td>\n",
       "      <td>9.000000</td>\n",
       "      <td>0.271111</td>\n",
       "      <td>0.186667</td>\n",
       "      <td>0.097778</td>\n",
       "    </tr>\n",
       "    <tr>\n",
       "      <th>4</th>\n",
       "      <td>0.377778</td>\n",
       "      <td>0.597222</td>\n",
       "      <td>0.632558</td>\n",
       "      <td>1.247706</td>\n",
       "      <td>0.982752</td>\n",
       "      <td>0.968345</td>\n",
       "      <td>0.293333</td>\n",
       "      <td>0.146667</td>\n",
       "      <td>0.066667</td>\n",
       "    </tr>\n",
       "  </tbody>\n",
       "</table>\n",
       "</div>"
      ],
      "text/plain": [
       "      feat0     feat1     feat2     feat3     feat4     feat5     feat6  \\\n",
       "0  0.181945  0.788889  0.229457  1.000000  1.000000  1.000000  0.206667   \n",
       "1  0.401389  0.900463  0.446043  9.000000  0.980533  0.974962  0.411111   \n",
       "2  0.412106  0.625663  0.659932  1.134788  0.947328  0.980014  0.324776   \n",
       "3  0.420371  0.773148  0.543274  1.367506  0.860556  9.000000  0.271111   \n",
       "4  0.377778  0.597222  0.632558  1.247706  0.982752  0.968345  0.293333   \n",
       "\n",
       "      feat7     feat8  \n",
       "0  0.120000  0.050000  \n",
       "1  0.227778  0.086667  \n",
       "2  0.180099  0.081592  \n",
       "3  0.186667  0.097778  \n",
       "4  0.146667  0.066667  "
      ]
     },
     "execution_count": 24,
     "metadata": {},
     "output_type": "execute_result"
    }
   ],
   "source": [
    "X.head()"
   ]
  },
  {
   "cell_type": "code",
   "execution_count": 25,
   "metadata": {},
   "outputs": [
    {
     "data": {
      "text/plain": [
       "12593    1\n",
       "10044    1\n",
       "3815     0\n",
       "9707     1\n",
       "2259     0\n",
       "5220     0\n",
       "3021     0\n",
       "7528     1\n",
       "10328    1\n",
       "4542     0\n",
       "Name: label, dtype: int64"
      ]
     },
     "execution_count": 25,
     "metadata": {},
     "output_type": "execute_result"
    }
   ],
   "source": [
    "y.sample(10)"
   ]
  },
  {
   "cell_type": "markdown",
   "metadata": {},
   "source": [
    "Now we devide this independent `X` and dependent `y` in train and test data.\n",
    "\n",
    "To divide into train and test data, we use `train_test_split` library."
   ]
  },
  {
   "cell_type": "code",
   "execution_count": 26,
   "metadata": {},
   "outputs": [],
   "source": [
    "from sklearn.model_selection import train_test_split\n",
    "X_train, X_test, y_train, y_test = train_test_split(X,y,test_size=0.25)"
   ]
  },
  {
   "cell_type": "markdown",
   "metadata": {},
   "source": [
    "## Model Evaluation"
   ]
  },
  {
   "cell_type": "markdown",
   "metadata": {},
   "source": [
    "### 1. Decision Tree"
   ]
  },
  {
   "cell_type": "code",
   "execution_count": 27,
   "metadata": {},
   "outputs": [
    {
     "data": {
      "text/plain": [
       "0.934763181411975"
      ]
     },
     "execution_count": 27,
     "metadata": {},
     "output_type": "execute_result"
    }
   ],
   "source": [
    "from sklearn.tree import DecisionTreeClassifier\n",
    "dt = DecisionTreeClassifier()\n",
    "dt.fit(X_train,y_train)\n",
    "y_pred = dt.predict(X_test)\n",
    "accuracy_score(y_test,y_pred)"
   ]
  },
  {
   "cell_type": "code",
   "execution_count": 28,
   "metadata": {},
   "outputs": [
    {
     "name": "stdout",
     "output_type": "stream",
     "text": [
      "Accuracy: 0.934763181411975\n",
      "Recall: 0.9373881932021467\n",
      "Precision: 0.9323843416370107\n",
      "Confusion Matrix:\n",
      " [[1566  114]\n",
      " [ 105 1572]]\n",
      "F1 Score: 0.9348795718108832\n",
      "Classification Report:\n",
      "               precision    recall  f1-score   support\n",
      "\n",
      "           0       0.94      0.93      0.93      1680\n",
      "           1       0.93      0.94      0.93      1677\n",
      "\n",
      "    accuracy                           0.93      3357\n",
      "   macro avg       0.93      0.93      0.93      3357\n",
      "weighted avg       0.93      0.93      0.93      3357\n",
      "\n"
     ]
    }
   ],
   "source": [
    "# accuracy_score, recall_score, precision_score, confusion_matrix, f1_score, classification_report\n",
    "\n",
    "# Calculate accuracy\n",
    "accuracy = accuracy_score(y_test, y_pred)\n",
    "print(\"Accuracy:\", accuracy)\n",
    "\n",
    "# Calculate recall\n",
    "recall = recall_score(y_test, y_pred)\n",
    "print(\"Recall:\", recall)\n",
    "\n",
    "# Calculate precision\n",
    "precision = precision_score(y_test, y_pred)\n",
    "print(\"Precision:\", precision)\n",
    "\n",
    "# Calculate confusion matrix\n",
    "conf_matrix = confusion_matrix(y_test, y_pred)\n",
    "print(\"Confusion Matrix:\\n\", conf_matrix)\n",
    "\n",
    "# Calculate F1 score\n",
    "f1 = f1_score(y_test, y_pred)\n",
    "print(\"F1 Score:\", f1)\n",
    "\n",
    "# Generate classification report\n",
    "class_report = classification_report(y_test, y_pred)\n",
    "print(\"Classification Report:\\n\", class_report)"
   ]
  },
  {
   "cell_type": "markdown",
   "metadata": {},
   "source": [
    "### 2.Random Forest"
   ]
  },
  {
   "cell_type": "code",
   "execution_count": 29,
   "metadata": {},
   "outputs": [
    {
     "data": {
      "text/plain": [
       "0.9645516830503426"
      ]
     },
     "execution_count": 29,
     "metadata": {},
     "output_type": "execute_result"
    }
   ],
   "source": [
    "from sklearn.ensemble import RandomForestClassifier\n",
    "rf = RandomForestClassifier()\n",
    "rf.fit(X_train,y_train)\n",
    "y_pred = rf.predict(X_test)\n",
    "accuracy_score(y_test,y_pred)"
   ]
  },
  {
   "cell_type": "code",
   "execution_count": 30,
   "metadata": {},
   "outputs": [
    {
     "name": "stdout",
     "output_type": "stream",
     "text": [
      "Accuracy: 0.9645516830503426\n",
      "Recall: 0.962432915921288\n",
      "Precision: 0.9664670658682635\n",
      "Confusion Matrix:\n",
      " [[1624   56]\n",
      " [  63 1614]]\n",
      "F1 Score: 0.964445772333433\n",
      "Classification Report:\n",
      "               precision    recall  f1-score   support\n",
      "\n",
      "           0       0.96      0.97      0.96      1680\n",
      "           1       0.97      0.96      0.96      1677\n",
      "\n",
      "    accuracy                           0.96      3357\n",
      "   macro avg       0.96      0.96      0.96      3357\n",
      "weighted avg       0.96      0.96      0.96      3357\n",
      "\n"
     ]
    }
   ],
   "source": [
    "# accuracy_score, recall_score, precision_score, confusion_matrix, f1_score, classification_report\n",
    "\n",
    "# Calculate accuracy\n",
    "accuracy = accuracy_score(y_test, y_pred)\n",
    "print(\"Accuracy:\", accuracy)\n",
    "\n",
    "# Calculate recall\n",
    "recall = recall_score(y_test, y_pred)\n",
    "print(\"Recall:\", recall)\n",
    "\n",
    "# Calculate precision\n",
    "precision = precision_score(y_test, y_pred)\n",
    "print(\"Precision:\", precision)\n",
    "\n",
    "# Calculate confusion matrix\n",
    "conf_matrix = confusion_matrix(y_test, y_pred)\n",
    "print(\"Confusion Matrix:\\n\", conf_matrix)\n",
    "\n",
    "# Calculate F1 score\n",
    "f1 = f1_score(y_test, y_pred)\n",
    "print(\"F1 Score:\", f1)\n",
    "\n",
    "# Generate classification report\n",
    "class_report = classification_report(y_test, y_pred)\n",
    "print(\"Classification Report:\\n\", class_report)"
   ]
  },
  {
   "cell_type": "markdown",
   "metadata": {},
   "source": [
    "### 3. XGBoost"
   ]
  },
  {
   "cell_type": "code",
   "execution_count": 31,
   "metadata": {},
   "outputs": [
    {
     "data": {
      "text/plain": [
       "0.9728924635090855"
      ]
     },
     "execution_count": 31,
     "metadata": {},
     "output_type": "execute_result"
    }
   ],
   "source": [
    "from xgboost import XGBClassifier\n",
    "xgb = XGBClassifier()\n",
    "xgb.fit(X_train,y_train)\n",
    "y_pred = xgb.predict(X_test)\n",
    "accuracy_score(y_test,y_pred)"
   ]
  },
  {
   "cell_type": "code",
   "execution_count": 32,
   "metadata": {},
   "outputs": [
    {
     "name": "stdout",
     "output_type": "stream",
     "text": [
      "Accuracy: 0.9728924635090855\n",
      "Recall: 0.9719737626714371\n",
      "Precision: 0.973715651135006\n",
      "Confusion Matrix:\n",
      " [[1636   44]\n",
      " [  47 1630]]\n",
      "F1 Score: 0.9728439271859147\n",
      "Classification Report:\n",
      "               precision    recall  f1-score   support\n",
      "\n",
      "           0       0.97      0.97      0.97      1680\n",
      "           1       0.97      0.97      0.97      1677\n",
      "\n",
      "    accuracy                           0.97      3357\n",
      "   macro avg       0.97      0.97      0.97      3357\n",
      "weighted avg       0.97      0.97      0.97      3357\n",
      "\n"
     ]
    }
   ],
   "source": [
    "# accuracy_score, recall_score, precision_score, confusion_matrix, f1_score, classification_report\n",
    "\n",
    "# Calculate accuracy\n",
    "accuracy = accuracy_score(y_test, y_pred)\n",
    "print(\"Accuracy:\", accuracy)\n",
    "\n",
    "# Calculate recall\n",
    "recall = recall_score(y_test, y_pred)\n",
    "print(\"Recall:\", recall)\n",
    "\n",
    "# Calculate precision\n",
    "precision = precision_score(y_test, y_pred)\n",
    "print(\"Precision:\", precision)\n",
    "\n",
    "# Calculate confusion matrix\n",
    "conf_matrix = confusion_matrix(y_test, y_pred)\n",
    "print(\"Confusion Matrix:\\n\", conf_matrix)\n",
    "\n",
    "# Calculate F1 score\n",
    "f1 = f1_score(y_test, y_pred)\n",
    "print(\"F1 Score:\", f1)\n",
    "\n",
    "# Generate classification report\n",
    "class_report = classification_report(y_test, y_pred)\n",
    "print(\"Classification Report:\\n\", class_report)"
   ]
  },
  {
   "cell_type": "markdown",
   "metadata": {},
   "source": [
    "Here the Decision tree gives **94.01%** accuracy, Random Forest gives **96.9%** accuracy and XGBoost gives **97.43%** accuracy.\n",
    "\n",
    "So here **XGBoost** model gives us best accuracy score."
   ]
  },
  {
   "cell_type": "markdown",
   "metadata": {},
   "source": [
    "# Data Cleanning"
   ]
  },
  {
   "cell_type": "markdown",
   "metadata": {},
   "source": [
    "## 1. Remove Rows\n",
    "\n",
    "In this method when we find any row which one have null values then we remove the row from the dataset."
   ]
  },
  {
   "cell_type": "code",
   "execution_count": 33,
   "metadata": {},
   "outputs": [],
   "source": [
    "df2 = df_null.copy()"
   ]
  },
  {
   "cell_type": "code",
   "execution_count": 34,
   "metadata": {},
   "outputs": [
    {
     "data": {
      "text/plain": [
       "9512"
      ]
     },
     "execution_count": 34,
     "metadata": {},
     "output_type": "execute_result"
    }
   ],
   "source": [
    "df2.isnull().sum().sum()"
   ]
  },
  {
   "cell_type": "code",
   "execution_count": 35,
   "metadata": {},
   "outputs": [
    {
     "data": {
      "text/plain": [
       "(13426, 10)"
      ]
     },
     "execution_count": 35,
     "metadata": {},
     "output_type": "execute_result"
    }
   ],
   "source": [
    "df2.shape"
   ]
  },
  {
   "cell_type": "markdown",
   "metadata": {},
   "source": [
    "To remove null value contain rows we have use `df2.dropna(inplace=True)` code."
   ]
  },
  {
   "cell_type": "code",
   "execution_count": 36,
   "metadata": {},
   "outputs": [],
   "source": [
    "df2.dropna(inplace=True)"
   ]
  },
  {
   "cell_type": "code",
   "execution_count": 37,
   "metadata": {},
   "outputs": [
    {
     "data": {
      "text/plain": [
       "0"
      ]
     },
     "execution_count": 37,
     "metadata": {},
     "output_type": "execute_result"
    }
   ],
   "source": [
    "df2.isnull().sum().sum()"
   ]
  },
  {
   "cell_type": "code",
   "execution_count": 38,
   "metadata": {},
   "outputs": [
    {
     "data": {
      "text/plain": [
       "(6446, 10)"
      ]
     },
     "execution_count": 38,
     "metadata": {},
     "output_type": "execute_result"
    }
   ],
   "source": [
    "df2.shape"
   ]
  },
  {
   "cell_type": "markdown",
   "metadata": {},
   "source": [
    "Before remove row we have total 13,426 rows but after data cleanning operation now we have total 6,333 rows.\n",
    "\n",
    "We see that the number of rows reduce by 50%. So the amount of data is reduce, for that we are not use this technique very much."
   ]
  },
  {
   "cell_type": "code",
   "execution_count": 39,
   "metadata": {},
   "outputs": [],
   "source": [
    "X = df2.drop(columns=['label'])\n",
    "y = df2['label']"
   ]
  },
  {
   "cell_type": "code",
   "execution_count": 40,
   "metadata": {},
   "outputs": [],
   "source": [
    "from sklearn.model_selection import train_test_split\n",
    "X_train, X_test, y_train, y_test = train_test_split(X,y,test_size=0.25)"
   ]
  },
  {
   "cell_type": "markdown",
   "metadata": {},
   "source": [
    "# Model Evaluation"
   ]
  },
  {
   "cell_type": "markdown",
   "metadata": {},
   "source": [
    "### 1. Decision Tree"
   ]
  },
  {
   "cell_type": "code",
   "execution_count": 41,
   "metadata": {},
   "outputs": [
    {
     "data": {
      "text/plain": [
       "0.9578163771712159"
      ]
     },
     "execution_count": 41,
     "metadata": {},
     "output_type": "execute_result"
    }
   ],
   "source": [
    "from sklearn.tree import DecisionTreeClassifier\n",
    "dt = DecisionTreeClassifier()\n",
    "dt.fit(X_train,y_train)\n",
    "y_pred = dt.predict(X_test)\n",
    "accuracy_score(y_test,y_pred)"
   ]
  },
  {
   "cell_type": "code",
   "execution_count": 42,
   "metadata": {},
   "outputs": [
    {
     "name": "stdout",
     "output_type": "stream",
     "text": [
      "Accuracy: 0.9578163771712159\n",
      "Recall: 0.952088452088452\n",
      "Precision: 0.9639303482587065\n",
      "Confusion Matrix:\n",
      " [[769  29]\n",
      " [ 39 775]]\n",
      "F1 Score: 0.9579728059332508\n",
      "Classification Report:\n",
      "               precision    recall  f1-score   support\n",
      "\n",
      "           0       0.95      0.96      0.96       798\n",
      "           1       0.96      0.95      0.96       814\n",
      "\n",
      "    accuracy                           0.96      1612\n",
      "   macro avg       0.96      0.96      0.96      1612\n",
      "weighted avg       0.96      0.96      0.96      1612\n",
      "\n"
     ]
    }
   ],
   "source": [
    "# accuracy_score, recall_score, precision_score, confusion_matrix, f1_score, classification_report\n",
    "\n",
    "# Calculate accuracy\n",
    "accuracy = accuracy_score(y_test, y_pred)\n",
    "print(\"Accuracy:\", accuracy)\n",
    "\n",
    "# Calculate recall\n",
    "recall = recall_score(y_test, y_pred)\n",
    "print(\"Recall:\", recall)\n",
    "\n",
    "# Calculate precision\n",
    "precision = precision_score(y_test, y_pred)\n",
    "print(\"Precision:\", precision)\n",
    "\n",
    "# Calculate confusion matrix\n",
    "conf_matrix = confusion_matrix(y_test, y_pred)\n",
    "print(\"Confusion Matrix:\\n\", conf_matrix)\n",
    "\n",
    "# Calculate F1 score\n",
    "f1 = f1_score(y_test, y_pred)\n",
    "print(\"F1 Score:\", f1)\n",
    "\n",
    "# Generate classification report\n",
    "class_report = classification_report(y_test, y_pred)\n",
    "print(\"Classification Report:\\n\", class_report)"
   ]
  },
  {
   "cell_type": "markdown",
   "metadata": {},
   "source": [
    "### 2.Random Forest"
   ]
  },
  {
   "cell_type": "code",
   "execution_count": 43,
   "metadata": {},
   "outputs": [
    {
     "data": {
      "text/plain": [
       "0.9739454094292804"
      ]
     },
     "execution_count": 43,
     "metadata": {},
     "output_type": "execute_result"
    }
   ],
   "source": [
    "from sklearn.ensemble import RandomForestClassifier\n",
    "rf = RandomForestClassifier()\n",
    "rf.fit(X_train,y_train)\n",
    "y_pred = rf.predict(X_test)\n",
    "accuracy_score(y_test,y_pred)"
   ]
  },
  {
   "cell_type": "code",
   "execution_count": 44,
   "metadata": {},
   "outputs": [
    {
     "name": "stdout",
     "output_type": "stream",
     "text": [
      "Accuracy: 0.9739454094292804\n",
      "Recall: 0.972972972972973\n",
      "Precision: 0.9753694581280788\n",
      "Confusion Matrix:\n",
      " [[778  20]\n",
      " [ 22 792]]\n",
      "F1 Score: 0.974169741697417\n",
      "Classification Report:\n",
      "               precision    recall  f1-score   support\n",
      "\n",
      "           0       0.97      0.97      0.97       798\n",
      "           1       0.98      0.97      0.97       814\n",
      "\n",
      "    accuracy                           0.97      1612\n",
      "   macro avg       0.97      0.97      0.97      1612\n",
      "weighted avg       0.97      0.97      0.97      1612\n",
      "\n"
     ]
    }
   ],
   "source": [
    "# accuracy_score, recall_score, precision_score, confusion_matrix, f1_score, classification_report\n",
    "\n",
    "# Calculate accuracy\n",
    "accuracy = accuracy_score(y_test, y_pred)\n",
    "print(\"Accuracy:\", accuracy)\n",
    "\n",
    "# Calculate recall\n",
    "recall = recall_score(y_test, y_pred)\n",
    "print(\"Recall:\", recall)\n",
    "\n",
    "# Calculate precision\n",
    "precision = precision_score(y_test, y_pred)\n",
    "print(\"Precision:\", precision)\n",
    "\n",
    "# Calculate confusion matrix\n",
    "conf_matrix = confusion_matrix(y_test, y_pred)\n",
    "print(\"Confusion Matrix:\\n\", conf_matrix)\n",
    "\n",
    "# Calculate F1 score\n",
    "f1 = f1_score(y_test, y_pred)\n",
    "print(\"F1 Score:\", f1)\n",
    "\n",
    "# Generate classification report\n",
    "class_report = classification_report(y_test, y_pred)\n",
    "print(\"Classification Report:\\n\", class_report)"
   ]
  },
  {
   "cell_type": "markdown",
   "metadata": {},
   "source": [
    "### 3. XGBoost"
   ]
  },
  {
   "cell_type": "code",
   "execution_count": 45,
   "metadata": {},
   "outputs": [
    {
     "data": {
      "text/plain": [
       "0.9727047146401985"
      ]
     },
     "execution_count": 45,
     "metadata": {},
     "output_type": "execute_result"
    }
   ],
   "source": [
    "from xgboost import XGBClassifier\n",
    "xgb = XGBClassifier()\n",
    "xgb.fit(X_train,y_train)\n",
    "y_pred = xgb.predict(X_test)\n",
    "accuracy_score(y_test,y_pred)"
   ]
  },
  {
   "cell_type": "code",
   "execution_count": 46,
   "metadata": {},
   "outputs": [
    {
     "name": "stdout",
     "output_type": "stream",
     "text": [
      "Accuracy: 0.9727047146401985\n",
      "Recall: 0.9778869778869779\n",
      "Precision: 0.9683698296836983\n",
      "Confusion Matrix:\n",
      " [[772  26]\n",
      " [ 18 796]]\n",
      "F1 Score: 0.9731051344743277\n",
      "Classification Report:\n",
      "               precision    recall  f1-score   support\n",
      "\n",
      "           0       0.98      0.97      0.97       798\n",
      "           1       0.97      0.98      0.97       814\n",
      "\n",
      "    accuracy                           0.97      1612\n",
      "   macro avg       0.97      0.97      0.97      1612\n",
      "weighted avg       0.97      0.97      0.97      1612\n",
      "\n"
     ]
    }
   ],
   "source": [
    "# accuracy_score, recall_score, precision_score, confusion_matrix, f1_score, classification_report\n",
    "\n",
    "# Calculate accuracy\n",
    "accuracy = accuracy_score(y_test, y_pred)\n",
    "print(\"Accuracy:\", accuracy)\n",
    "\n",
    "# Calculate recall\n",
    "recall = recall_score(y_test, y_pred)\n",
    "print(\"Recall:\", recall)\n",
    "\n",
    "# Calculate precision\n",
    "precision = precision_score(y_test, y_pred)\n",
    "print(\"Precision:\", precision)\n",
    "\n",
    "# Calculate confusion matrix\n",
    "conf_matrix = confusion_matrix(y_test, y_pred)\n",
    "print(\"Confusion Matrix:\\n\", conf_matrix)\n",
    "\n",
    "# Calculate F1 score\n",
    "f1 = f1_score(y_test, y_pred)\n",
    "print(\"F1 Score:\", f1)\n",
    "\n",
    "# Generate classification report\n",
    "class_report = classification_report(y_test, y_pred)\n",
    "print(\"Classification Report:\\n\", class_report)"
   ]
  },
  {
   "cell_type": "markdown",
   "metadata": {},
   "source": [
    "Here the Decision tree gives **94.86%** accuracy, Random Forest gives **97.18%** accuracy and XGBoost gives **97.68%** accuracy.\n",
    "\n",
    "So here **XGBoost** model gives us best accuracy score."
   ]
  },
  {
   "cell_type": "markdown",
   "metadata": {},
   "source": [
    "## 2. Univariate Imputation\n",
    "\n",
    "In this Univariate Imputation using `mean()` , `median()` , `mode()` we fill the null values and remove the null values from dataset.\n",
    "\n",
    "The best advantage of this technique is here the number of row not reduce means the shape of dataset in constant."
   ]
  },
  {
   "cell_type": "code",
   "execution_count": 47,
   "metadata": {},
   "outputs": [],
   "source": [
    "df3 = df_null.copy()"
   ]
  },
  {
   "cell_type": "code",
   "execution_count": 48,
   "metadata": {},
   "outputs": [
    {
     "data": {
      "text/plain": [
       "9512"
      ]
     },
     "execution_count": 48,
     "metadata": {},
     "output_type": "execute_result"
    }
   ],
   "source": [
    "df3.isnull().sum().sum()"
   ]
  },
  {
   "cell_type": "markdown",
   "metadata": {},
   "source": [
    "To fill the null values here we use the mean imputation technique.\n",
    "\n",
    "To use mean imputation we use `df3[column_name].mean()` code."
   ]
  },
  {
   "cell_type": "code",
   "execution_count": 49,
   "metadata": {},
   "outputs": [],
   "source": [
    "clm = df3.columns\n",
    "\n",
    "for i,feat in enumerate(clm):\n",
    "    df3[feat].fillna(df3[feat].mean(), inplace=True)"
   ]
  },
  {
   "cell_type": "code",
   "execution_count": 50,
   "metadata": {},
   "outputs": [
    {
     "data": {
      "text/plain": [
       "0"
      ]
     },
     "execution_count": 50,
     "metadata": {},
     "output_type": "execute_result"
    }
   ],
   "source": [
    "df3.isnull().sum().sum()"
   ]
  },
  {
   "cell_type": "code",
   "execution_count": 51,
   "metadata": {},
   "outputs": [
    {
     "data": {
      "text/plain": [
       "(13426, 10)"
      ]
     },
     "execution_count": 51,
     "metadata": {},
     "output_type": "execute_result"
    }
   ],
   "source": [
    "df3.shape"
   ]
  },
  {
   "cell_type": "code",
   "execution_count": 52,
   "metadata": {},
   "outputs": [],
   "source": [
    "X = df3.drop(columns=['label'])\n",
    "y = df3['label']"
   ]
  },
  {
   "cell_type": "code",
   "execution_count": 53,
   "metadata": {},
   "outputs": [],
   "source": [
    "from sklearn.model_selection import train_test_split\n",
    "X_train, X_test, y_train, y_test = train_test_split(X,y,test_size=0.25)"
   ]
  },
  {
   "cell_type": "markdown",
   "metadata": {},
   "source": [
    "# Model Evaluation"
   ]
  },
  {
   "cell_type": "markdown",
   "metadata": {},
   "source": [
    "### 1. Decision Tree"
   ]
  },
  {
   "cell_type": "code",
   "execution_count": 54,
   "metadata": {},
   "outputs": [
    {
     "data": {
      "text/plain": [
       "0.94489127196902"
      ]
     },
     "execution_count": 54,
     "metadata": {},
     "output_type": "execute_result"
    }
   ],
   "source": [
    "from sklearn.tree import DecisionTreeClassifier\n",
    "dt = DecisionTreeClassifier()\n",
    "dt.fit(X_train,y_train)\n",
    "y_pred = dt.predict(X_test)\n",
    "accuracy_score(y_test,y_pred)"
   ]
  },
  {
   "cell_type": "code",
   "execution_count": 55,
   "metadata": {},
   "outputs": [
    {
     "name": "stdout",
     "output_type": "stream",
     "text": [
      "Accuracy: 0.94489127196902\n",
      "Recall: 0.9421145894861194\n",
      "Precision: 0.9482758620689655\n",
      "Confusion Matrix:\n",
      " [[1577   87]\n",
      " [  98 1595]]\n",
      "F1 Score: 0.9451851851851852\n",
      "Classification Report:\n",
      "               precision    recall  f1-score   support\n",
      "\n",
      "           0       0.94      0.95      0.94      1664\n",
      "           1       0.95      0.94      0.95      1693\n",
      "\n",
      "    accuracy                           0.94      3357\n",
      "   macro avg       0.94      0.94      0.94      3357\n",
      "weighted avg       0.94      0.94      0.94      3357\n",
      "\n"
     ]
    }
   ],
   "source": [
    "# accuracy_score, recall_score, precision_score, confusion_matrix, f1_score, classification_report\n",
    "\n",
    "# Calculate accuracy\n",
    "accuracy = accuracy_score(y_test, y_pred)\n",
    "print(\"Accuracy:\", accuracy)\n",
    "\n",
    "# Calculate recall\n",
    "recall = recall_score(y_test, y_pred)\n",
    "print(\"Recall:\", recall)\n",
    "\n",
    "# Calculate precision\n",
    "precision = precision_score(y_test, y_pred)\n",
    "print(\"Precision:\", precision)\n",
    "\n",
    "# Calculate confusion matrix\n",
    "conf_matrix = confusion_matrix(y_test, y_pred)\n",
    "print(\"Confusion Matrix:\\n\", conf_matrix)\n",
    "\n",
    "# Calculate F1 score\n",
    "f1 = f1_score(y_test, y_pred)\n",
    "print(\"F1 Score:\", f1)\n",
    "\n",
    "# Generate classification report\n",
    "class_report = classification_report(y_test, y_pred)\n",
    "print(\"Classification Report:\\n\", class_report)"
   ]
  },
  {
   "cell_type": "markdown",
   "metadata": {},
   "source": [
    "### 2. Random Forest"
   ]
  },
  {
   "cell_type": "code",
   "execution_count": 56,
   "metadata": {},
   "outputs": [
    {
     "data": {
      "text/plain": [
       "0.9702114983616325"
      ]
     },
     "execution_count": 56,
     "metadata": {},
     "output_type": "execute_result"
    }
   ],
   "source": [
    "from sklearn.ensemble import RandomForestClassifier\n",
    "rf = RandomForestClassifier()\n",
    "rf.fit(X_train,y_train)\n",
    "y_pred = rf.predict(X_test)\n",
    "accuracy_score(y_test,y_pred)"
   ]
  },
  {
   "cell_type": "code",
   "execution_count": 57,
   "metadata": {},
   "outputs": [
    {
     "name": "stdout",
     "output_type": "stream",
     "text": [
      "Accuracy: 0.9702114983616325\n",
      "Recall: 0.96751329001772\n",
      "Precision: 0.9732620320855615\n",
      "Confusion Matrix:\n",
      " [[1619   45]\n",
      " [  55 1638]]\n",
      "F1 Score: 0.9703791469194313\n",
      "Classification Report:\n",
      "               precision    recall  f1-score   support\n",
      "\n",
      "           0       0.97      0.97      0.97      1664\n",
      "           1       0.97      0.97      0.97      1693\n",
      "\n",
      "    accuracy                           0.97      3357\n",
      "   macro avg       0.97      0.97      0.97      3357\n",
      "weighted avg       0.97      0.97      0.97      3357\n",
      "\n"
     ]
    }
   ],
   "source": [
    "# accuracy_score, recall_score, precision_score, confusion_matrix, f1_score, classification_report\n",
    "\n",
    "# Calculate accuracy\n",
    "accuracy = accuracy_score(y_test, y_pred)\n",
    "print(\"Accuracy:\", accuracy)\n",
    "\n",
    "# Calculate recall\n",
    "recall = recall_score(y_test, y_pred)\n",
    "print(\"Recall:\", recall)\n",
    "\n",
    "# Calculate precision\n",
    "precision = precision_score(y_test, y_pred)\n",
    "print(\"Precision:\", precision)\n",
    "\n",
    "# Calculate confusion matrix\n",
    "conf_matrix = confusion_matrix(y_test, y_pred)\n",
    "print(\"Confusion Matrix:\\n\", conf_matrix)\n",
    "\n",
    "# Calculate F1 score\n",
    "f1 = f1_score(y_test, y_pred)\n",
    "print(\"F1 Score:\", f1)\n",
    "\n",
    "# Generate classification report\n",
    "class_report = classification_report(y_test, y_pred)\n",
    "print(\"Classification Report:\\n\", class_report)"
   ]
  },
  {
   "cell_type": "markdown",
   "metadata": {},
   "source": [
    "### 3. XGBoost"
   ]
  },
  {
   "cell_type": "code",
   "execution_count": 58,
   "metadata": {},
   "outputs": [
    {
     "data": {
      "text/plain": [
       "0.9740840035746202"
      ]
     },
     "execution_count": 58,
     "metadata": {},
     "output_type": "execute_result"
    }
   ],
   "source": [
    "from xgboost import XGBClassifier\n",
    "xgb = XGBClassifier()\n",
    "xgb.fit(X_train,y_train)\n",
    "y_pred = xgb.predict(X_test)\n",
    "accuracy_score(y_test,y_pred)"
   ]
  },
  {
   "cell_type": "code",
   "execution_count": 59,
   "metadata": {},
   "outputs": [
    {
     "name": "stdout",
     "output_type": "stream",
     "text": [
      "Accuracy: 0.9740840035746202\n",
      "Recall: 0.9757826343768459\n",
      "Precision: 0.9729093050647821\n",
      "Confusion Matrix:\n",
      " [[1618   46]\n",
      " [  41 1652]]\n",
      "F1 Score: 0.9743438513712769\n",
      "Classification Report:\n",
      "               precision    recall  f1-score   support\n",
      "\n",
      "           0       0.98      0.97      0.97      1664\n",
      "           1       0.97      0.98      0.97      1693\n",
      "\n",
      "    accuracy                           0.97      3357\n",
      "   macro avg       0.97      0.97      0.97      3357\n",
      "weighted avg       0.97      0.97      0.97      3357\n",
      "\n"
     ]
    }
   ],
   "source": [
    "# accuracy_score, recall_score, precision_score, confusion_matrix, f1_score, classification_report\n",
    "\n",
    "# Calculate accuracy\n",
    "accuracy = accuracy_score(y_test, y_pred)\n",
    "print(\"Accuracy:\", accuracy)\n",
    "\n",
    "# Calculate recall\n",
    "recall = recall_score(y_test, y_pred)\n",
    "print(\"Recall:\", recall)\n",
    "\n",
    "# Calculate precision\n",
    "precision = precision_score(y_test, y_pred)\n",
    "print(\"Precision:\", precision)\n",
    "\n",
    "# Calculate confusion matrix\n",
    "conf_matrix = confusion_matrix(y_test, y_pred)\n",
    "print(\"Confusion Matrix:\\n\", conf_matrix)\n",
    "\n",
    "# Calculate F1 score\n",
    "f1 = f1_score(y_test, y_pred)\n",
    "print(\"F1 Score:\", f1)\n",
    "\n",
    "# Generate classification report\n",
    "class_report = classification_report(y_test, y_pred)\n",
    "print(\"Classification Report:\\n\", class_report)"
   ]
  },
  {
   "cell_type": "markdown",
   "metadata": {},
   "source": [
    "Here the Decision tree gives **95.11%** accuracy, Random Forest gives **97.31%** accuracy and XGBoost gives **97.52%** accuracy.\n",
    "\n",
    "So here **XGBoost** model gives us best accuracy score."
   ]
  },
  {
   "cell_type": "markdown",
   "metadata": {},
   "source": [
    "## 3. Multivariate Imputation \n",
    "\n",
    "For this Multivariate Imputation technique we use KNNImputer that can fill the null values."
   ]
  },
  {
   "cell_type": "code",
   "execution_count": 60,
   "metadata": {},
   "outputs": [],
   "source": [
    "df4 = df_null.copy()"
   ]
  },
  {
   "cell_type": "code",
   "execution_count": 61,
   "metadata": {},
   "outputs": [
    {
     "data": {
      "text/plain": [
       "9512"
      ]
     },
     "execution_count": 61,
     "metadata": {},
     "output_type": "execute_result"
    }
   ],
   "source": [
    "df4.isnull().sum().sum()"
   ]
  },
  {
   "cell_type": "markdown",
   "metadata": {},
   "source": [
    "To remove null values first we import the KNNImputer module using `from sklearn.impute import KNNImputer` code."
   ]
  },
  {
   "cell_type": "code",
   "execution_count": 62,
   "metadata": {},
   "outputs": [],
   "source": [
    "from sklearn.impute import KNNImputer\n",
    "imputer = KNNImputer(n_neighbors=2)\n",
    "df4 = imputer.fit_transform(df4)"
   ]
  },
  {
   "cell_type": "code",
   "execution_count": 63,
   "metadata": {},
   "outputs": [
    {
     "data": {
      "text/plain": [
       "0"
      ]
     },
     "execution_count": 63,
     "metadata": {},
     "output_type": "execute_result"
    }
   ],
   "source": [
    "df4 = pd.DataFrame(df4)\n",
    "df4.isnull().sum().sum()"
   ]
  },
  {
   "cell_type": "code",
   "execution_count": 64,
   "metadata": {},
   "outputs": [
    {
     "data": {
      "text/html": [
       "<div>\n",
       "<style scoped>\n",
       "    .dataframe tbody tr th:only-of-type {\n",
       "        vertical-align: middle;\n",
       "    }\n",
       "\n",
       "    .dataframe tbody tr th {\n",
       "        vertical-align: top;\n",
       "    }\n",
       "\n",
       "    .dataframe thead th {\n",
       "        text-align: right;\n",
       "    }\n",
       "</style>\n",
       "<table border=\"1\" class=\"dataframe\">\n",
       "  <thead>\n",
       "    <tr style=\"text-align: right;\">\n",
       "      <th></th>\n",
       "      <th>0</th>\n",
       "      <th>1</th>\n",
       "      <th>2</th>\n",
       "      <th>3</th>\n",
       "      <th>4</th>\n",
       "      <th>5</th>\n",
       "      <th>6</th>\n",
       "      <th>7</th>\n",
       "      <th>8</th>\n",
       "      <th>9</th>\n",
       "    </tr>\n",
       "  </thead>\n",
       "  <tbody>\n",
       "    <tr>\n",
       "      <th>0</th>\n",
       "      <td>0.181945</td>\n",
       "      <td>0.788889</td>\n",
       "      <td>0.229457</td>\n",
       "      <td>1.000000</td>\n",
       "      <td>1.000000</td>\n",
       "      <td>1.000000</td>\n",
       "      <td>0.206667</td>\n",
       "      <td>0.120000</td>\n",
       "      <td>0.050000</td>\n",
       "      <td>0.0</td>\n",
       "    </tr>\n",
       "    <tr>\n",
       "      <th>1</th>\n",
       "      <td>0.401389</td>\n",
       "      <td>0.900463</td>\n",
       "      <td>0.446043</td>\n",
       "      <td>0.973587</td>\n",
       "      <td>0.980533</td>\n",
       "      <td>0.974962</td>\n",
       "      <td>0.411111</td>\n",
       "      <td>0.227778</td>\n",
       "      <td>0.086667</td>\n",
       "      <td>0.0</td>\n",
       "    </tr>\n",
       "    <tr>\n",
       "      <th>2</th>\n",
       "      <td>0.412106</td>\n",
       "      <td>0.625663</td>\n",
       "      <td>0.659932</td>\n",
       "      <td>1.134788</td>\n",
       "      <td>0.947328</td>\n",
       "      <td>0.980014</td>\n",
       "      <td>0.324776</td>\n",
       "      <td>0.180099</td>\n",
       "      <td>0.081592</td>\n",
       "      <td>0.0</td>\n",
       "    </tr>\n",
       "    <tr>\n",
       "      <th>3</th>\n",
       "      <td>0.420371</td>\n",
       "      <td>0.773148</td>\n",
       "      <td>0.543274</td>\n",
       "      <td>1.367506</td>\n",
       "      <td>0.860556</td>\n",
       "      <td>0.976484</td>\n",
       "      <td>0.271111</td>\n",
       "      <td>0.186667</td>\n",
       "      <td>0.097778</td>\n",
       "      <td>0.0</td>\n",
       "    </tr>\n",
       "    <tr>\n",
       "      <th>4</th>\n",
       "      <td>0.377778</td>\n",
       "      <td>0.597222</td>\n",
       "      <td>0.632558</td>\n",
       "      <td>1.247706</td>\n",
       "      <td>0.982752</td>\n",
       "      <td>0.968345</td>\n",
       "      <td>0.293333</td>\n",
       "      <td>0.146667</td>\n",
       "      <td>0.066667</td>\n",
       "      <td>0.0</td>\n",
       "    </tr>\n",
       "  </tbody>\n",
       "</table>\n",
       "</div>"
      ],
      "text/plain": [
       "          0         1         2         3         4         5         6  \\\n",
       "0  0.181945  0.788889  0.229457  1.000000  1.000000  1.000000  0.206667   \n",
       "1  0.401389  0.900463  0.446043  0.973587  0.980533  0.974962  0.411111   \n",
       "2  0.412106  0.625663  0.659932  1.134788  0.947328  0.980014  0.324776   \n",
       "3  0.420371  0.773148  0.543274  1.367506  0.860556  0.976484  0.271111   \n",
       "4  0.377778  0.597222  0.632558  1.247706  0.982752  0.968345  0.293333   \n",
       "\n",
       "          7         8    9  \n",
       "0  0.120000  0.050000  0.0  \n",
       "1  0.227778  0.086667  0.0  \n",
       "2  0.180099  0.081592  0.0  \n",
       "3  0.186667  0.097778  0.0  \n",
       "4  0.146667  0.066667  0.0  "
      ]
     },
     "execution_count": 64,
     "metadata": {},
     "output_type": "execute_result"
    }
   ],
   "source": [
    "df4.head()"
   ]
  },
  {
   "cell_type": "markdown",
   "metadata": {},
   "source": [
    "Now in the dataset no null value is present.\n",
    "\n",
    "For use the KNNImputer the column name have change."
   ]
  },
  {
   "cell_type": "code",
   "execution_count": 65,
   "metadata": {},
   "outputs": [],
   "source": [
    "X = df4.iloc[:,0:9]\n",
    "y = df4.iloc[:,-1]"
   ]
  },
  {
   "cell_type": "code",
   "execution_count": 66,
   "metadata": {},
   "outputs": [
    {
     "data": {
      "text/html": [
       "<div>\n",
       "<style scoped>\n",
       "    .dataframe tbody tr th:only-of-type {\n",
       "        vertical-align: middle;\n",
       "    }\n",
       "\n",
       "    .dataframe tbody tr th {\n",
       "        vertical-align: top;\n",
       "    }\n",
       "\n",
       "    .dataframe thead th {\n",
       "        text-align: right;\n",
       "    }\n",
       "</style>\n",
       "<table border=\"1\" class=\"dataframe\">\n",
       "  <thead>\n",
       "    <tr style=\"text-align: right;\">\n",
       "      <th></th>\n",
       "      <th>0</th>\n",
       "      <th>1</th>\n",
       "      <th>2</th>\n",
       "      <th>3</th>\n",
       "      <th>4</th>\n",
       "      <th>5</th>\n",
       "      <th>6</th>\n",
       "      <th>7</th>\n",
       "      <th>8</th>\n",
       "    </tr>\n",
       "  </thead>\n",
       "  <tbody>\n",
       "    <tr>\n",
       "      <th>0</th>\n",
       "      <td>0.181945</td>\n",
       "      <td>0.788889</td>\n",
       "      <td>0.229457</td>\n",
       "      <td>1.000000</td>\n",
       "      <td>1.000000</td>\n",
       "      <td>1.000000</td>\n",
       "      <td>0.206667</td>\n",
       "      <td>0.120000</td>\n",
       "      <td>0.050000</td>\n",
       "    </tr>\n",
       "    <tr>\n",
       "      <th>1</th>\n",
       "      <td>0.401389</td>\n",
       "      <td>0.900463</td>\n",
       "      <td>0.446043</td>\n",
       "      <td>0.973587</td>\n",
       "      <td>0.980533</td>\n",
       "      <td>0.974962</td>\n",
       "      <td>0.411111</td>\n",
       "      <td>0.227778</td>\n",
       "      <td>0.086667</td>\n",
       "    </tr>\n",
       "    <tr>\n",
       "      <th>2</th>\n",
       "      <td>0.412106</td>\n",
       "      <td>0.625663</td>\n",
       "      <td>0.659932</td>\n",
       "      <td>1.134788</td>\n",
       "      <td>0.947328</td>\n",
       "      <td>0.980014</td>\n",
       "      <td>0.324776</td>\n",
       "      <td>0.180099</td>\n",
       "      <td>0.081592</td>\n",
       "    </tr>\n",
       "    <tr>\n",
       "      <th>3</th>\n",
       "      <td>0.420371</td>\n",
       "      <td>0.773148</td>\n",
       "      <td>0.543274</td>\n",
       "      <td>1.367506</td>\n",
       "      <td>0.860556</td>\n",
       "      <td>0.976484</td>\n",
       "      <td>0.271111</td>\n",
       "      <td>0.186667</td>\n",
       "      <td>0.097778</td>\n",
       "    </tr>\n",
       "    <tr>\n",
       "      <th>4</th>\n",
       "      <td>0.377778</td>\n",
       "      <td>0.597222</td>\n",
       "      <td>0.632558</td>\n",
       "      <td>1.247706</td>\n",
       "      <td>0.982752</td>\n",
       "      <td>0.968345</td>\n",
       "      <td>0.293333</td>\n",
       "      <td>0.146667</td>\n",
       "      <td>0.066667</td>\n",
       "    </tr>\n",
       "  </tbody>\n",
       "</table>\n",
       "</div>"
      ],
      "text/plain": [
       "          0         1         2         3         4         5         6  \\\n",
       "0  0.181945  0.788889  0.229457  1.000000  1.000000  1.000000  0.206667   \n",
       "1  0.401389  0.900463  0.446043  0.973587  0.980533  0.974962  0.411111   \n",
       "2  0.412106  0.625663  0.659932  1.134788  0.947328  0.980014  0.324776   \n",
       "3  0.420371  0.773148  0.543274  1.367506  0.860556  0.976484  0.271111   \n",
       "4  0.377778  0.597222  0.632558  1.247706  0.982752  0.968345  0.293333   \n",
       "\n",
       "          7         8  \n",
       "0  0.120000  0.050000  \n",
       "1  0.227778  0.086667  \n",
       "2  0.180099  0.081592  \n",
       "3  0.186667  0.097778  \n",
       "4  0.146667  0.066667  "
      ]
     },
     "execution_count": 66,
     "metadata": {},
     "output_type": "execute_result"
    }
   ],
   "source": [
    "X.head()"
   ]
  },
  {
   "cell_type": "code",
   "execution_count": 67,
   "metadata": {},
   "outputs": [
    {
     "data": {
      "text/plain": [
       "0    0.0\n",
       "1    0.0\n",
       "2    0.0\n",
       "3    0.0\n",
       "4    0.0\n",
       "Name: 9, dtype: float64"
      ]
     },
     "execution_count": 67,
     "metadata": {},
     "output_type": "execute_result"
    }
   ],
   "source": [
    "y.head()"
   ]
  },
  {
   "cell_type": "code",
   "execution_count": 68,
   "metadata": {},
   "outputs": [],
   "source": [
    "from sklearn.model_selection import train_test_split\n",
    "X_train, X_test, y_train, y_test = train_test_split(X,y,test_size=0.25)"
   ]
  },
  {
   "cell_type": "markdown",
   "metadata": {},
   "source": [
    "# Model Evaluation"
   ]
  },
  {
   "cell_type": "markdown",
   "metadata": {},
   "source": [
    "### 1. Decision Tree"
   ]
  },
  {
   "cell_type": "code",
   "execution_count": 69,
   "metadata": {},
   "outputs": [
    {
     "data": {
      "text/plain": [
       "0.9615728328865059"
      ]
     },
     "execution_count": 69,
     "metadata": {},
     "output_type": "execute_result"
    }
   ],
   "source": [
    "from sklearn.tree import DecisionTreeClassifier\n",
    "dt = DecisionTreeClassifier()\n",
    "dt.fit(X_train,y_train)\n",
    "y_pred = dt.predict(X_test)\n",
    "accuracy_score(y_test,y_pred)"
   ]
  },
  {
   "cell_type": "code",
   "execution_count": 70,
   "metadata": {},
   "outputs": [
    {
     "name": "stdout",
     "output_type": "stream",
     "text": [
      "Accuracy: 0.9615728328865059\n",
      "Recall: 0.9697153240460327\n",
      "Precision: 0.9529761904761904\n",
      "Confusion Matrix:\n",
      " [[1627   79]\n",
      " [  50 1601]]\n",
      "F1 Score: 0.9612728910237166\n",
      "Classification Report:\n",
      "               precision    recall  f1-score   support\n",
      "\n",
      "         0.0       0.97      0.95      0.96      1706\n",
      "         1.0       0.95      0.97      0.96      1651\n",
      "\n",
      "    accuracy                           0.96      3357\n",
      "   macro avg       0.96      0.96      0.96      3357\n",
      "weighted avg       0.96      0.96      0.96      3357\n",
      "\n"
     ]
    }
   ],
   "source": [
    "# accuracy_score, recall_score, precision_score, confusion_matrix, f1_score, classification_report\n",
    "\n",
    "# Calculate accuracy\n",
    "accuracy = accuracy_score(y_test, y_pred)\n",
    "print(\"Accuracy:\", accuracy)\n",
    "\n",
    "# Calculate recall\n",
    "recall = recall_score(y_test, y_pred)\n",
    "print(\"Recall:\", recall)\n",
    "\n",
    "# Calculate precision\n",
    "precision = precision_score(y_test, y_pred)\n",
    "print(\"Precision:\", precision)\n",
    "\n",
    "# Calculate confusion matrix\n",
    "conf_matrix = confusion_matrix(y_test, y_pred)\n",
    "print(\"Confusion Matrix:\\n\", conf_matrix)\n",
    "\n",
    "# Calculate F1 score\n",
    "f1 = f1_score(y_test, y_pred)\n",
    "print(\"F1 Score:\", f1)\n",
    "\n",
    "# Generate classification report\n",
    "class_report = classification_report(y_test, y_pred)\n",
    "print(\"Classification Report:\\n\", class_report)"
   ]
  },
  {
   "cell_type": "markdown",
   "metadata": {},
   "source": [
    "### 2. Random Forest"
   ]
  },
  {
   "cell_type": "code",
   "execution_count": 71,
   "metadata": {},
   "outputs": [
    {
     "data": {
      "text/plain": [
       "0.9803395889186773"
      ]
     },
     "execution_count": 71,
     "metadata": {},
     "output_type": "execute_result"
    }
   ],
   "source": [
    "from sklearn.ensemble import RandomForestClassifier\n",
    "rf = RandomForestClassifier()\n",
    "rf.fit(X_train,y_train)\n",
    "y_pred = rf.predict(X_test)\n",
    "accuracy_score(y_test,y_pred)"
   ]
  },
  {
   "cell_type": "code",
   "execution_count": 72,
   "metadata": {},
   "outputs": [
    {
     "name": "stdout",
     "output_type": "stream",
     "text": [
      "Accuracy: 0.9803395889186773\n",
      "Recall: 0.9794064203513022\n",
      "Precision: 0.9805942995755003\n",
      "Confusion Matrix:\n",
      " [[1674   32]\n",
      " [  34 1617]]\n",
      "F1 Score: 0.9799999999999999\n",
      "Classification Report:\n",
      "               precision    recall  f1-score   support\n",
      "\n",
      "         0.0       0.98      0.98      0.98      1706\n",
      "         1.0       0.98      0.98      0.98      1651\n",
      "\n",
      "    accuracy                           0.98      3357\n",
      "   macro avg       0.98      0.98      0.98      3357\n",
      "weighted avg       0.98      0.98      0.98      3357\n",
      "\n"
     ]
    }
   ],
   "source": [
    "# accuracy_score, recall_score, precision_score, confusion_matrix, f1_score, classification_report\n",
    "\n",
    "# Calculate accuracy\n",
    "accuracy = accuracy_score(y_test, y_pred)\n",
    "print(\"Accuracy:\", accuracy)\n",
    "\n",
    "# Calculate recall\n",
    "recall = recall_score(y_test, y_pred)\n",
    "print(\"Recall:\", recall)\n",
    "\n",
    "# Calculate precision\n",
    "precision = precision_score(y_test, y_pred)\n",
    "print(\"Precision:\", precision)\n",
    "\n",
    "# Calculate confusion matrix\n",
    "conf_matrix = confusion_matrix(y_test, y_pred)\n",
    "print(\"Confusion Matrix:\\n\", conf_matrix)\n",
    "\n",
    "# Calculate F1 score\n",
    "f1 = f1_score(y_test, y_pred)\n",
    "print(\"F1 Score:\", f1)\n",
    "\n",
    "# Generate classification report\n",
    "class_report = classification_report(y_test, y_pred)\n",
    "print(\"Classification Report:\\n\", class_report)"
   ]
  },
  {
   "cell_type": "markdown",
   "metadata": {},
   "source": [
    "### 3. XGBoost"
   ]
  },
  {
   "cell_type": "code",
   "execution_count": 73,
   "metadata": {},
   "outputs": [
    {
     "data": {
      "text/plain": [
       "0.9785522788203753"
      ]
     },
     "execution_count": 73,
     "metadata": {},
     "output_type": "execute_result"
    }
   ],
   "source": [
    "from xgboost import XGBClassifier\n",
    "xgb = XGBClassifier()\n",
    "xgb.fit(X_train,y_train)\n",
    "y_pred = xgb.predict(X_test)\n",
    "accuracy_score(y_test,y_pred)"
   ]
  },
  {
   "cell_type": "code",
   "execution_count": 74,
   "metadata": {},
   "outputs": [
    {
     "name": "stdout",
     "output_type": "stream",
     "text": [
      "Accuracy: 0.9785522788203753\n",
      "Recall: 0.9800121138703816\n",
      "Precision: 0.9764634882317441\n",
      "Confusion Matrix:\n",
      " [[1667   39]\n",
      " [  33 1618]]\n",
      "F1 Score: 0.9782345828295043\n",
      "Classification Report:\n",
      "               precision    recall  f1-score   support\n",
      "\n",
      "         0.0       0.98      0.98      0.98      1706\n",
      "         1.0       0.98      0.98      0.98      1651\n",
      "\n",
      "    accuracy                           0.98      3357\n",
      "   macro avg       0.98      0.98      0.98      3357\n",
      "weighted avg       0.98      0.98      0.98      3357\n",
      "\n"
     ]
    }
   ],
   "source": [
    "# accuracy_score, recall_score, precision_score, confusion_matrix, f1_score, classification_report\n",
    "\n",
    "# Calculate accuracy\n",
    "accuracy = accuracy_score(y_test, y_pred)\n",
    "print(\"Accuracy:\", accuracy)\n",
    "\n",
    "# Calculate recall\n",
    "recall = recall_score(y_test, y_pred)\n",
    "print(\"Recall:\", recall)\n",
    "\n",
    "# Calculate precision\n",
    "precision = precision_score(y_test, y_pred)\n",
    "print(\"Precision:\", precision)\n",
    "\n",
    "# Calculate confusion matrix\n",
    "conf_matrix = confusion_matrix(y_test, y_pred)\n",
    "print(\"Confusion Matrix:\\n\", conf_matrix)\n",
    "\n",
    "# Calculate F1 score\n",
    "f1 = f1_score(y_test, y_pred)\n",
    "print(\"F1 Score:\", f1)\n",
    "\n",
    "# Generate classification report\n",
    "class_report = classification_report(y_test, y_pred)\n",
    "print(\"Classification Report:\\n\", class_report)"
   ]
  },
  {
   "cell_type": "markdown",
   "metadata": {},
   "source": [
    "Here the Decision tree gives **96.3%** accuracy, Random Forest gives **98%** accuracy and XGBoost gives **98.24%** accuracy.\n",
    "\n",
    "So here **XGBoost** model gives us best accuracy score."
   ]
  },
  {
   "cell_type": "markdown",
   "metadata": {},
   "source": [
    "# Conclusion "
   ]
  },
  {
   "cell_type": "code",
   "execution_count": 75,
   "metadata": {},
   "outputs": [
    {
     "data": {
      "image/png": "[encoded data removed]",
      "text/plain": [
       "<Figure size 640x480 with 2 Axes>"
      ]
     },
     "metadata": {},
     "output_type": "display_data"
    }
   ],
   "source": [
    "from sklearn import metrics\n",
    "confusion_matrix = metrics.confusion_matrix(y_test,y_pred)\n",
    "\n",
    "cm_display = metrics.ConfusionMatrixDisplay(confusion_matrix = confusion_matrix, display_labels = [False, True])\n",
    "\n",
    "cm_display.plot()\n",
    "plt.show()"
   ]
  },
  {
   "cell_type": "markdown",
   "metadata": {},
   "source": [
    "This above confusion matrix show the best model among all of this. This is **XGBoost** with **KNNImputer**."
   ]
  },
  {
   "cell_type": "markdown",
   "metadata": {},
   "source": [
    "In this below table you see the all accurey score of all models (Decision Tree, Random Forest, XGBoost) in different kind Data Pre-Processing.\n",
    "\n",
    "\n",
    "\n",
    "|     | Decision Tree | Random Forest | XGBoost |\n",
    "| :---------- | :------------- | :------------ | :------------ |\n",
    "| **Without Data Cleaning** | 94.01% | 96.9% | 97.43% |\n",
    "| **Remove the Rows** | 94.86% | 97.18% | 97.68% |\n",
    "| **Univariate Imputation** | 95.11% | 97.31% | 97.52% |\n",
    "| **Multivariate Imputation** | 96.3% | 98% | 98.24% |"
   ]
  },
  {
   "cell_type": "markdown",
   "metadata": {},
   "source": [
    "Till now we have see the **KNNImputer** and **XGBoost** together gives the best output result."
   ]
  },
  {
   "cell_type": "markdown",
   "metadata": {},
   "source": [
    "Now we see the Features Important in ECG Dataset."
   ]
  },
  {
   "cell_type": "markdown",
   "metadata": {},
   "source": [
    "# Features Engineering "
   ]
  },
  {
   "cell_type": "markdown",
   "metadata": {},
   "source": [
    "In `df4` dataset we perform the KNNImputer for Data cleaning the we have used the **XGBoost** algorithm and this give the best result. So now we will use `df4` dataset to check whether the feature engineering gives the best, same, or worse result"
   ]
  },
  {
   "cell_type": "code",
   "execution_count": 76,
   "metadata": {},
   "outputs": [
    {
     "data": {
      "text/plain": [
       "0"
      ]
     },
     "execution_count": 76,
     "metadata": {},
     "output_type": "execute_result"
    }
   ],
   "source": [
    "df4.isnull().sum().sum()"
   ]
  },
  {
   "cell_type": "code",
   "execution_count": 77,
   "metadata": {},
   "outputs": [
    {
     "data": {
      "text/plain": [
       "(13426, 10)"
      ]
     },
     "execution_count": 77,
     "metadata": {},
     "output_type": "execute_result"
    }
   ],
   "source": [
    "df4.shape"
   ]
  },
  {
   "cell_type": "code",
   "execution_count": 78,
   "metadata": {},
   "outputs": [
    {
     "data": {
      "text/html": [
       "<div>\n",
       "<style scoped>\n",
       "    .dataframe tbody tr th:only-of-type {\n",
       "        vertical-align: middle;\n",
       "    }\n",
       "\n",
       "    .dataframe tbody tr th {\n",
       "        vertical-align: top;\n",
       "    }\n",
       "\n",
       "    .dataframe thead th {\n",
       "        text-align: right;\n",
       "    }\n",
       "</style>\n",
       "<table border=\"1\" class=\"dataframe\">\n",
       "  <thead>\n",
       "    <tr style=\"text-align: right;\">\n",
       "      <th></th>\n",
       "      <th>0</th>\n",
       "      <th>1</th>\n",
       "      <th>2</th>\n",
       "      <th>3</th>\n",
       "      <th>4</th>\n",
       "      <th>5</th>\n",
       "      <th>6</th>\n",
       "      <th>7</th>\n",
       "      <th>8</th>\n",
       "      <th>9</th>\n",
       "    </tr>\n",
       "  </thead>\n",
       "  <tbody>\n",
       "    <tr>\n",
       "      <th>0</th>\n",
       "      <td>0.181945</td>\n",
       "      <td>0.788889</td>\n",
       "      <td>0.229457</td>\n",
       "      <td>1.000000</td>\n",
       "      <td>1.000000</td>\n",
       "      <td>1.000000</td>\n",
       "      <td>0.206667</td>\n",
       "      <td>0.120000</td>\n",
       "      <td>0.050000</td>\n",
       "      <td>0.0</td>\n",
       "    </tr>\n",
       "    <tr>\n",
       "      <th>1</th>\n",
       "      <td>0.401389</td>\n",
       "      <td>0.900463</td>\n",
       "      <td>0.446043</td>\n",
       "      <td>0.973587</td>\n",
       "      <td>0.980533</td>\n",
       "      <td>0.974962</td>\n",
       "      <td>0.411111</td>\n",
       "      <td>0.227778</td>\n",
       "      <td>0.086667</td>\n",
       "      <td>0.0</td>\n",
       "    </tr>\n",
       "    <tr>\n",
       "      <th>2</th>\n",
       "      <td>0.412106</td>\n",
       "      <td>0.625663</td>\n",
       "      <td>0.659932</td>\n",
       "      <td>1.134788</td>\n",
       "      <td>0.947328</td>\n",
       "      <td>0.980014</td>\n",
       "      <td>0.324776</td>\n",
       "      <td>0.180099</td>\n",
       "      <td>0.081592</td>\n",
       "      <td>0.0</td>\n",
       "    </tr>\n",
       "    <tr>\n",
       "      <th>3</th>\n",
       "      <td>0.420371</td>\n",
       "      <td>0.773148</td>\n",
       "      <td>0.543274</td>\n",
       "      <td>1.367506</td>\n",
       "      <td>0.860556</td>\n",
       "      <td>0.976484</td>\n",
       "      <td>0.271111</td>\n",
       "      <td>0.186667</td>\n",
       "      <td>0.097778</td>\n",
       "      <td>0.0</td>\n",
       "    </tr>\n",
       "    <tr>\n",
       "      <th>4</th>\n",
       "      <td>0.377778</td>\n",
       "      <td>0.597222</td>\n",
       "      <td>0.632558</td>\n",
       "      <td>1.247706</td>\n",
       "      <td>0.982752</td>\n",
       "      <td>0.968345</td>\n",
       "      <td>0.293333</td>\n",
       "      <td>0.146667</td>\n",
       "      <td>0.066667</td>\n",
       "      <td>0.0</td>\n",
       "    </tr>\n",
       "  </tbody>\n",
       "</table>\n",
       "</div>"
      ],
      "text/plain": [
       "          0         1         2         3         4         5         6  \\\n",
       "0  0.181945  0.788889  0.229457  1.000000  1.000000  1.000000  0.206667   \n",
       "1  0.401389  0.900463  0.446043  0.973587  0.980533  0.974962  0.411111   \n",
       "2  0.412106  0.625663  0.659932  1.134788  0.947328  0.980014  0.324776   \n",
       "3  0.420371  0.773148  0.543274  1.367506  0.860556  0.976484  0.271111   \n",
       "4  0.377778  0.597222  0.632558  1.247706  0.982752  0.968345  0.293333   \n",
       "\n",
       "          7         8    9  \n",
       "0  0.120000  0.050000  0.0  \n",
       "1  0.227778  0.086667  0.0  \n",
       "2  0.180099  0.081592  0.0  \n",
       "3  0.186667  0.097778  0.0  \n",
       "4  0.146667  0.066667  0.0  "
      ]
     },
     "execution_count": 78,
     "metadata": {},
     "output_type": "execute_result"
    }
   ],
   "source": [
    "df4.head()"
   ]
  },
  {
   "cell_type": "code",
   "execution_count": 79,
   "metadata": {},
   "outputs": [
    {
     "data": {
      "text/plain": [
       "RangeIndex(start=0, stop=10, step=1)"
      ]
     },
     "execution_count": 79,
     "metadata": {},
     "output_type": "execute_result"
    }
   ],
   "source": [
    "df4.columns"
   ]
  },
  {
   "cell_type": "markdown",
   "metadata": {},
   "source": [
    "First we will extract the features from `df4` dataset using `features = df4.drop(columns=[9])` code."
   ]
  },
  {
   "cell_type": "code",
   "execution_count": 80,
   "metadata": {},
   "outputs": [],
   "source": [
    "features = df4.drop(columns=[9])"
   ]
  },
  {
   "cell_type": "code",
   "execution_count": 81,
   "metadata": {},
   "outputs": [
    {
     "data": {
      "text/html": [
       "<div>\n",
       "<style scoped>\n",
       "    .dataframe tbody tr th:only-of-type {\n",
       "        vertical-align: middle;\n",
       "    }\n",
       "\n",
       "    .dataframe tbody tr th {\n",
       "        vertical-align: top;\n",
       "    }\n",
       "\n",
       "    .dataframe thead th {\n",
       "        text-align: right;\n",
       "    }\n",
       "</style>\n",
       "<table border=\"1\" class=\"dataframe\">\n",
       "  <thead>\n",
       "    <tr style=\"text-align: right;\">\n",
       "      <th></th>\n",
       "      <th>0</th>\n",
       "      <th>1</th>\n",
       "      <th>2</th>\n",
       "      <th>3</th>\n",
       "      <th>4</th>\n",
       "      <th>5</th>\n",
       "      <th>6</th>\n",
       "      <th>7</th>\n",
       "      <th>8</th>\n",
       "    </tr>\n",
       "  </thead>\n",
       "  <tbody>\n",
       "    <tr>\n",
       "      <th>0</th>\n",
       "      <td>0.181945</td>\n",
       "      <td>0.788889</td>\n",
       "      <td>0.229457</td>\n",
       "      <td>1.000000</td>\n",
       "      <td>1.000000</td>\n",
       "      <td>1.000000</td>\n",
       "      <td>0.206667</td>\n",
       "      <td>0.120000</td>\n",
       "      <td>0.050000</td>\n",
       "    </tr>\n",
       "    <tr>\n",
       "      <th>1</th>\n",
       "      <td>0.401389</td>\n",
       "      <td>0.900463</td>\n",
       "      <td>0.446043</td>\n",
       "      <td>0.973587</td>\n",
       "      <td>0.980533</td>\n",
       "      <td>0.974962</td>\n",
       "      <td>0.411111</td>\n",
       "      <td>0.227778</td>\n",
       "      <td>0.086667</td>\n",
       "    </tr>\n",
       "    <tr>\n",
       "      <th>2</th>\n",
       "      <td>0.412106</td>\n",
       "      <td>0.625663</td>\n",
       "      <td>0.659932</td>\n",
       "      <td>1.134788</td>\n",
       "      <td>0.947328</td>\n",
       "      <td>0.980014</td>\n",
       "      <td>0.324776</td>\n",
       "      <td>0.180099</td>\n",
       "      <td>0.081592</td>\n",
       "    </tr>\n",
       "    <tr>\n",
       "      <th>3</th>\n",
       "      <td>0.420371</td>\n",
       "      <td>0.773148</td>\n",
       "      <td>0.543274</td>\n",
       "      <td>1.367506</td>\n",
       "      <td>0.860556</td>\n",
       "      <td>0.976484</td>\n",
       "      <td>0.271111</td>\n",
       "      <td>0.186667</td>\n",
       "      <td>0.097778</td>\n",
       "    </tr>\n",
       "    <tr>\n",
       "      <th>4</th>\n",
       "      <td>0.377778</td>\n",
       "      <td>0.597222</td>\n",
       "      <td>0.632558</td>\n",
       "      <td>1.247706</td>\n",
       "      <td>0.982752</td>\n",
       "      <td>0.968345</td>\n",
       "      <td>0.293333</td>\n",
       "      <td>0.146667</td>\n",
       "      <td>0.066667</td>\n",
       "    </tr>\n",
       "  </tbody>\n",
       "</table>\n",
       "</div>"
      ],
      "text/plain": [
       "          0         1         2         3         4         5         6  \\\n",
       "0  0.181945  0.788889  0.229457  1.000000  1.000000  1.000000  0.206667   \n",
       "1  0.401389  0.900463  0.446043  0.973587  0.980533  0.974962  0.411111   \n",
       "2  0.412106  0.625663  0.659932  1.134788  0.947328  0.980014  0.324776   \n",
       "3  0.420371  0.773148  0.543274  1.367506  0.860556  0.976484  0.271111   \n",
       "4  0.377778  0.597222  0.632558  1.247706  0.982752  0.968345  0.293333   \n",
       "\n",
       "          7         8  \n",
       "0  0.120000  0.050000  \n",
       "1  0.227778  0.086667  \n",
       "2  0.180099  0.081592  \n",
       "3  0.186667  0.097778  \n",
       "4  0.146667  0.066667  "
      ]
     },
     "execution_count": 81,
     "metadata": {},
     "output_type": "execute_result"
    }
   ],
   "source": [
    "features.head()"
   ]
  },
  {
   "cell_type": "code",
   "execution_count": 82,
   "metadata": {},
   "outputs": [],
   "source": [
    "label = df4[9]"
   ]
  },
  {
   "cell_type": "code",
   "execution_count": 83,
   "metadata": {},
   "outputs": [
    {
     "data": {
      "text/plain": [
       "0    0.0\n",
       "1    0.0\n",
       "2    0.0\n",
       "3    0.0\n",
       "4    0.0\n",
       "Name: 9, dtype: float64"
      ]
     },
     "execution_count": 83,
     "metadata": {},
     "output_type": "execute_result"
    }
   ],
   "source": [
    "label.head()"
   ]
  },
  {
   "cell_type": "markdown",
   "metadata": {},
   "source": [
    "Now we have one `features` dataset where all the input column is present and second `label` dataset where the output column is present."
   ]
  },
  {
   "cell_type": "markdown",
   "metadata": {},
   "source": [
    "Now we will analysis which feature is more important to predict the output in the dataset and then the plot a graph to see the features important."
   ]
  },
  {
   "cell_type": "code",
   "execution_count": 84,
   "metadata": {},
   "outputs": [
    {
     "data": {
      "image/png": "[encoded data removed]",
      "text/plain": [
       "<Figure size 1200x500 with 1 Axes>"
      ]
     },
     "metadata": {},
     "output_type": "display_data"
    }
   ],
   "source": [
    "plt.figure(figsize=(12,5))\n",
    "from sklearn.ensemble import ExtraTreesRegressor\n",
    "etr = ExtraTreesRegressor()\n",
    "etr.fit(features, label)\n",
    "feature_importance = pd.Series(etr.feature_importances_, index=features.columns)\n",
    "feature_importance.nlargest(20).plot(kind='barh')\n",
    "plt.show()"
   ]
  },
  {
   "cell_type": "markdown",
   "metadata": {},
   "source": [
    "Where we see that the feature **7**, **0** and **2** is more important to predict the output and then feature **3**, **8** and the last least important feature is **6**, **5**, **4** and **1**."
   ]
  },
  {
   "cell_type": "code",
   "execution_count": 85,
   "metadata": {},
   "outputs": [
    {
     "data": {
      "text/plain": [
       "[7, 2, 0, 3, 8, 6, 5, 4, 1]"
      ]
     },
     "execution_count": 85,
     "metadata": {},
     "output_type": "execute_result"
    }
   ],
   "source": [
    "features_important_index = list(feature_importance.sort_values(ascending=False).index)\n",
    "features_important_index"
   ]
  },
  {
   "cell_type": "markdown",
   "metadata": {},
   "source": [
    "Here we will create a list of most important features."
   ]
  },
  {
   "cell_type": "markdown",
   "metadata": {},
   "source": [
    "Now we will the the accurecy of the model with using the different features."
   ]
  },
  {
   "cell_type": "code",
   "execution_count": 86,
   "metadata": {},
   "outputs": [
    {
     "name": "stdout",
     "output_type": "stream",
     "text": [
      "The Accuracy score is 84.71849865951742 using 1 features that are [7]\n",
      "The Accuracy score is 90.55704498063747 using 2 features that are [7, 2]\n",
      "The Accuracy score is 94.51891569854037 using 3 features that are [7, 2, 0]\n",
      "The Accuracy score is 96.54453380994936 using 4 features that are [7, 2, 0, 3]\n",
      "The Accuracy score is 97.6169198689306 using 5 features that are [7, 2, 0, 3, 8]\n",
      "The Accuracy score is 97.31903485254692 using 6 features that are [7, 2, 0, 3, 8, 6]\n",
      "The Accuracy score is 97.8850163836759 using 7 features that are [7, 2, 0, 3, 8, 6, 5]\n",
      "The Accuracy score is 98.21268990169794 using 8 features that are [7, 2, 0, 3, 8, 6, 5, 4]\n",
      "The Accuracy score is 98.2424784033363 using 9 features that are [7, 2, 0, 3, 8, 6, 5, 4, 1]\n"
     ]
    }
   ],
   "source": [
    "from sklearn.model_selection import train_test_split\n",
    "from xgboost import XGBClassifier\n",
    "\n",
    "X_features = []\n",
    "y_features = [9]\n",
    "for i,feat in enumerate(features_important_index):\n",
    "    X_features.append(feat)\n",
    "    X = df4.iloc[:,X_features]\n",
    "    y = df4.iloc[:,y_features]\n",
    "    \n",
    "    X_train, X_test, y_train, y_test = train_test_split(X,y,test_size=0.25)\n",
    "    \n",
    "    xgb = XGBClassifier()\n",
    "    xgb.fit(X_train,y_train)\n",
    "    y_pred = xgb.predict(X_test)\n",
    "    acc_score = accuracy_score(y_test,y_pred)\n",
    "    \n",
    "    print(f\"The Accuracy score is {acc_score*100} using {i+1} features that are {X_features}\")"
   ]
  },
  {
   "cell_type": "markdown",
   "metadata": {},
   "source": [
    "This above code give us the accuracy score on different features.\n",
    "\n",
    "| Total Number Features | Name of the Features Columns | Accuracy Score |\n",
    "| --------------------- | ---------------------------- | -------------- |\n",
    "| 1 | [7] | 83.16% |\n",
    "| 2 | [7, 0] | 91.33% |\n",
    "| 3 | [7, 0, 2] | 95.26% |\n",
    "| 4 | [7, 0, 2, 3] | 96.03% |\n",
    "| 5 | [7, 0, 2, 3, 8] | 97.49% |\n",
    "| 6 | [7, 0, 2, 3, 8, 6] | 97.55% |\n",
    "| 7 | [7, 0, 2, 3, 8, 6, 5] | 98.27% |\n",
    "| 8 | [7, 0, 2, 3, 8, 6, 5, 4] | 98.18% |\n",
    "| 9 | [7, 0, 2, 3, 8, 6, 5, 4, 1] | 98.18% |"
   ]
  },
  {
   "cell_type": "markdown",
   "metadata": {},
   "source": [
    "From the above table we see that with 7 features the model gives us the best accuracy score instead of using 9 features.\n",
    "So for our final model we use [0, 2, 3, 5, 6, 7, 8] features."
   ]
  },
  {
   "cell_type": "code",
   "execution_count": null,
   "metadata": {},
   "outputs": [],
   "source": []
  }
 ],
 "metadata": {
  "kernelspec": {
   "display_name": "Python 3 (ipykernel)",
   "language": "python",
   "name": "python3"
  },
  "language_info": {
   "codemirror_mode": {
    "name": "ipython",
    "version": 3
   },
   "file_extension": ".py",
   "mimetype": "text/x-python",
   "name": "python",
   "nbconvert_exporter": "python",
   "pygments_lexer": "ipython3",
   "version": "3.11.4"
  }
 },
 "nbformat": 4,
 "nbformat_minor": 4
}
